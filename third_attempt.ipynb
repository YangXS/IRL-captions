{
 "cells": [
  {
   "cell_type": "code",
   "execution_count": 1,
   "metadata": {},
   "outputs": [],
   "source": [
    "import numpy as np\n",
    "import tensorflow as tf\n",
    "import layer_utils\n",
    "from image_utils import image_from_url\n",
    "from lstm import MaxLikelihoodLSTM\n",
    "from data import COCOData\n",
    "\n",
    "\n",
    "data = COCOData()\n",
    "lstm = MaxLikelihoodLSTM(tf.constant(data.word_embedding, dtype=tf.float32), learning_rate=5e-3)\n",
    "lstm.build_model()"
   ]
  },
  {
   "cell_type": "code",
   "execution_count": 2,
   "metadata": {},
   "outputs": [],
   "source": [
    "sess = tf.InteractiveSession()\n",
    "tf.global_variables_initializer().run()"
   ]
  },
  {
   "cell_type": "code",
   "execution_count": 3,
   "metadata": {},
   "outputs": [
    {
     "name": "stdout",
     "output_type": "stream",
     "text": [
      "iter 0, cross-entropy: 110.62133026123047, accuracy: 0.0\n",
      "iter 10, cross-entropy: 55.243927001953125, accuracy: 0.20629370212554932\n",
      "iter 20, cross-entropy: 46.41456604003906, accuracy: 0.28731343150138855\n",
      "iter 30, cross-entropy: 44.54823684692383, accuracy: 0.3223443329334259\n",
      "iter 40, cross-entropy: 42.5332145690918, accuracy: 0.3381294906139374\n",
      "iter 50, cross-entropy: 42.72709655761719, accuracy: 0.31521740555763245\n",
      "GT:a woman sitting in a bed with a laptop on her <UNK> <END>\n",
      "Test:a man is sitting on a <UNK> <END>\n",
      "------------------------------------------------------------\n",
      "iter 0, cross-entropy: 42.119178771972656, accuracy: 0.3513513505458832\n",
      "iter 10, cross-entropy: 39.49823760986328, accuracy: 0.3333333432674408\n",
      "iter 20, cross-entropy: 39.636505126953125, accuracy: 0.3412843942642212\n",
      "iter 30, cross-entropy: 40.0661506652832, accuracy: 0.3412969410419464\n",
      "iter 40, cross-entropy: 37.07657241821289, accuracy: 0.37294334173202515\n",
      "iter 50, cross-entropy: 38.88172149658203, accuracy: 0.35740071535110474\n",
      "GT:many different <UNK> flying over a large body of water <END>\n",
      "Test:a man in a <UNK> <UNK> on a skateboard <END>\n",
      "------------------------------------------------------------\n",
      "iter 0, cross-entropy: 37.805152893066406, accuracy: 0.34736841917037964\n",
      "iter 10, cross-entropy: 36.7474250793457, accuracy: 0.34296029806137085\n",
      "iter 20, cross-entropy: 35.842655181884766, accuracy: 0.37153419852256775\n",
      "iter 30, cross-entropy: 35.036991119384766, accuracy: 0.3533697724342346\n",
      "iter 40, cross-entropy: 36.52873992919922, accuracy: 0.3763066232204437\n",
      "iter 50, cross-entropy: 36.13196563720703, accuracy: 0.3567662537097931\n",
      "GT:woman standing getting ready to play a game of tennis <END>\n",
      "Test:a man <UNK> a <UNK> <UNK> <UNK> <UNK> <UNK> <END>\n",
      "------------------------------------------------------------\n"
     ]
    }
   ],
   "source": [
    "for i in range(3):\n",
    "    lstm.train(sess, data, max_iterations=50)\n",
    "    data.shuffle()\n",
    "    predictions, GT, logits = lstm.test(sess, data)\n",
    "    print(\"GT:{}\".format(data.decode(GT[0])))\n",
    "    print(\"Test:{}\".format(data.decode(predictions[0])))\n",
    "    print(\"------------------------------------------------------------\")"
   ]
  },
  {
   "cell_type": "code",
   "execution_count": 25,
   "metadata": {},
   "outputs": [
    {
     "data": {
      "text/plain": [
       "'group'"
      ]
     },
     "execution_count": 25,
     "metadata": {},
     "output_type": "execute_result"
    }
   ],
   "source": [
    "def decode_captions(captions, idx_to_word):\n",
    "    singleton = False\n",
    "    if captions.ndim == 1:\n",
    "        singleton = True\n",
    "        captions = captions[None]\n",
    "    decoded = []\n",
    "    N, T = captions.shape\n",
    "    for i in range(N):\n",
    "        words = []\n",
    "        for t in range(T):\n",
    "            word = idx_to_word[captions[i, t]]\n",
    "            if word != '<NULL>':\n",
    "                words.append(word)\n",
    "            if word == '<END>':\n",
    "                break\n",
    "        decoded.append(' '.join(words))\n",
    "    if singleton:\n",
    "        decoded = decoded[0]\n",
    "    return decoded\n",
    "\n",
    "# decode_captions(predictions[2:10], data.data['idx_to_word'])\n",
    "# predictions[2:10].shape\n"
   ]
  }
 ],
 "metadata": {
  "kernelspec": {
   "display_name": "Python 3",
   "language": "python",
   "name": "python3"
  },
  "language_info": {
   "codemirror_mode": {
    "name": "ipython",
    "version": 3
   },
   "file_extension": ".py",
   "mimetype": "text/x-python",
   "name": "python",
   "nbconvert_exporter": "python",
   "pygments_lexer": "ipython3",
   "version": "3.6.0"
  }
 },
 "nbformat": 4,
 "nbformat_minor": 2
}

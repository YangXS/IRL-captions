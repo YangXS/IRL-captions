{
 "cells": [
  {
   "cell_type": "code",
   "execution_count": 1,
   "metadata": {},
   "outputs": [],
   "source": [
    "import numpy as np\n",
    "import tensorflow as tf\n",
    "from image_utils import image_from_url\n",
    "from lstm import MaxLikelihoodLSTM, PolicyGradientLSTM\n",
    "from data import PGData, COCOData"
   ]
  },
  {
   "cell_type": "code",
   "execution_count": 2,
   "metadata": {},
   "outputs": [],
   "source": [
    "def initialize_uninitialized(sess):\n",
    "    ruv = set(sess.run(tf.report_uninitialized_variables()))\n",
    "    uv = [v for v in tf.global_variables() if v.name.split(':')[0].encode('ascii') in ruv]\n",
    "    tf.variables_initializer(uv).run()"
   ]
  },
  {
   "cell_type": "code",
   "execution_count": 3,
   "metadata": {},
   "outputs": [],
   "source": [
    "data = COCOData()\n",
    "pgdata = PGData()"
   ]
  },
  {
   "cell_type": "code",
   "execution_count": 4,
   "metadata": {},
   "outputs": [],
   "source": [
    "lstm = MaxLikelihoodLSTM(tf.constant(data.word_embedding, dtype=tf.float32), learning_rate=5e-3, batch_size=100)\n",
    "lstm.build_model()\n",
    "\n",
    "sess = tf.InteractiveSession()\n",
    "tf.global_variables_initializer().run()\n",
    "\n",
    "tf.reset_default_graph()\n",
    "sess.close()"
   ]
  },
  {
   "cell_type": "code",
   "execution_count": 5,
   "metadata": {},
   "outputs": [
    {
     "name": "stdout",
     "output_type": "stream",
     "text": [
      "INFO:tensorflow:Restoring parameters from models/mle500\n"
     ]
    }
   ],
   "source": [
    "sess = tf.InteractiveSession()\n",
    "lstm = PolicyGradientLSTM(tf.constant(pgdata.word_embedding, dtype=tf.float32), learning_rate=5e-4, batch_size=100)\n",
    "\n",
    "lstm.load_model(sess, \"models/mle500\")\n",
    "initialize_uninitialized(sess)"
   ]
  },
  {
   "cell_type": "code",
   "execution_count": 6,
   "metadata": {},
   "outputs": [],
   "source": [
    "losses = []\n",
    "actions = []\n",
    "rewards = []\n",
    "advantages = []\n",
    "end_masks = []"
   ]
  },
  {
   "cell_type": "code",
   "execution_count": 8,
   "metadata": {},
   "outputs": [
    {
     "name": "stdout",
     "output_type": "stream",
     "text": [
      "{'image_id': '1681', 'caption': 'a <UNK> in a kitchen next to <UNK> with a <UNK> with <UNK> in a <UNK>'}\n",
      "[{'caption': 'a sandwich with cheese and vegetables on a piece of plastic <END>'}, {'caption': 'a take out sandwich on a <UNK> <UNK> <END>'}, {'caption': 'a picture of a <UNK> sandwich with cheese and <UNK> <END>'}, {'caption': 'a sandwich with <UNK> and various other vegetables on top of a plastic bag <END>'}, {'caption': 'a close up of a sandwich in plastic <END>'}]\n",
      "1.02985 11647.0913184 1.38443211014 0.740971285151\n",
      "------------\n",
      "{'image_id': '82178', 'caption': 'a <UNK> of a brown <UNK> of a brown chair <END>'}\n",
      "[{'caption': 'fire hydrant has two <UNK> on it to <UNK> it a face <END>'}, {'caption': 'a fire hydrant with a face painted on the front in an open field <END>'}, {'caption': 'a fire hydrant is <UNK> at the bottom of a grassy hill <END>'}, {'caption': 'a grey fire hydrant with <UNK> eyes on it on grassy hill <END>'}, {'caption': 'a gray fire hydrant in the middle of an open green field <END>'}]\n",
      "0.956737 8676.36854844 1.34446899315 0.709444261184\n",
      "------------\n",
      "{'image_id': '60170', 'caption': 'a <UNK> of with a <UNK> of <UNK> and <UNK> on a <UNK> <UNK> train <END>'}\n",
      "[{'caption': 'a pizza sitting on a pizza stone in a kitchen <END>'}, {'caption': 'a pizza sits on a stone plate on top of a stove <END>'}, {'caption': 'a counter with a pizza stone and pizza and various kitchen items <END>'}, {'caption': 'a kitchen with a pizza sitting on a pizza stone <END>'}, {'caption': 'a close up of a pizza on a pan on a stove <END>'}]\n",
      "0.937702 11975.29965 1.40324650071 0.678800235838\n",
      "------------\n",
      "{'image_id': '23042', 'caption': 'a <UNK> of a <UNK> of some street on a road <END>'}\n",
      "[{'caption': 'two men on a carriage being drawn by a horse <END>'}, {'caption': 'two people riding in a horse drawn carriage down a street <END>'}, {'caption': 'people are riding in a horse drawn carriage down the street <END>'}, {'caption': 'people riding on top a horse pulled carriage <END>'}, {'caption': 'the horse is pulling the carriage <UNK> the city streets <END>'}]\n",
      "0.985507 9183.38937461 1.4541711645 0.72701925141\n",
      "------------\n",
      "{'image_id': '3725', 'caption': 'a person <UNK> with a cell phone in a kitchen <END>'}\n",
      "[{'caption': 'this is a sandwich on a plate near a glass of wine <END>'}, {'caption': 'a plate of food is set with a glass of wine <END>'}, {'caption': 'some food and a glass of wine on a table <END>'}, {'caption': 'a white plate with a sandwich on top of it <END>'}]\n",
      "1.09399 9906.54824648 1.48988394374 0.831779877625\n",
      "------------\n",
      "{'image_id': '3015', 'caption': 'a woman wearing a suit on a couch next to a phone <END>'}\n",
      "[{'caption': 'a woman <UNK> <UNK> a <UNK> hair in a <UNK> <END>'}, {'caption': 'the woman is <UNK> <UNK> a <UNK> hair <END>'}, {'caption': 'a woman with a hair <UNK> and a kid <END>'}, {'caption': 'the woman is <UNK> the little boys hair <END>'}, {'caption': 'there is a young boy that is getting his hair <UNK> <END>'}]\n",
      "0.876082 8170.41842773 1.4389167749 0.667000774693\n",
      "------------\n",
      "{'image_id': '24123', 'caption': 'a giraffe in a <UNK> in a <UNK> <END>'}\n",
      "[{'caption': 'a <UNK> view of two horses in a sandy area <END>'}, {'caption': 'two horses standing in the sand next to a female <END>'}, {'caption': 'a couple of horse standing in some snow <END>'}, {'caption': 'a couple of brown horses standing next to each other <END>'}, {'caption': 'two horses on the beach with people around <END>'}]\n",
      "0.867707 9167.37009336 1.41316177981 0.651849334983\n",
      "------------\n",
      "{'image_id': '77065', 'caption': 'a store <UNK> a <UNK> of a vase of <UNK> on a table cloth next to'}\n",
      "[{'caption': 'water from a broken hydrant <UNK> into a city street <END>'}, {'caption': 'the traffic is passing right by the water <UNK> <END>'}, {'caption': 'a city street with <UNK> looking <UNK> around <END>'}, {'caption': 'a man on a bike next to a fire hydrant <END>'}, {'caption': '<UNK> <UNK> of street and sidewalk from a fire hydrant <END>'}]\n",
      "1.00537 7544.43839844 1.42865674967 0.815796953872\n",
      "------------\n",
      "{'image_id': '47484', 'caption': 'a yellow and yellow bus on a street in a corner <END>'}\n",
      "[{'caption': 'a train on the tracks on a cloudy day <END>'}, {'caption': 'a red blue and yellow passenger train <UNK> along the track <END>'}, {'caption': 'there is a train going down the tracks <END>'}, {'caption': 'a blue yellow and red passenger train near a city <END>'}, {'caption': 'a red train traveling down tracks moving away from a tall building <END>'}]\n",
      "0.715919 8193.39959336 1.40697568731 0.584108588744\n",
      "------------\n",
      "{'image_id': '69424', 'caption': 'a dog laying on a laptop in a lap top of a car <END>'}\n",
      "[{'caption': 'a woman is holding a phone and sitting in a chair <END>'}, {'caption': 'a woman sits on a chair while using a wii remote <END>'}, {'caption': 'a person sitting in a chair near a wall playing nintendo wii <END>'}, {'caption': 'a young girl playing a wii video game <UNK> while sitting <END>'}, {'caption': 'a young woman sits at a table playing a video game <END>'}]\n",
      "1.03781 7667.5456 1.49226422084 0.863265583502\n",
      "------------\n",
      "{'image_id': '3667', 'caption': 'a person holding a cellphone by a <UNK> with a <UNK> in a house <END>'}\n",
      "[{'caption': 'man on skies preparing to take off on a slope <END>'}, {'caption': 'a skier gets ready to go down the slope <END>'}, {'caption': 'a person is leaning <UNK> on their skis <END>'}, {'caption': 'a person skiing down the side of a ski slope <END>'}, {'caption': 'several skiers <UNK> to go down snowy <UNK> <END>'}]\n",
      "0.86496 5912.68178711 1.42926721227 0.766552196359\n",
      "------------\n",
      "{'image_id': '27952', 'caption': 'a <UNK> of a <UNK> <UNK> in a <UNK> on a <UNK> on a <UNK> next'}\n",
      "[{'caption': 'a stop sign that has <UNK> <UNK> <UNK> on it <END>'}, {'caption': '<UNK> <UNK> on a stop sign in a <UNK> <END>'}, {'caption': 'a stop sign has the <UNK> <UNK> <UNK> underneath <END>'}, {'caption': 'a stop sign has <UNK> <UNK> below the <UNK> stop <END>'}, {'caption': 'a red stop sign that reads <UNK> under it <END>'}]\n",
      "0.707517 4744.12374375 1.41635325335 0.643350593881\n",
      "------------\n",
      "{'image_id': '65083', 'caption': 'a man <UNK> a <UNK> while riding the <UNK> a <UNK> <UNK> a train <END>'}\n",
      "[{'caption': 'a <UNK> board and both feet on a street <END>'}, {'caption': 'a close up view of someone with <UNK> on a skateboard <END>'}, {'caption': 'a person stands with one foot on a skateboard <END>'}, {'caption': 'one foot is on the ground and one is on the skateboard <END>'}, {'caption': 'a persons feet with one foot on top a skateboard <END>'}]\n",
      "0.839496 5725.59243711 1.44103749686 0.731003564478\n",
      "------------\n",
      "{'image_id': '44789', 'caption': 'a man <UNK> a <UNK> on a <UNK> on a person flying a kite <END>'}\n",
      "[{'caption': 'a boy holding a surfboard <UNK> out at the sea <END>'}, {'caption': 'a woman standing on a beach holding a surfboard <END>'}, {'caption': 'a person carrying a surfboard stands on a beach <END>'}, {'caption': 'a person in a <UNK> holding a surfboard while standing on a beach <END>'}, {'caption': 'a young man stands with his surfboard and looks out over the ocean <END>'}]\n",
      "0.858655 6624.05687344 1.47407569234 0.712219318283\n",
      "------------\n",
      "{'image_id': '68441', 'caption': 'a man jumping a <UNK> on a skateboard <END>'}\n",
      "[{'caption': 'a man in a baseball uniform about to throw a ball <END>'}, {'caption': 'a <UNK> pitcher getting ready to throw the baseball <END>'}, {'caption': 'a baseball player making an <UNK> pitch on a <UNK> <UNK> <END>'}, {'caption': 'a man is throwing a baseball while on a baseball field <END>'}, {'caption': 'a baseball pitcher with an orange shirt is throwing a ball <END>'}]\n",
      "0.732712 6899.98876523 1.43486012588 0.654037312004\n",
      "------------\n",
      "{'image_id': '45602', 'caption': 'a <UNK> sitting on a desk with a laptop <END>'}\n",
      "[{'caption': 'a brown and black dog on desk next to a laptop <END>'}, {'caption': 'a <UNK> dog on a desk with leash by computers <END>'}, {'caption': 'the small dog is standing on the office desk <END>'}, {'caption': 'a <UNK> on a leash standing on a computer desk <END>'}]\n",
      "1.03384 6924.49532773 1.41059802533 0.877324444748\n",
      "------------\n",
      "{'image_id': '68350', 'caption': 'a <UNK> tennis player <UNK> a <UNK> of a tennis match <END>'}\n",
      "[{'caption': 'a crowd is watching a baseball player get ready to hit the ball <END>'}, {'caption': 'baseball game on a baseball field with <UNK> <END>'}, {'caption': 'a baseball player is up to bat and <UNK> on the high side <END>'}, {'caption': 'a baseball player holding a bat in a <UNK> box <END>'}, {'caption': 'a baseball player swinging a bat on a field <END>'}]\n"
     ]
    },
    {
     "name": "stdout",
     "output_type": "stream",
     "text": [
      "0.672183 6692.28058594 1.41918448921 0.64209840138\n",
      "------------\n",
      "{'image_id': '8457', 'caption': 'a wooden corner of a motorcycle <UNK> a <UNK> <END>'}\n",
      "[{'caption': 'three people are on a sidewalk with a fire hydrant <END>'}, {'caption': '<UNK> guys and a girl are posing in front of a street sign <END>'}, {'caption': 'people are posing by a fire hydrant and a stop light <END>'}, {'caption': 'three people posing for a picture with a street sign and a fire hydrant <END>'}, {'caption': 'the three friends are posing for a photo next to the fire hydrant <END>'}]\n",
      "0.677008 4500.83104844 1.46426530638 0.627937002316\n",
      "------------\n",
      "{'image_id': '49306', 'caption': 'a group of <UNK> <UNK> over a <UNK> of a building for a <UNK> <END>'}\n",
      "[{'caption': 'people and their motor <UNK> waiting on a city corner <END>'}, {'caption': 'four people are on the street corner two are using cell phones <END>'}, {'caption': 'four people are standing on the sidewalk waiting for the bus <END>'}, {'caption': 'two women stand talking to two men on the city street <END>'}, {'caption': 'a group of people standing with luggage by a scooter <END>'}]\n",
      "0.927746 6437.56604844 1.45502791724 0.905181606579\n",
      "------------\n",
      "{'image_id': '58461', 'caption': 'a bedroom with a <UNK> <UNK> and a desk <END>'}\n",
      "[{'caption': 'a bathtub in an <UNK> bathroom near a big window <END>'}, {'caption': 'a picture of someones bathroom <UNK> to a bedroom <END>'}, {'caption': 'an <UNK> <UNK> bathroom with tub <UNK> shower and sofa <END>'}, {'caption': 'a large fancy bathroom features a tub by a window <END>'}]\n",
      "0.662167 4907.80100586 1.45052470902 0.638415786315\n",
      "------------\n",
      "{'image_id': '62867', 'caption': 'a man with a <UNK> on a <UNK> of a <UNK> <END>'}\n",
      "[{'caption': 'a man walking down a street with a bag of luggage <END>'}, {'caption': 'a man walking with a <UNK> case on the street <END>'}, {'caption': 'a young man walking down the street with his suitcase <END>'}, {'caption': 'a man <UNK> a <UNK> suitcase along a city street <END>'}, {'caption': 'a man carrying a luggage bag down the street <END>'}]\n",
      "0.644342 4557.95234375 1.47299269608 0.670468440309\n",
      "------------\n",
      "{'image_id': '61810', 'caption': 'a with a building display on a table with a <UNK> <END>'}\n",
      "[{'caption': 'a sign has been <UNK> to <UNK> <UNK> <UNK> <END>'}, {'caption': '<UNK> stop <UNK> sign all way and no parking <UNK> <END>'}, {'caption': 'a stop sign has <UNK> <UNK> place on it <END>'}, {'caption': 'three street signs <UNK> <UNK> that <UNK> <UNK> stop and <UNK> park <END>'}]\n",
      "1.03006 4197.35673594 1.4670027212 0.959125595382\n",
      "------------\n",
      "{'image_id': '18363', 'caption': 'a <UNK> with a <UNK> of a <UNK> out on a table with a <UNK> <END>'}\n",
      "[{'caption': 'two little teddy bears looking at a <UNK> one in a basket <END>'}, {'caption': 'a basket with a baby stuffed animal with two teddy bears looking over it <END>'}, {'caption': 'a teddy bear inside a basket and others outside <END>'}, {'caption': 'two teddy bears <UNK> over a basket that has a <UNK> teddy bear in it <END>'}]\n",
      "0.611696 4994.72331094 1.49798700377 0.663181245861\n",
      "------------\n",
      "{'image_id': '58445', 'caption': 'a <UNK> of a <UNK> with a <UNK> on a room <END>'}\n",
      "[{'caption': 'a small room with a small counter and a bike on the wall <END>'}, {'caption': 'a bicycle mounted to the side of a wall <END>'}, {'caption': 'a bike hanging on the wall of an apartment <UNK> <END>'}, {'caption': 'a bike hanging on a wall in a room <END>'}]\n",
      "0.573063 4573.29248594 1.46621931347 0.616698795558\n",
      "------------\n",
      "{'image_id': '53046', 'caption': 'a man <UNK> a <UNK> on a surfboard in a <UNK> <END>'}\n",
      "[{'caption': 'a girl in a white dress at the beach with two surfboards <END>'}, {'caption': 'a girl stands on a beach between two surf boards at sunset <END>'}, {'caption': 'a woman in a white <UNK> is standing on a <UNK> beach between two surfboards <END>'}, {'caption': 'a female in a white dress sand and two white surfboards <END>'}, {'caption': 'a woman is standing on a surfboard at the beach <END>'}]\n",
      "0.894736 5518.44848594 1.48691465087 0.910105447187\n",
      "------------\n",
      "{'image_id': '76455', 'caption': 'a <UNK> of a man doing a <UNK> on a <UNK> of a snowboard <END>'}\n",
      "[{'caption': 'a ski <UNK> surrounded by people riding skis <END>'}, {'caption': 'a ski <UNK> with people in front on skis and walking in the snow <END>'}, {'caption': 'the <UNK> traffic at the top of a ski <UNK> <END>'}, {'caption': 'people are on a snowy mountain near a ski <UNK> <END>'}, {'caption': 'a ski <UNK> on a snowy mountain top with skiers <END>'}]\n",
      "0.678149 3503.83148594 1.4904263929 0.740690763378\n",
      "------------\n",
      "{'image_id': '59829', 'caption': 'a man sitting down a <UNK> bed with a <UNK> next to a <UNK> <END>'}\n",
      "[{'caption': 'a dog and stuffed teddy bear in a pen <END>'}, {'caption': 'a <UNK> lying on a teddy bear in a dog <UNK> <END>'}, {'caption': 'the young dog is laying in his bed in the cage <END>'}, {'caption': 'the <UNK> is sleeping with the teddy bear <END>'}, {'caption': 'a dog laying in a dog bed with a stuffed animal <END>'}]\n",
      "0.654575 3829.52573594 1.54010815741 0.709815382317\n",
      "------------\n",
      "{'image_id': '42223', 'caption': 'a wooden herd of a <UNK> in a <UNK> on a <UNK> of a <UNK> <END>'}\n",
      "[{'caption': 'two birds sit on a rock in the middle of water <END>'}, {'caption': 'a bird sits on a rock in the water <END>'}, {'caption': 'a couple of birds sitting on a rock in a lake <END>'}, {'caption': 'two birds on a rock in the middle of a lake <END>'}, {'caption': 'two birds are standing on a very <UNK> rock island <END>'}]\n",
      "0.663209 5617.33375 1.46738193077 0.718237570407\n",
      "------------\n",
      "{'image_id': '80184', 'caption': 'a <UNK> of in a <UNK> on a motorcycle and <UNK> in the <UNK> <END>'}\n",
      "[{'caption': 'a train sitting on train tracks next to a woman <END>'}, {'caption': 'there is a woman standing in front of this red and black train <END>'}, {'caption': 'a woman is standing by an old train <END>'}, {'caption': 'a woman is standing beside two antique trains <END>'}, {'caption': 'the large old train has large red <UNK> <END>'}]\n",
      "0.678152 4217.19262344 1.43697701021 0.749424866574\n",
      "------------\n",
      "{'image_id': '23052', 'caption': 'a <UNK> with a woman on a table in a <UNK> <END>'}\n",
      "[{'caption': 'a bunch of bananas are on a white plate <END>'}, {'caption': 'a plate full of bananas sitting on a table <END>'}, {'caption': 'a bunch of bananas sit on a plate in the foreground of a <UNK> area <END>'}, {'caption': 'a bunch of bananas is sitting on a plate on an outdoor table <END>'}, {'caption': 'a bunch or <UNK> bananas sitting on top of a white plate <END>'}]\n",
      "0.765272 4250.88349844 1.46105796978 0.783202221077\n",
      "------------\n",
      "{'image_id': '20719', 'caption': 'a bus is outside a truck on a <UNK> in a <UNK> <END>'}\n",
      "[{'caption': 'the yellow double decker bus drives down a narrow street <END>'}, {'caption': 'a double decker bus driving down a <UNK> road <END>'}, {'caption': 'a yellow double decker bus driving down a street <END>'}, {'caption': 'a yellow big bus moving along the street <END>'}, {'caption': 'a yellow double decker bus drives down a <UNK> street <END>'}]\n",
      "0.672641 5419.56274648 1.43125319602 0.734325351704\n",
      "------------\n",
      "{'image_id': '54804', 'caption': 'a giraffe in a field <UNK> a <UNK> <END>'}\n",
      "[{'caption': 'a horse standing on top of a dirt field <END>'}, {'caption': 'some horses standing in a open <UNK> field <END>'}, {'caption': 'horses in large <UNK> at outdoor area grazing and walking <END>'}, {'caption': 'a horse with its back <UNK> off the ground and <UNK> horses in the background <END>'}]\n",
      "0.50662 5283.69099961 1.47980249171 0.574473072013\n",
      "------------\n",
      "{'image_id': '65949', 'caption': 'a <UNK> in a <UNK> a <UNK> on a bed <END>'}\n",
      "[{'caption': 'a dog is making a <UNK> face at a cat <END>'}, {'caption': 'a small kitten and a <UNK> <UNK> under a table <END>'}, {'caption': 'a small dog and cat playing with each other <END>'}, {'caption': 'a black cat with <UNK> under a table <END>'}, {'caption': 'a black dog has his mouth open while looking at a black kitten <END>'}]\n",
      "0.69309 3081.2714 1.49966252487 0.851568507812\n",
      "------------\n",
      "{'image_id': '71208', 'caption': 'a <UNK> of a <UNK> with a <UNK> bed in a parking lot <END>'}\n",
      "[{'caption': 'a man in blue <UNK> at a <UNK> <UNK> cart <END>'}, {'caption': 'there are bananas and <UNK> on the counter <END>'}, {'caption': 'a fruit <UNK> <UNK> bananas and other fruit <END>'}, {'caption': 'a <UNK> smiles behind his covered produce stand <END>'}, {'caption': 'a man <UNK> to a market <UNK> bananas and <UNK> in an outside area <END>'}]\n"
     ]
    },
    {
     "name": "stdout",
     "output_type": "stream",
     "text": [
      "0.600187 2594.77062344 1.49171339754 0.741292311337\n",
      "------------\n",
      "{'image_id': '17451', 'caption': 'a <UNK> with a person standing in a <UNK> on a couch <END>'}\n",
      "[{'caption': 'a group of adults at an asian fruit market <END>'}, {'caption': 'a fruit market outdoors with about five women <UNK> it <END>'}, {'caption': 'a number of fruits on plastic containers <END>'}, {'caption': 'several people shop around an outdoor vegetable market <END>'}, {'caption': 'there is <UNK> of fresh fruit being <UNK> at the market <END>'}]\n",
      "0.625679 3757.02786094 1.45889568085 0.768431634318\n",
      "------------\n",
      "{'image_id': '32646', 'caption': 'a <UNK> on a <UNK> in a <UNK> <END>'}\n",
      "[{'caption': 'a laptop computer sitting on a wooden table next to a mouse <END>'}, {'caption': 'apple computers <UNK> and <UNK> new <UNK> mouse <END>'}, {'caption': 'a white apple mouse in front of an apple laptop <END>'}, {'caption': 'a white mouse and a laptop on a tan table <END>'}, {'caption': 'a laptop computer sitting on a desk next to a mouse <END>'}]\n",
      "0.600854 1435.00749375 1.51384885248 0.845781826347\n",
      "------------\n",
      "{'image_id': '55007', 'caption': 'a <UNK> of a bed <UNK> out on a bed <END>'}\n",
      "[{'caption': 'an empty bed in a bedroom with light coming out from underneath it <END>'}, {'caption': 'a <UNK> light bedroom with a bed and four pillows <END>'}, {'caption': 'a <UNK> bed is lit from beneath and behind <END>'}, {'caption': 'a bed with <UNK> behind the head board <END>'}]\n",
      "0.402683 2375.18381836 1.53252726762 0.567254273884\n",
      "------------\n",
      "{'image_id': '46262', 'caption': 'a <UNK> a <UNK> of a <UNK> with a <UNK> in a <UNK> <END>'}\n",
      "[{'caption': 'two zebras and a giraffe are in a dirt lot <UNK> a pool of water <END>'}, {'caption': 'giraffes and other animals standing near a <UNK> <UNK> hole <END>'}, {'caption': 'a lake of water sitting on top of a dirt field <END>'}, {'caption': 'looking across a <UNK> enclosure where zebras and giraffes are standing <END>'}, {'caption': 'a couple of zebras and a giraffe near a body of water <END>'}]\n",
      "0.649626 2995.84099648 1.53826731725 0.919921425649\n",
      "------------\n",
      "{'image_id': '28208', 'caption': 'a <UNK> looks at a <UNK> with a <UNK> on a <UNK> <END>'}\n",
      "[{'caption': 'two <UNK> tables with various fruits that <UNK> <UNK> and <UNK> <END>'}, {'caption': '<UNK> of fruit are on a wooden table <END>'}, {'caption': 'fresh fruit out on tables for display during a sunny day <END>'}, {'caption': '<UNK> and <UNK> displayed in <UNK> on tables <END>'}, {'caption': 'a couple of wooden <UNK> stopped with fresh fruit <END>'}]\n",
      "0.554503 2291.12373398 1.44156568986 0.736945308438\n",
      "------------\n",
      "{'image_id': '33879', 'caption': 'a giraffe in a <UNK> on a <UNK> in a <UNK> <END>'}\n",
      "[{'caption': 'a very old <UNK> church has a clock that says the time is <UNK> <END>'}, {'caption': 'a church with many <UNK> and <UNK> on it <END>'}, {'caption': 'a picture of a large <UNK> with clock in the center <END>'}, {'caption': 'there is a clock on the wall of the church just under the cross <END>'}, {'caption': 'a large stone church with a clock face at the top <END>'}]\n",
      "0.540499 2156.97168594 1.59958520602 0.797989564567\n",
      "------------\n",
      "{'image_id': '53144', 'caption': 'a giraffe in a <UNK> while holding a <UNK> in a bright day <END>'}\n",
      "[{'caption': 'a tall <UNK> filled tree with two kites <UNK> in it <END>'}, {'caption': 'one kite flying and two <UNK> in a tree <END>'}, {'caption': 'top of a tree with the <UNK> of a kite <END>'}, {'caption': 'a bunch of kites flying around a tree during the day <END>'}, {'caption': 'two kites are <UNK> in a tree and <UNK> is in the air <END>'}]\n",
      "0.441262 3425.96412344 1.49982801533 0.638671897971\n",
      "------------\n",
      "{'image_id': '57824', 'caption': 'a <UNK> of a black a laptop and a <UNK> in a <UNK> <END>'}\n",
      "[{'caption': 'a green piece of luggage sitting on <UNK> floor <END>'}, {'caption': 'two pieces of luggage are setting on the floor <END>'}, {'caption': 'a bag of luggage sitting on the ground near other luggage <END>'}, {'caption': 'a pair of suitcases are set by a wall <END>'}, {'caption': 'two suitcases sitting side by side next to a wall <END>'}]\n",
      "0.571626 2210.26811523 1.49097359482 0.846623974074\n",
      "------------\n",
      "{'image_id': '13739', 'caption': 'a <UNK> with a <UNK> in a <UNK> on a <UNK> <END>'}\n",
      "[{'caption': 'there is a brown cow that is on this small hill <END>'}, {'caption': 'a brown <UNK> some brown grass a hill and trees <END>'}, {'caption': 'a cow grazing in a grassy field with trees and <UNK> in the background <END>'}, {'caption': 'a brown cow standing on a grass covered hillside <END>'}]\n",
      "0.461884 1630.36276523 1.45257184397 0.766309579357\n",
      "------------\n",
      "{'image_id': '39959', 'caption': 'a <UNK> with a a stove and <UNK> on a table <END>'}\n",
      "[{'caption': 'there is a room with the <UNK> of gray in their <END>'}, {'caption': 'an <UNK> set of <UNK> in a house with construction <UNK> on the floor <END>'}, {'caption': '<UNK> being <UNK> on the <UNK> of a house <END>'}, {'caption': 'a house is being <UNK> <UNK> or <UNK> <END>'}, {'caption': 'a room appears to be being <UNK> on the walls and floor <END>'}]\n",
      "0.352778 1760.43369375 1.50137480053 0.69236612413\n",
      "------------\n",
      "{'image_id': '5861', 'caption': 'a man is riding a skateboard on a <UNK> next to a <UNK> <END>'}\n",
      "[{'caption': 'a man riding a surfboard on a wave in the ocean <END>'}, {'caption': 'a person is on a surf board riding a wave <END>'}, {'caption': 'a surfer in a <UNK> riding his board in the water <END>'}, {'caption': 'a person trying to <UNK> on their board while surfing a wave <END>'}, {'caption': 'a surfer rides the waves in the ocean <END>'}]\n",
      "0.391559 1775.04273086 1.51237453696 0.702048635868\n",
      "------------\n",
      "{'image_id': '18814', 'caption': 'a <UNK> with a <UNK> in a <UNK> on a <UNK> <END>'}\n",
      "[{'caption': 'a <UNK> suitcase sits in a <UNK> parking lot <END>'}, {'caption': 'several cars in an <UNK> parking lot with snow <END>'}, {'caption': 'four cars <UNK> in a snowy parking lot and a black suitcase <END>'}, {'caption': 'cars in a parking lot some covered in snow <END>'}]\n",
      "0.42011 1316.355525 1.46916682456 0.766794133385\n",
      "------------\n",
      "{'image_id': '36739', 'caption': 'a <UNK> with a <UNK> on a <UNK> while a is while on a <UNK> <END>'}\n",
      "[{'caption': 'a man in a red shirt hitting a tennis ball with a racquet <END>'}, {'caption': 'a player <UNK> at a tennis ball that is high in the air <END>'}, {'caption': 'a person <UNK> to hit a serve playing tennis <END>'}, {'caption': 'the man in the red shirt is going to hit the ball with his racket <END>'}]\n",
      "0.435668 2463.63081211 1.53446107646 0.723154866543\n",
      "------------\n",
      "{'image_id': '47690', 'caption': 'a <UNK> and a <UNK> on a <UNK> outside a <UNK> <END>'}\n",
      "[{'caption': 'a man <UNK> to <UNK> a giant chair with a horse statue on top <END>'}, {'caption': 'a man trying to <UNK> a big red chair with a <UNK> horse on it <END>'}, {'caption': 'a man standing under a giant red chair with a wooden horse seated on it <END>'}]\n",
      "0.572998 2029.38119375 1.48473279383 0.875750828326\n",
      "------------\n",
      "{'image_id': '4', 'caption': 'a <UNK> in a <UNK> on a <UNK> <END>'}\n",
      "[{'caption': 'a child and woman are cooking in the kitchen <END>'}, {'caption': 'a woman <UNK> at a young girls cooking on the <UNK> <END>'}, {'caption': 'a young girl and a woman preparing food in a kitchen <END>'}, {'caption': 'a young person and an older person in a kitchen <END>'}, {'caption': 'two women cooking on stove in a kitchen together <END>'}]\n",
      "0.447714 2781.91457461 1.45323565327 0.639921650066\n",
      "------------\n",
      "{'image_id': '79199', 'caption': 'a <UNK> with a <UNK> outside a <UNK> on a train station <END>'}\n",
      "[{'caption': 'a white and red sign is on a pole <END>'}, {'caption': 'a street sign that <UNK> <UNK> <UNK> while walking <END>'}, {'caption': 'yellow school buses <UNK> behind a walking <UNK> sign <END>'}, {'caption': 'red and white sign on a <UNK> and a city center <END>'}, {'caption': 'a city street with a no walking sign near it <END>'}]\n",
      "0.462465 1565.30976211 1.56190342568 0.801492062773\n",
      "------------\n"
     ]
    }
   ],
   "source": [
    "for i in range(50):\n",
    "    loss, action, reward, advantage = lstm.train(sess, pgdata)\n",
    "    pgdata.shuffle()\n",
    "    print(np.mean(loss), np.var(action), np.mean(reward), np.mean(advantage))\n",
    "    print(\"------------\")\n",
    "    losses.extend(loss)\n",
    "    actions.extend(action)\n",
    "    rewards.extend(reward)\n",
    "    advantages.extend(advantage)"
   ]
  },
  {
   "cell_type": "code",
   "execution_count": 7,
   "metadata": {},
   "outputs": [],
   "source": [
    "tf.reset_default_graph()\n",
    "sess.close()"
   ]
  },
  {
   "cell_type": "code",
   "execution_count": 18,
   "metadata": {},
   "outputs": [
    {
     "data": {
      "image/png": "[encoded data removed]",
      "text/plain": [
       "<matplotlib.figure.Figure at 0x24632db00>"
      ]
     },
     "metadata": {},
     "output_type": "display_data"
    }
   ],
   "source": [
    "import matplotlib.pyplot as plt\n",
    "\n",
    "rewards_arr = np.array(rewards)\n",
    "plt.plot(np.mean(np.reshape(rewards_arr[:, -1], (75, 100)), axis=1))\n",
    "# plt.plot(rewards_arr[:, -1])\n",
    "plt.show()"
   ]
  },
  {
   "cell_type": "code",
   "execution_count": 21,
   "metadata": {},
   "outputs": [],
   "source": [
    "from pyciderevalcap.eval import CIDErEvalCap as ciderEval\n",
    "cand_list, ref = [], {}\n",
    "for i in range(1000, 2000):\n",
    "    idx = str(i)\n",
    "    ref[idx]  = pgdata.data['train_image_idx_to_captions'][idx][0:-1]\n",
    "    cand_list.append({'image_id': idx, 'caption': pgdata.data['train_image_idx_to_captions'][idx][-1]['caption']})\n",
    "\n",
    "scorer = ciderEval(ref, cand_list, \"coco-val-df\")\n",
    "scores = scorer.evaluate()"
   ]
  },
  {
   "cell_type": "code",
   "execution_count": 22,
   "metadata": {},
   "outputs": [
    {
     "data": {
      "text/plain": [
       "1.7911916746177574"
      ]
     },
     "execution_count": 22,
     "metadata": {},
     "output_type": "execute_result"
    }
   ],
   "source": [
    "np.mean(scores)"
   ]
  },
  {
   "cell_type": "code",
   "execution_count": null,
   "metadata": {},
   "outputs": [],
   "source": []
  }
 ],
 "metadata": {
  "kernelspec": {
   "display_name": "Python 3",
   "language": "python",
   "name": "python3"
  },
  "language_info": {
   "codemirror_mode": {
    "name": "ipython",
    "version": 3
   },
   "file_extension": ".py",
   "mimetype": "text/x-python",
   "name": "python",
   "nbconvert_exporter": "python",
   "pygments_lexer": "ipython3",
   "version": "3.6.0"
  }
 },
 "nbformat": 4,
 "nbformat_minor": 2
}

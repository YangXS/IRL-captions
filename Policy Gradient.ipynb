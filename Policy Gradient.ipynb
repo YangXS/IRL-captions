{
 "cells": [
  {
   "cell_type": "code",
   "execution_count": 1,
   "metadata": {},
   "outputs": [],
   "source": [
    "import numpy as np\n",
    "import tensorflow as tf\n",
    "from image_utils import image_from_url\n",
    "from lstm import MaxLikelihoodLSTM, PolicyGradientLSTM\n",
    "from data import PGData, COCOData"
   ]
  },
  {
   "cell_type": "code",
   "execution_count": 2,
   "metadata": {},
   "outputs": [],
   "source": [
    "def initialize_uninitialized(sess):\n",
    "    ruv = set(sess.run(tf.report_uninitialized_variables()))\n",
    "    uv = [v for v in tf.global_variables() if v.name.split(':')[0].encode('ascii') in ruv]\n",
    "    tf.variables_initializer(uv).run()"
   ]
  },
  {
   "cell_type": "code",
   "execution_count": 3,
   "metadata": {},
   "outputs": [],
   "source": [
    "data = COCOData()\n",
    "pgdata = PGData()"
   ]
  },
  {
   "cell_type": "code",
   "execution_count": 4,
   "metadata": {},
   "outputs": [],
   "source": [
    "lstm = MaxLikelihoodLSTM(tf.constant(data.word_embedding, dtype=tf.float32), learning_rate=5e-3, batch_size=100)\n",
    "lstm.build_model()\n",
    "\n",
    "sess = tf.InteractiveSession()\n",
    "tf.global_variables_initializer().run()\n",
    "\n",
    "tf.reset_default_graph()\n",
    "sess.close()"
   ]
  },
  {
   "cell_type": "code",
   "execution_count": 5,
   "metadata": {},
   "outputs": [
    {
     "name": "stdout",
     "output_type": "stream",
     "text": [
      "INFO:tensorflow:Restoring parameters from models/mle500\n"
     ]
    }
   ],
   "source": [
    "sess = tf.InteractiveSession()\n",
    "lstm = PolicyGradientLSTM(tf.constant(pgdata.word_embedding, dtype=tf.float32), learning_rate=5e-4, batch_size=100)\n",
    "\n",
    "lstm.load_model(sess, \"models/mle500\")\n",
    "initialize_uninitialized(sess)"
   ]
  },
  {
   "cell_type": "code",
   "execution_count": 6,
   "metadata": {},
   "outputs": [],
   "source": [
    "losses = []\n",
    "actions = []\n",
    "rewards = []\n",
    "advantages = []\n",
    "end_masks = []"
   ]
  },
  {
   "cell_type": "code",
   "execution_count": 8,
   "metadata": {},
   "outputs": [
    {
     "name": "stdout",
     "output_type": "stream",
     "text": [
      "{'image_id': '1681', 'caption': 'a <UNK> in a kitchen next to <UNK> with a <UNK> with <UNK> in a <UNK>'}\n",
      "[{'caption': 'a sandwich with cheese and vegetables on a piece of plastic <END>'}, {'caption': 'a take out sandwich on a <UNK> <UNK> <END>'}, {'caption': 'a picture of a <UNK> sandwich with cheese and <UNK> <END>'}, {'caption': 'a sandwich with <UNK> and various other vegetables on top of a plastic bag <END>'}, {'caption': 'a close up of a sandwich in plastic <END>'}]\n",
      "1.02985 11647.0913184 1.38443211014 0.740971285151\n",
      "------------\n",
      "{'image_id': '82178', 'caption': 'a <UNK> of a brown <UNK> of a brown chair <END>'}\n",
      "[{'caption': 'fire hydrant has two <UNK> on it to <UNK> it a face <END>'}, {'caption': 'a fire hydrant with a face painted on the front in an open field <END>'}, {'caption': 'a fire hydrant is <UNK> at the bottom of a grassy hill <END>'}, {'caption': 'a grey fire hydrant with <UNK> eyes on it on grassy hill <END>'}, {'caption': 'a gray fire hydrant in the middle of an open green field <END>'}]\n",
      "0.956737 8676.36854844 1.34446899315 0.709444261184\n",
      "------------\n",
      "{'image_id': '60170', 'caption': 'a <UNK> of with a <UNK> of <UNK> and <UNK> on a <UNK> <UNK> train <END>'}\n",
      "[{'caption': 'a pizza sitting on a pizza stone in a kitchen <END>'}, {'caption': 'a pizza sits on a stone plate on top of a stove <END>'}, {'caption': 'a counter with a pizza stone and pizza and various kitchen items <END>'}, {'caption': 'a kitchen with a pizza sitting on a pizza stone <END>'}, {'caption': 'a close up of a pizza on a pan on a stove <END>'}]\n",
      "0.937702 11975.29965 1.40324650071 0.678800235838\n",
      "------------\n",
      "{'image_id': '23042', 'caption': 'a <UNK> of a <UNK> of some street on a road <END>'}\n",
      "[{'caption': 'two men on a carriage being drawn by a horse <END>'}, {'caption': 'two people riding in a horse drawn carriage down a street <END>'}, {'caption': 'people are riding in a horse drawn carriage down the street <END>'}, {'caption': 'people riding on top a horse pulled carriage <END>'}, {'caption': 'the horse is pulling the carriage <UNK> the city streets <END>'}]\n",
      "0.985507 9183.38937461 1.4541711645 0.72701925141\n",
      "------------\n",
      "{'image_id': '3725', 'caption': 'a person <UNK> with a cell phone in a kitchen <END>'}\n",
      "[{'caption': 'this is a sandwich on a plate near a glass of wine <END>'}, {'caption': 'a plate of food is set with a glass of wine <END>'}, {'caption': 'some food and a glass of wine on a table <END>'}, {'caption': 'a white plate with a sandwich on top of it <END>'}]\n",
      "1.09399 9906.54824648 1.48988394374 0.831779877625\n",
      "------------\n",
      "{'image_id': '3015', 'caption': 'a woman wearing a suit on a couch next to a phone <END>'}\n",
      "[{'caption': 'a woman <UNK> <UNK> a <UNK> hair in a <UNK> <END>'}, {'caption': 'the woman is <UNK> <UNK> a <UNK> hair <END>'}, {'caption': 'a woman with a hair <UNK> and a kid <END>'}, {'caption': 'the woman is <UNK> the little boys hair <END>'}, {'caption': 'there is a young boy that is getting his hair <UNK> <END>'}]\n",
      "0.876082 8170.41842773 1.4389167749 0.667000774693\n",
      "------------\n",
      "{'image_id': '24123', 'caption': 'a giraffe in a <UNK> in a <UNK> <END>'}\n",
      "[{'caption': 'a <UNK> view of two horses in a sandy area <END>'}, {'caption': 'two horses standing in the sand next to a female <END>'}, {'caption': 'a couple of horse standing in some snow <END>'}, {'caption': 'a couple of brown horses standing next to each other <END>'}, {'caption': 'two horses on the beach with people around <END>'}]\n",
      "0.867707 9167.37009336 1.41316177981 0.651849334983\n",
      "------------\n",
      "{'image_id': '77065', 'caption': 'a store <UNK> a <UNK> of a vase of <UNK> on a table cloth next to'}\n",
      "[{'caption': 'water from a broken hydrant <UNK> into a city street <END>'}, {'caption': 'the traffic is passing right by the water <UNK> <END>'}, {'caption': 'a city street with <UNK> looking <UNK> around <END>'}, {'caption': 'a man on a bike next to a fire hydrant <END>'}, {'caption': '<UNK> <UNK> of street and sidewalk from a fire hydrant <END>'}]\n",
      "1.00537 7544.43839844 1.42865674967 0.815796953872\n",
      "------------\n",
      "{'image_id': '47484', 'caption': 'a yellow and yellow bus on a street in a corner <END>'}\n",
      "[{'caption': 'a train on the tracks on a cloudy day <END>'}, {'caption': 'a red blue and yellow passenger train <UNK> along the track <END>'}, {'caption': 'there is a train going down the tracks <END>'}, {'caption': 'a blue yellow and red passenger train near a city <END>'}, {'caption': 'a red train traveling down tracks moving away from a tall building <END>'}]\n",
      "0.715919 8193.39959336 1.40697568731 0.584108588744\n",
      "------------\n",
      "{'image_id': '69424', 'caption': 'a dog laying on a laptop in a lap top of a car <END>'}\n",
      "[{'caption': 'a woman is holding a phone and sitting in a chair <END>'}, {'caption': 'a woman sits on a chair while using a wii remote <END>'}, {'caption': 'a person sitting in a chair near a wall playing nintendo wii <END>'}, {'caption': 'a young girl playing a wii video game <UNK> while sitting <END>'}, {'caption': 'a young woman sits at a table playing a video game <END>'}]\n",
      "1.03781 7667.5456 1.49226422084 0.863265583502\n",
      "------------\n",
      "{'image_id': '3667', 'caption': 'a person holding a cellphone by a <UNK> with a <UNK> in a house <END>'}\n",
      "[{'caption': 'man on skies preparing to take off on a slope <END>'}, {'caption': 'a skier gets ready to go down the slope <END>'}, {'caption': 'a person is leaning <UNK> on their skis <END>'}, {'caption': 'a person skiing down the side of a ski slope <END>'}, {'caption': 'several skiers <UNK> to go down snowy <UNK> <END>'}]\n",
      "0.86496 5912.68178711 1.42926721227 0.766552196359\n",
      "------------\n",
      "{'image_id': '27952', 'caption': 'a <UNK> of a <UNK> <UNK> in a <UNK> on a <UNK> on a <UNK> next'}\n",
      "[{'caption': 'a stop sign that has <UNK> <UNK> <UNK> on it <END>'}, {'caption': '<UNK> <UNK> on a stop sign in a <UNK> <END>'}, {'caption': 'a stop sign has the <UNK> <UNK> <UNK> underneath <END>'}, {'caption': 'a stop sign has <UNK> <UNK> below the <UNK> stop <END>'}, {'caption': 'a red stop sign that reads <UNK> under it <END>'}]\n",
      "0.707517 4744.12374375 1.41635325335 0.643350593881\n",
      "------------\n",
      "{'image_id': '65083', 'caption': 'a man <UNK> a <UNK> while riding the <UNK> a <UNK> <UNK> a train <END>'}\n",
      "[{'caption': 'a <UNK> board and both feet on a street <END>'}, {'caption': 'a close up view of someone with <UNK> on a skateboard <END>'}, {'caption': 'a person stands with one foot on a skateboard <END>'}, {'caption': 'one foot is on the ground and one is on the skateboard <END>'}, {'caption': 'a persons feet with one foot on top a skateboard <END>'}]\n",
      "0.839496 5725.59243711 1.44103749686 0.731003564478\n",
      "------------\n",
      "{'image_id': '44789', 'caption': 'a man <UNK> a <UNK> on a <UNK> on a person flying a kite <END>'}\n",
      "[{'caption': 'a boy holding a surfboard <UNK> out at the sea <END>'}, {'caption': 'a woman standing on a beach holding a surfboard <END>'}, {'caption': 'a person carrying a surfboard stands on a beach <END>'}, {'caption': 'a person in a <UNK> holding a surfboard while standing on a beach <END>'}, {'caption': 'a young man stands with his surfboard and looks out over the ocean <END>'}]\n",
      "0.858655 6624.05687344 1.47407569234 0.712219318283\n",
      "------------\n",
      "{'image_id': '68441', 'caption': 'a man jumping a <UNK> on a skateboard <END>'}\n",
      "[{'caption': 'a man in a baseball uniform about to throw a ball <END>'}, {'caption': 'a <UNK> pitcher getting ready to throw the baseball <END>'}, {'caption': 'a baseball player making an <UNK> pitch on a <UNK> <UNK> <END>'}, {'caption': 'a man is throwing a baseball while on a baseball field <END>'}, {'caption': 'a baseball pitcher with an orange shirt is throwing a ball <END>'}]\n",
      "0.732712 6899.98876523 1.43486012588 0.654037312004\n",
      "------------\n",
      "{'image_id': '45602', 'caption': 'a <UNK> sitting on a desk with a laptop <END>'}\n",
      "[{'caption': 'a brown and black dog on desk next to a laptop <END>'}, {'caption': 'a <UNK> dog on a desk with leash by computers <END>'}, {'caption': 'the small dog is standing on the office desk <END>'}, {'caption': 'a <UNK> on a leash standing on a computer desk <END>'}]\n",
      "1.03384 6924.49532773 1.41059802533 0.877324444748\n",
      "------------\n",
      "{'image_id': '68350', 'caption': 'a <UNK> tennis player <UNK> a <UNK> of a tennis match <END>'}\n",
      "[{'caption': 'a crowd is watching a baseball player get ready to hit the ball <END>'}, {'caption': 'baseball game on a baseball field with <UNK> <END>'}, {'caption': 'a baseball player is up to bat and <UNK> on the high side <END>'}, {'caption': 'a baseball player holding a bat in a <UNK> box <END>'}, {'caption': 'a baseball player swinging a bat on a field <END>'}]\n"
     ]
    },
    {
     "name": "stdout",
     "output_type": "stream",
     "text": [
      "0.672183 6692.28058594 1.41918448921 0.64209840138\n",
      "------------\n",
      "{'image_id': '8457', 'caption': 'a wooden corner of a motorcycle <UNK> a <UNK> <END>'}\n",
      "[{'caption': 'three people are on a sidewalk with a fire hydrant <END>'}, {'caption': '<UNK> guys and a girl are posing in front of a street sign <END>'}, {'caption': 'people are posing by a fire hydrant and a stop light <END>'}, {'caption': 'three people posing for a picture with a street sign and a fire hydrant <END>'}, {'caption': 'the three friends are posing for a photo next to the fire hydrant <END>'}]\n",
      "0.677008 4500.83104844 1.46426530638 0.627937002316\n",
      "------------\n",
      "{'image_id': '49306', 'caption': 'a group of <UNK> <UNK> over a <UNK> of a building for a <UNK> <END>'}\n",
      "[{'caption': 'people and their motor <UNK> waiting on a city corner <END>'}, {'caption': 'four people are on the street corner two are using cell phones <END>'}, {'caption': 'four people are standing on the sidewalk waiting for the bus <END>'}, {'caption': 'two women stand talking to two men on the city street <END>'}, {'caption': 'a group of people standing with luggage by a scooter <END>'}]\n",
      "0.927746 6437.56604844 1.45502791724 0.905181606579\n",
      "------------\n",
      "{'image_id': '58461', 'caption': 'a bedroom with a <UNK> <UNK> and a desk <END>'}\n",
      "[{'caption': 'a bathtub in an <UNK> bathroom near a big window <END>'}, {'caption': 'a picture of someones bathroom <UNK> to a bedroom <END>'}, {'caption': 'an <UNK> <UNK> bathroom with tub <UNK> shower and sofa <END>'}, {'caption': 'a large fancy bathroom features a tub by a window <END>'}]\n",
      "0.662167 4907.80100586 1.45052470902 0.638415786315\n",
      "------------\n",
      "{'image_id': '62867', 'caption': 'a man with a <UNK> on a <UNK> of a <UNK> <END>'}\n",
      "[{'caption': 'a man walking down a street with a bag of luggage <END>'}, {'caption': 'a man walking with a <UNK> case on the street <END>'}, {'caption': 'a young man walking down the street with his suitcase <END>'}, {'caption': 'a man <UNK> a <UNK> suitcase along a city street <END>'}, {'caption': 'a man carrying a luggage bag down the street <END>'}]\n",
      "0.644342 4557.95234375 1.47299269608 0.670468440309\n",
      "------------\n",
      "{'image_id': '61810', 'caption': 'a with a building display on a table with a <UNK> <END>'}\n",
      "[{'caption': 'a sign has been <UNK> to <UNK> <UNK> <UNK> <END>'}, {'caption': '<UNK> stop <UNK> sign all way and no parking <UNK> <END>'}, {'caption': 'a stop sign has <UNK> <UNK> place on it <END>'}, {'caption': 'three street signs <UNK> <UNK> that <UNK> <UNK> stop and <UNK> park <END>'}]\n",
      "1.03006 4197.35673594 1.4670027212 0.959125595382\n",
      "------------\n",
      "{'image_id': '18363', 'caption': 'a <UNK> with a <UNK> of a <UNK> out on a table with a <UNK> <END>'}\n",
      "[{'caption': 'two little teddy bears looking at a <UNK> one in a basket <END>'}, {'caption': 'a basket with a baby stuffed animal with two teddy bears looking over it <END>'}, {'caption': 'a teddy bear inside a basket and others outside <END>'}, {'caption': 'two teddy bears <UNK> over a basket that has a <UNK> teddy bear in it <END>'}]\n",
      "0.611696 4994.72331094 1.49798700377 0.663181245861\n",
      "------------\n",
      "{'image_id': '58445', 'caption': 'a <UNK> of a <UNK> with a <UNK> on a room <END>'}\n",
      "[{'caption': 'a small room with a small counter and a bike on the wall <END>'}, {'caption': 'a bicycle mounted to the side of a wall <END>'}, {'caption': 'a bike hanging on the wall of an apartment <UNK> <END>'}, {'caption': 'a bike hanging on a wall in a room <END>'}]\n",
      "0.573063 4573.29248594 1.46621931347 0.616698795558\n",
      "------------\n",
      "{'image_id': '53046', 'caption': 'a man <UNK> a <UNK> on a surfboard in a <UNK> <END>'}\n",
      "[{'caption': 'a girl in a white dress at the beach with two surfboards <END>'}, {'caption': 'a girl stands on a beach between two surf boards at sunset <END>'}, {'caption': 'a woman in a white <UNK> is standing on a <UNK> beach between two surfboards <END>'}, {'caption': 'a female in a white dress sand and two white surfboards <END>'}, {'caption': 'a woman is standing on a surfboard at the beach <END>'}]\n",
      "0.894736 5518.44848594 1.48691465087 0.910105447187\n",
      "------------\n",
      "{'image_id': '76455', 'caption': 'a <UNK> of a man doing a <UNK> on a <UNK> of a snowboard <END>'}\n",
      "[{'caption': 'a ski <UNK> surrounded by people riding skis <END>'}, {'caption': 'a ski <UNK> with people in front on skis and walking in the snow <END>'}, {'caption': 'the <UNK> traffic at the top of a ski <UNK> <END>'}, {'caption': 'people are on a snowy mountain near a ski <UNK> <END>'}, {'caption': 'a ski <UNK> on a snowy mountain top with skiers <END>'}]\n",
      "0.678149 3503.83148594 1.4904263929 0.740690763378\n",
      "------------\n",
      "{'image_id': '59829', 'caption': 'a man sitting down a <UNK> bed with a <UNK> next to a <UNK> <END>'}\n",
      "[{'caption': 'a dog and stuffed teddy bear in a pen <END>'}, {'caption': 'a <UNK> lying on a teddy bear in a dog <UNK> <END>'}, {'caption': 'the young dog is laying in his bed in the cage <END>'}, {'caption': 'the <UNK> is sleeping with the teddy bear <END>'}, {'caption': 'a dog laying in a dog bed with a stuffed animal <END>'}]\n",
      "0.654575 3829.52573594 1.54010815741 0.709815382317\n",
      "------------\n",
      "{'image_id': '42223', 'caption': 'a wooden herd of a <UNK> in a <UNK> on a <UNK> of a <UNK> <END>'}\n",
      "[{'caption': 'two birds sit on a rock in the middle of water <END>'}, {'caption': 'a bird sits on a rock in the water <END>'}, {'caption': 'a couple of birds sitting on a rock in a lake <END>'}, {'caption': 'two birds on a rock in the middle of a lake <END>'}, {'caption': 'two birds are standing on a very <UNK> rock island <END>'}]\n",
      "0.663209 5617.33375 1.46738193077 0.718237570407\n",
      "------------\n",
      "{'image_id': '80184', 'caption': 'a <UNK> of in a <UNK> on a motorcycle and <UNK> in the <UNK> <END>'}\n",
      "[{'caption': 'a train sitting on train tracks next to a woman <END>'}, {'caption': 'there is a woman standing in front of this red and black train <END>'}, {'caption': 'a woman is standing by an old train <END>'}, {'caption': 'a woman is standing beside two antique trains <END>'}, {'caption': 'the large old train has large red <UNK> <END>'}]\n",
      "0.678152 4217.19262344 1.43697701021 0.749424866574\n",
      "------------\n",
      "{'image_id': '23052', 'caption': 'a <UNK> with a woman on a table in a <UNK> <END>'}\n",
      "[{'caption': 'a bunch of bananas are on a white plate <END>'}, {'caption': 'a plate full of bananas sitting on a table <END>'}, {'caption': 'a bunch of bananas sit on a plate in the foreground of a <UNK> area <END>'}, {'caption': 'a bunch of bananas is sitting on a plate on an outdoor table <END>'}, {'caption': 'a bunch or <UNK> bananas sitting on top of a white plate <END>'}]\n",
      "0.765272 4250.88349844 1.46105796978 0.783202221077\n",
      "------------\n",
      "{'image_id': '20719', 'caption': 'a bus is outside a truck on a <UNK> in a <UNK> <END>'}\n",
      "[{'caption': 'the yellow double decker bus drives down a narrow street <END>'}, {'caption': 'a double decker bus driving down a <UNK> road <END>'}, {'caption': 'a yellow double decker bus driving down a street <END>'}, {'caption': 'a yellow big bus moving along the street <END>'}, {'caption': 'a yellow double decker bus drives down a <UNK> street <END>'}]\n",
      "0.672641 5419.56274648 1.43125319602 0.734325351704\n",
      "------------\n",
      "{'image_id': '54804', 'caption': 'a giraffe in a field <UNK> a <UNK> <END>'}\n",
      "[{'caption': 'a horse standing on top of a dirt field <END>'}, {'caption': 'some horses standing in a open <UNK> field <END>'}, {'caption': 'horses in large <UNK> at outdoor area grazing and walking <END>'}, {'caption': 'a horse with its back <UNK> off the ground and <UNK> horses in the background <END>'}]\n",
      "0.50662 5283.69099961 1.47980249171 0.574473072013\n",
      "------------\n",
      "{'image_id': '65949', 'caption': 'a <UNK> in a <UNK> a <UNK> on a bed <END>'}\n",
      "[{'caption': 'a dog is making a <UNK> face at a cat <END>'}, {'caption': 'a small kitten and a <UNK> <UNK> under a table <END>'}, {'caption': 'a small dog and cat playing with each other <END>'}, {'caption': 'a black cat with <UNK> under a table <END>'}, {'caption': 'a black dog has his mouth open while looking at a black kitten <END>'}]\n",
      "0.69309 3081.2714 1.49966252487 0.851568507812\n",
      "------------\n",
      "{'image_id': '71208', 'caption': 'a <UNK> of a <UNK> with a <UNK> bed in a parking lot <END>'}\n",
      "[{'caption': 'a man in blue <UNK> at a <UNK> <UNK> cart <END>'}, {'caption': 'there are bananas and <UNK> on the counter <END>'}, {'caption': 'a fruit <UNK> <UNK> bananas and other fruit <END>'}, {'caption': 'a <UNK> smiles behind his covered produce stand <END>'}, {'caption': 'a man <UNK> to a market <UNK> bananas and <UNK> in an outside area <END>'}]\n"
     ]
    },
    {
     "name": "stdout",
     "output_type": "stream",
     "text": [
      "0.600187 2594.77062344 1.49171339754 0.741292311337\n",
      "------------\n",
      "{'image_id': '17451', 'caption': 'a <UNK> with a person standing in a <UNK> on a couch <END>'}\n",
      "[{'caption': 'a group of adults at an asian fruit market <END>'}, {'caption': 'a fruit market outdoors with about five women <UNK> it <END>'}, {'caption': 'a number of fruits on plastic containers <END>'}, {'caption': 'several people shop around an outdoor vegetable market <END>'}, {'caption': 'there is <UNK> of fresh fruit being <UNK> at the market <END>'}]\n",
      "0.625679 3757.02786094 1.45889568085 0.768431634318\n",
      "------------\n",
      "{'image_id': '32646', 'caption': 'a <UNK> on a <UNK> in a <UNK> <END>'}\n",
      "[{'caption': 'a laptop computer sitting on a wooden table next to a mouse <END>'}, {'caption': 'apple computers <UNK> and <UNK> new <UNK> mouse <END>'}, {'caption': 'a white apple mouse in front of an apple laptop <END>'}, {'caption': 'a white mouse and a laptop on a tan table <END>'}, {'caption': 'a laptop computer sitting on a desk next to a mouse <END>'}]\n",
      "0.600854 1435.00749375 1.51384885248 0.845781826347\n",
      "------------\n",
      "{'image_id': '55007', 'caption': 'a <UNK> of a bed <UNK> out on a bed <END>'}\n",
      "[{'caption': 'an empty bed in a bedroom with light coming out from underneath it <END>'}, {'caption': 'a <UNK> light bedroom with a bed and four pillows <END>'}, {'caption': 'a <UNK> bed is lit from beneath and behind <END>'}, {'caption': 'a bed with <UNK> behind the head board <END>'}]\n",
      "0.402683 2375.18381836 1.53252726762 0.567254273884\n",
      "------------\n",
      "{'image_id': '46262', 'caption': 'a <UNK> a <UNK> of a <UNK> with a <UNK> in a <UNK> <END>'}\n",
      "[{'caption': 'two zebras and a giraffe are in a dirt lot <UNK> a pool of water <END>'}, {'caption': 'giraffes and other animals standing near a <UNK> <UNK> hole <END>'}, {'caption': 'a lake of water sitting on top of a dirt field <END>'}, {'caption': 'looking across a <UNK> enclosure where zebras and giraffes are standing <END>'}, {'caption': 'a couple of zebras and a giraffe near a body of water <END>'}]\n",
      "0.649626 2995.84099648 1.53826731725 0.919921425649\n",
      "------------\n",
      "{'image_id': '28208', 'caption': 'a <UNK> looks at a <UNK> with a <UNK> on a <UNK> <END>'}\n",
      "[{'caption': 'two <UNK> tables with various fruits that <UNK> <UNK> and <UNK> <END>'}, {'caption': '<UNK> of fruit are on a wooden table <END>'}, {'caption': 'fresh fruit out on tables for display during a sunny day <END>'}, {'caption': '<UNK> and <UNK> displayed in <UNK> on tables <END>'}, {'caption': 'a couple of wooden <UNK> stopped with fresh fruit <END>'}]\n",
      "0.554503 2291.12373398 1.44156568986 0.736945308438\n",
      "------------\n",
      "{'image_id': '33879', 'caption': 'a giraffe in a <UNK> on a <UNK> in a <UNK> <END>'}\n",
      "[{'caption': 'a very old <UNK> church has a clock that says the time is <UNK> <END>'}, {'caption': 'a church with many <UNK> and <UNK> on it <END>'}, {'caption': 'a picture of a large <UNK> with clock in the center <END>'}, {'caption': 'there is a clock on the wall of the church just under the cross <END>'}, {'caption': 'a large stone church with a clock face at the top <END>'}]\n",
      "0.540499 2156.97168594 1.59958520602 0.797989564567\n",
      "------------\n",
      "{'image_id': '53144', 'caption': 'a giraffe in a <UNK> while holding a <UNK> in a bright day <END>'}\n",
      "[{'caption': 'a tall <UNK> filled tree with two kites <UNK> in it <END>'}, {'caption': 'one kite flying and two <UNK> in a tree <END>'}, {'caption': 'top of a tree with the <UNK> of a kite <END>'}, {'caption': 'a bunch of kites flying around a tree during the day <END>'}, {'caption': 'two kites are <UNK> in a tree and <UNK> is in the air <END>'}]\n",
      "0.441262 3425.96412344 1.49982801533 0.638671897971\n",
      "------------\n",
      "{'image_id': '57824', 'caption': 'a <UNK> of a black a laptop and a <UNK> in a <UNK> <END>'}\n",
      "[{'caption': 'a green piece of luggage sitting on <UNK> floor <END>'}, {'caption': 'two pieces of luggage are setting on the floor <END>'}, {'caption': 'a bag of luggage sitting on the ground near other luggage <END>'}, {'caption': 'a pair of suitcases are set by a wall <END>'}, {'caption': 'two suitcases sitting side by side next to a wall <END>'}]\n",
      "0.571626 2210.26811523 1.49097359482 0.846623974074\n",
      "------------\n",
      "{'image_id': '13739', 'caption': 'a <UNK> with a <UNK> in a <UNK> on a <UNK> <END>'}\n",
      "[{'caption': 'there is a brown cow that is on this small hill <END>'}, {'caption': 'a brown <UNK> some brown grass a hill and trees <END>'}, {'caption': 'a cow grazing in a grassy field with trees and <UNK> in the background <END>'}, {'caption': 'a brown cow standing on a grass covered hillside <END>'}]\n",
      "0.461884 1630.36276523 1.45257184397 0.766309579357\n",
      "------------\n",
      "{'image_id': '39959', 'caption': 'a <UNK> with a a stove and <UNK> on a table <END>'}\n",
      "[{'caption': 'there is a room with the <UNK> of gray in their <END>'}, {'caption': 'an <UNK> set of <UNK> in a house with construction <UNK> on the floor <END>'}, {'caption': '<UNK> being <UNK> on the <UNK> of a house <END>'}, {'caption': 'a house is being <UNK> <UNK> or <UNK> <END>'}, {'caption': 'a room appears to be being <UNK> on the walls and floor <END>'}]\n",
      "0.352778 1760.43369375 1.50137480053 0.69236612413\n",
      "------------\n",
      "{'image_id': '5861', 'caption': 'a man is riding a skateboard on a <UNK> next to a <UNK> <END>'}\n",
      "[{'caption': 'a man riding a surfboard on a wave in the ocean <END>'}, {'caption': 'a person is on a surf board riding a wave <END>'}, {'caption': 'a surfer in a <UNK> riding his board in the water <END>'}, {'caption': 'a person trying to <UNK> on their board while surfing a wave <END>'}, {'caption': 'a surfer rides the waves in the ocean <END>'}]\n",
      "0.391559 1775.04273086 1.51237453696 0.702048635868\n",
      "------------\n",
      "{'image_id': '18814', 'caption': 'a <UNK> with a <UNK> in a <UNK> on a <UNK> <END>'}\n",
      "[{'caption': 'a <UNK> suitcase sits in a <UNK> parking lot <END>'}, {'caption': 'several cars in an <UNK> parking lot with snow <END>'}, {'caption': 'four cars <UNK> in a snowy parking lot and a black suitcase <END>'}, {'caption': 'cars in a parking lot some covered in snow <END>'}]\n",
      "0.42011 1316.355525 1.46916682456 0.766794133385\n",
      "------------\n",
      "{'image_id': '36739', 'caption': 'a <UNK> with a <UNK> on a <UNK> while a is while on a <UNK> <END>'}\n",
      "[{'caption': 'a man in a red shirt hitting a tennis ball with a racquet <END>'}, {'caption': 'a player <UNK> at a tennis ball that is high in the air <END>'}, {'caption': 'a person <UNK> to hit a serve playing tennis <END>'}, {'caption': 'the man in the red shirt is going to hit the ball with his racket <END>'}]\n",
      "0.435668 2463.63081211 1.53446107646 0.723154866543\n",
      "------------\n",
      "{'image_id': '47690', 'caption': 'a <UNK> and a <UNK> on a <UNK> outside a <UNK> <END>'}\n",
      "[{'caption': 'a man <UNK> to <UNK> a giant chair with a horse statue on top <END>'}, {'caption': 'a man trying to <UNK> a big red chair with a <UNK> horse on it <END>'}, {'caption': 'a man standing under a giant red chair with a wooden horse seated on it <END>'}]\n",
      "0.572998 2029.38119375 1.48473279383 0.875750828326\n",
      "------------\n",
      "{'image_id': '4', 'caption': 'a <UNK> in a <UNK> on a <UNK> <END>'}\n",
      "[{'caption': 'a child and woman are cooking in the kitchen <END>'}, {'caption': 'a woman <UNK> at a young girls cooking on the <UNK> <END>'}, {'caption': 'a young girl and a woman preparing food in a kitchen <END>'}, {'caption': 'a young person and an older person in a kitchen <END>'}, {'caption': 'two women cooking on stove in a kitchen together <END>'}]\n",
      "0.447714 2781.91457461 1.45323565327 0.639921650066\n",
      "------------\n",
      "{'image_id': '79199', 'caption': 'a <UNK> with a <UNK> outside a <UNK> on a train station <END>'}\n",
      "[{'caption': 'a white and red sign is on a pole <END>'}, {'caption': 'a street sign that <UNK> <UNK> <UNK> while walking <END>'}, {'caption': 'yellow school buses <UNK> behind a walking <UNK> sign <END>'}, {'caption': 'red and white sign on a <UNK> and a city center <END>'}, {'caption': 'a city street with a no walking sign near it <END>'}]\n",
      "0.462465 1565.30976211 1.56190342568 0.801492062773\n",
      "------------\n"
     ]
    }
   ],
   "source": [
    "for i in range(50):\n",
    "    loss, action, reward, advantage = lstm.train(sess, pgdata)\n",
    "    pgdata.shuffle()\n",
    "    print(np.mean(loss), np.var(action), np.mean(reward), np.mean(advantage))\n",
    "    print(\"------------\")\n",
    "    losses.extend(loss)\n",
    "    actions.extend(action)\n",
    "    rewards.extend(reward)\n",
    "    advantages.extend(advantage)"
   ]
  },
  {
   "cell_type": "code",
   "execution_count": 20,
   "metadata": {},
   "outputs": [
    {
     "ename": "NameError",
     "evalue": "name 'rewards' is not defined",
     "output_type": "error",
     "traceback": [
      "\u001b[0;31m---------------------------------------------------------------------------\u001b[0m",
      "\u001b[0;31mNameError\u001b[0m                                 Traceback (most recent call last)",
      "\u001b[0;32m<ipython-input-20-6e1bd2bc7fd2>\u001b[0m in \u001b[0;36m<module>\u001b[0;34m()\u001b[0m\n\u001b[0;32m----> 1\u001b[0;31m \u001b[0mnp\u001b[0m\u001b[0;34m.\u001b[0m\u001b[0mmean\u001b[0m\u001b[0;34m(\u001b[0m\u001b[0mnp\u001b[0m\u001b[0;34m.\u001b[0m\u001b[0marray\u001b[0m\u001b[0;34m(\u001b[0m\u001b[0mrewards\u001b[0m\u001b[0;34m)\u001b[0m\u001b[0;34m[\u001b[0m\u001b[0;34m:\u001b[0m\u001b[0;34m,\u001b[0m \u001b[0;34m-\u001b[0m\u001b[0;36m1\u001b[0m\u001b[0;34m]\u001b[0m\u001b[0;34m)\u001b[0m\u001b[0;34m\u001b[0m\u001b[0m\n\u001b[0m",
      "\u001b[0;31mNameError\u001b[0m: name 'rewards' is not defined"
     ]
    }
   ],
   "source": [
    "np.mean(np.array(rewards)[:, -1])"
   ]
  },
  {
   "cell_type": "code",
   "execution_count": 22,
   "metadata": {},
   "outputs": [],
   "source": []
  },
  {
   "cell_type": "code",
   "execution_count": 18,
   "metadata": {},
   "outputs": [
    {
     "data": {
      "image/png": "[encoded data removed]",
      "text/plain": [
       "<matplotlib.figure.Figure at 0x24632db00>"
      ]
     },
     "metadata": {},
     "output_type": "display_data"
    }
   ],
   "source": [
    "import matplotlib.pyplot as plt\n",
    "\n",
    "rewards_arr = np.array(rewards)\n",
    "plt.plot(np.mean(np.reshape(rewards_arr[:, -1], (75, 100)), axis=1))\n",
    "# plt.plot(rewards_arr[:, -1])\n",
    "plt.show()"
   ]
  },
  {
   "cell_type": "code",
   "execution_count": 21,
   "metadata": {},
   "outputs": [
    {
     "data": {
      "text/plain": [
       "3.6981398064121747"
      ]
     },
     "execution_count": 21,
     "metadata": {},
     "output_type": "execute_result"
    }
   ],
   "source": [
    "rewards_arr[np.argmax(rewards_arr[:, -1]), -1]"
   ]
  },
  {
   "cell_type": "code",
   "execution_count": 20,
   "metadata": {
    "scrolled": true
   },
   "outputs": [
    {
     "data": {
      "text/plain": [
       "'a snowboarder <UNK> a <UNK> on a skateboard <UNK> a <UNK> <END>'"
      ]
     },
     "execution_count": 20,
     "metadata": {},
     "output_type": "execute_result"
    }
   ],
   "source": [
    "data.decode(actions[2844])"
   ]
  },
  {
   "cell_type": "code",
   "execution_count": 15,
   "metadata": {},
   "outputs": [
    {
     "data": {
      "text/plain": [
       "array([-1.16937698,  0.46125179,  0.97043135,  0.16074349,  0.64402426,\n",
       "        1.97278391,  1.97278391,  1.97278391,  1.97278391,  1.97278391,\n",
       "        1.97278391,  1.97278391,  1.97278391,  1.97278391,  1.97278391,\n",
       "        1.97278391])"
      ]
     },
     "execution_count": 15,
     "metadata": {},
     "output_type": "execute_result"
    }
   ],
   "source": [
    "rewards[1]"
   ]
  },
  {
   "cell_type": "code",
   "execution_count": 7,
   "metadata": {},
   "outputs": [],
   "source": [
    "tf.reset_default_graph()\n",
    "sess.close()"
   ]
  },
  {
   "cell_type": "code",
   "execution_count": 21,
   "metadata": {},
   "outputs": [],
   "source": [
    "from pyciderevalcap.eval import CIDErEvalCap as ciderEval\n",
    "cand_list, ref = [], {}\n",
    "for i in range(1000, 2000):\n",
    "    idx = str(i)\n",
    "    ref[idx]  = pgdata.data['train_image_idx_to_captions'][idx][0:-1]\n",
    "    cand_list.append({'image_id': idx, 'caption': pgdata.data['train_image_idx_to_captions'][idx][-1]['caption']})\n",
    "\n",
    "scorer = ciderEval(ref, cand_list, \"coco-val-df\")\n",
    "scores = scorer.evaluate()"
   ]
  },
  {
   "cell_type": "code",
   "execution_count": 22,
   "metadata": {},
   "outputs": [
    {
     "data": {
      "text/plain": [
       "1.7911916746177574"
      ]
     },
     "execution_count": 22,
     "metadata": {},
     "output_type": "execute_result"
    }
   ],
   "source": [
    "np.mean(scores)"
   ]
  },
  {
   "cell_type": "code",
   "execution_count": 16,
   "metadata": {},
   "outputs": [
    {
     "data": {
      "text/plain": [
       "[{'caption': 'a motorcycle in front of a closed <UNK> door <END>'},\n",
       " {'caption': 'a motorcycle is parked in front of a <UNK> door <END>'},\n",
       " {'caption': 'a motorcycle parked next to a closed <UNK> <END>'},\n",
       " {'caption': 'a motorcycle is parked in front of a closed <UNK> area <END>'}]"
      ]
     },
     "execution_count": 16,
     "metadata": {},
     "output_type": "execute_result"
    }
   ],
   "source": [
    "ref['113']"
   ]
  },
  {
   "cell_type": "code",
   "execution_count": 17,
   "metadata": {},
   "outputs": [
    {
     "data": {
      "text/plain": [
       "{'caption': 'a motorcycle parked in front of a closed <UNK> door <END>',\n",
       " 'image_id': '113'}"
      ]
     },
     "execution_count": 17,
     "metadata": {},
     "output_type": "execute_result"
    }
   ],
   "source": [
    "cand_list[113]"
   ]
  },
  {
   "cell_type": "code",
   "execution_count": null,
   "metadata": {},
   "outputs": [],
   "source": []
  },
  {
   "cell_type": "code",
   "execution_count": null,
   "metadata": {},
   "outputs": [],
   "source": []
  },
  {
   "cell_type": "code",
   "execution_count": null,
   "metadata": {},
   "outputs": [],
   "source": []
  },
  {
   "cell_type": "code",
   "execution_count": null,
   "metadata": {},
   "outputs": [],
   "source": []
  },
  {
   "cell_type": "code",
   "execution_count": null,
   "metadata": {},
   "outputs": [],
   "source": []
  },
  {
   "cell_type": "code",
   "execution_count": null,
   "metadata": {},
   "outputs": [],
   "source": []
  },
  {
   "cell_type": "code",
   "execution_count": 3,
   "metadata": {},
   "outputs": [
    {
     "name": "stdout",
     "output_type": "stream",
     "text": [
      "iter 0, cross-entropy: 110.77640533447266, accuracy: 0.0009033423848450184\n",
      "iter 10, cross-entropy: 55.980995178222656, accuracy: 0.18133333325386047\n",
      "iter 20, cross-entropy: 46.787872314453125, accuracy: 0.2949061691761017\n",
      "iter 30, cross-entropy: 45.030513763427734, accuracy: 0.29328620433807373\n",
      "iter 40, cross-entropy: 40.0538444519043, accuracy: 0.354092538356781\n",
      "iter 50, cross-entropy: 38.95996856689453, accuracy: 0.34336283802986145\n",
      "iter 60, cross-entropy: 38.451683044433594, accuracy: 0.3449508547782898\n",
      "iter 70, cross-entropy: 37.561832427978516, accuracy: 0.3582887649536133\n",
      "iter 80, cross-entropy: 36.59442901611328, accuracy: 0.3383658826351166\n",
      "iter 90, cross-entropy: 36.408565521240234, accuracy: 0.36758193373680115\n",
      "iter 100, cross-entropy: 35.531898498535156, accuracy: 0.35695067048072815\n",
      "iter 110, cross-entropy: 35.716224670410156, accuracy: 0.3502262532711029\n",
      "iter 120, cross-entropy: 32.944496154785156, accuracy: 0.4005400538444519\n",
      "iter 130, cross-entropy: 33.486305236816406, accuracy: 0.3850877285003662\n",
      "iter 140, cross-entropy: 31.07101058959961, accuracy: 0.41651543974876404\n",
      "iter 150, cross-entropy: 31.840438842773438, accuracy: 0.3899082541465759\n",
      "iter 160, cross-entropy: 31.45315170288086, accuracy: 0.37801608443260193\n",
      "iter 170, cross-entropy: 31.791200637817383, accuracy: 0.4008810520172119\n",
      "iter 180, cross-entropy: 31.197900772094727, accuracy: 0.41726619005203247\n",
      "iter 190, cross-entropy: 30.703222274780273, accuracy: 0.42318058013916016\n",
      "iter 200, cross-entropy: 30.977609634399414, accuracy: 0.40787118673324585\n"
     ]
    }
   ],
   "source": [
    "data = COCOData()\n",
    "lstm = MaxLikelihoodLSTM(tf.constant(data.word_embedding, dtype=tf.float32), learning_rate=5e-3, batch_size=100)\n",
    "lstm.build_model()\n",
    "\n",
    "sess = tf.InteractiveSession()\n",
    "tf.global_variables_initializer().run()\n",
    "\n",
    "lstm.train(sess, data, max_iterations=200)\n",
    "lstm.save_model(sess, \"mle200\")\n",
    "\n",
    "tf.reset_default_graph()\n",
    "sess.close()"
   ]
  },
  {
   "cell_type": "code",
   "execution_count": 4,
   "metadata": {},
   "outputs": [
    {
     "name": "stdout",
     "output_type": "stream",
     "text": [
      "INFO:tensorflow:Restoring parameters from models/mle200\n"
     ]
    }
   ],
   "source": [
    "sess = tf.InteractiveSession()\n",
    "pgdata = PGData()\n",
    "lstm = PolicyGradientLSTM(tf.constant(pgdata.word_embedding, dtype=tf.float32), learning_rate=5e-4, batch_size=100)\n",
    "\n",
    "lstm.load_model(sess, \"models/mle200\")\n",
    "initialize_uninitialized(sess)"
   ]
  },
  {
   "cell_type": "code",
   "execution_count": 5,
   "metadata": {},
   "outputs": [],
   "source": [
    "losses = []\n",
    "actions = []\n",
    "rewards = []"
   ]
  },
  {
   "cell_type": "code",
   "execution_count": 6,
   "metadata": {},
   "outputs": [
    {
     "name": "stdout",
     "output_type": "stream",
     "text": [
      "6.79727 28352.2155859 6.75890224169\n",
      "------------\n",
      "15.7928 22696.4748734 7.39221483388\n",
      "------------\n",
      "5.79293 16492.4432184 8.34937176333\n",
      "------------\n",
      "6.64818 16106.3086734 8.52836480001\n",
      "------------\n",
      "10.2895 15566.1895484 9.03667793331\n",
      "------------\n",
      "9.1476 12645.6911937 8.89655516228\n",
      "------------\n",
      "6.73192 11071.8929438 9.25449530212\n",
      "------------\n",
      "6.51581 10926.21865 9.35947495779\n",
      "------------\n",
      "6.72046 7956.61590586 9.59848782547\n",
      "------------\n",
      "6.86378 5728.16919375 9.80387041364\n",
      "------------\n",
      "5.91337 4954.86419375 9.63229866935\n",
      "------------\n",
      "6.47509 5737.035475 9.68781971404\n",
      "------------\n",
      "5.60096 3612.71029844 10.1044931698\n",
      "------------\n",
      "5.22452 5332.271525 10.1027949668\n",
      "------------\n",
      "4.89143 3910.99374844 10.1628756767\n",
      "------------\n",
      "4.17895 2579.64617148 10.4191614825\n",
      "------------\n",
      "3.85186 1853.07724844 10.8305630783\n",
      "------------\n",
      "3.00431 1495.83183594 11.2801947157\n",
      "------------\n",
      "2.36547 747.84625 10.7852484209\n",
      "------------\n",
      "2.54489 473.339912109 10.7863259785\n",
      "------------\n",
      "2.06788 186.04169375 10.7332224255\n",
      "------------\n",
      "2.09712 380.946558984 11.0319897359\n",
      "------------\n",
      "2.55319 262.708125 10.8914497346\n",
      "------------\n",
      "2.06918 220.74524375 11.1413829582\n",
      "------------\n",
      "2.08494 598.47044375 11.5164216343\n",
      "------------\n",
      "1.49068 336.655123437 11.8474392181\n",
      "------------\n",
      "1.0823 184.701749609 11.5625501372\n",
      "------------\n",
      "1.51266 433.327730859 11.467124926\n",
      "------------\n",
      "1.78859 863.829775 11.4781425395\n",
      "------------\n",
      "1.68828 963.328937109 11.7300413945\n",
      "------------\n",
      "2.37904 1471.30344375 11.4904566712\n",
      "------------\n",
      "1.62352 333.355780859 11.9777283961\n",
      "------------\n",
      "1.79798 645.457423437 11.9680920654\n",
      "------------\n",
      "1.8588 331.581475 11.8454731951\n",
      "------------\n",
      "1.52806 812.09049375 12.0467573514\n",
      "------------\n",
      "1.54222 157.522949609 12.0868201101\n",
      "------------\n",
      "1.21701 184.760796484 11.843489095\n",
      "------------\n",
      "1.33427 214.101798438 12.1674013324\n",
      "------------\n",
      "1.43 499.077246484 12.0443959608\n",
      "------------\n",
      "1.3116 342.966623437 12.0657531738\n",
      "------------\n",
      "1.01658 317.887935938 12.3876890988\n",
      "------------\n",
      "1.39288 201.845496484 12.3097062527\n",
      "------------\n",
      "0.916164 582.689798438 12.2618119252\n",
      "------------\n",
      "1.12141 205.667433984 12.228783891\n",
      "------------\n",
      "0.947798 398.33774375 12.3864861875\n",
      "------------\n",
      "0.914079 422.644648437 12.3002013483\n",
      "------------\n",
      "1.46439 474.317124609 12.5131709957\n",
      "------------\n",
      "1.10978 147.456110938 12.1054572418\n",
      "------------\n",
      "1.3281 881.108110937 12.4830708597\n",
      "------------\n",
      "1.11856 324.202610937 12.3061234553\n",
      "------------\n",
      "1.03538 557.133225 12.3473143971\n",
      "------------\n",
      "0.905459 286.794798438 12.0264623041\n",
      "------------\n",
      "0.457148 41.3315234375 12.1253337269\n",
      "------------\n",
      "0.355439 65.1677359375 12.1092510426\n",
      "------------\n",
      "0.543697 55.6564339844 12.3477262116\n",
      "------------\n",
      "0.411879 80.9790484375 12.1607384433\n",
      "------------\n",
      "0.504947 97.5580121094 12.202308918\n",
      "------------\n",
      "0.468683 137.915655859 12.4367276591\n",
      "------------\n",
      "0.818421 248.737062109 12.114236416\n",
      "------------\n",
      "0.803145 562.582890234 12.5200606019\n",
      "------------\n",
      "0.777639 405.480777734 12.3435653297\n",
      "------------\n",
      "1.24189 796.484173437 12.2359645189\n",
      "------------\n",
      "1.35385 488.573090234 12.303565052\n",
      "------------\n",
      "0.849331 709.865548437 11.9682088213\n",
      "------------\n",
      "0.788585 446.602568359 12.3006246617\n",
      "------------\n",
      "0.937586 337.227452734 12.0482866008\n",
      "------------\n",
      "0.79601 267.461308984 12.1342835626\n",
      "------------\n",
      "0.76021 164.951360937 12.2338691033\n",
      "------------\n",
      "0.58015 100.209121484 12.3780737256\n",
      "------------\n",
      "0.593091 92.4051871094 12.2848414647\n",
      "------------\n",
      "0.667862 85.2261402344 12.3791141959\n",
      "------------\n",
      "0.681297 292.09649375 12.3086106383\n",
      "------------\n",
      "0.456707 147.813046484 12.301468794\n",
      "------------\n",
      "0.907879 145.642324609 12.4818697998\n",
      "------------\n",
      "0.429163 129.428427734 12.398303905\n",
      "------------\n",
      "0.687607 132.235548438 12.4705369596\n",
      "------------\n",
      "0.608696 66.59744375 12.3141996273\n",
      "------------\n",
      "0.376968 141.52984375 12.2589935623\n",
      "------------\n",
      "0.26642 23.0828027344 12.1756630471\n",
      "------------\n",
      "0.468797 33.4666109375 12.2868287737\n",
      "------------\n",
      "0.383386 30.1760839844 12.3364799733\n",
      "------------\n",
      "0.194356 12.948125 12.2734286203\n",
      "------------\n",
      "0.293994 8.91772460938 12.1755818562\n",
      "------------\n",
      "0.306269 15.98859375 12.3249211264\n",
      "------------\n",
      "0.263674 23.2616402344 12.3127038501\n",
      "------------\n",
      "0.343067 20.0302734375 12.233186159\n",
      "------------\n",
      "0.447898 196.641630859 12.1325664004\n",
      "------------\n",
      "0.383238 61.0034808594 12.1847317187\n",
      "------------\n",
      "0.469164 28.5185433594 11.9507257981\n",
      "------------\n",
      "0.494224 204.729960938 12.1026742744\n",
      "------------\n",
      "0.475402 68.9542933594 12.1641214931\n",
      "------------\n",
      "0.648104 60.5753609375 12.1845892801\n",
      "------------\n",
      "0.401818 64.1565609375 12.4121203091\n",
      "------------\n",
      "0.364086 184.638449609 12.3779109898\n",
      "------------\n",
      "0.67478 78.2014746094 12.345473468\n",
      "------------\n",
      "0.556545 85.4585839844 12.4567275186\n",
      "------------\n",
      "0.433025 44.1347933594 12.3573017023\n",
      "------------\n",
      "0.629939 87.02844375 12.4475496554\n",
      "------------\n",
      "0.453713 116.044860938 12.0835418424\n",
      "------------\n",
      "0.477816 67.79624375 12.1421959795\n",
      "------------\n"
     ]
    }
   ],
   "source": [
    "for i in range(100):\n",
    "    loss, action, reward = lstm.train(sess, pgdata)\n",
    "    print(np.mean(loss), np.var(action), np.mean(reward))\n",
    "    print(\"------------\")\n",
    "    losses.extend(loss)\n",
    "    actions.extend(action)\n",
    "    rewards.extend(reward)"
   ]
  },
  {
   "cell_type": "code",
   "execution_count": 7,
   "metadata": {},
   "outputs": [],
   "source": [
    "lstm.save_model(sess, \"mle200-pg100\")\n",
    "\n",
    "tf.reset_default_graph()\n",
    "sess.close()"
   ]
  },
  {
   "cell_type": "code",
   "execution_count": 8,
   "metadata": {},
   "outputs": [
    {
     "name": "stdout",
     "output_type": "stream",
     "text": [
      "INFO:tensorflow:Restoring parameters from models/mle200-pg100\n",
      "iter 0, cross-entropy: 72.76022338867188, accuracy: 0.2719060480594635\n",
      "iter 10, cross-entropy: 36.16719055175781, accuracy: 0.35466668009757996\n",
      "iter 20, cross-entropy: 31.900407791137695, accuracy: 0.4057193994522095\n",
      "iter 30, cross-entropy: 32.784263610839844, accuracy: 0.3816254436969757\n",
      "iter 40, cross-entropy: 30.72756576538086, accuracy: 0.4012455642223358\n",
      "iter 50, cross-entropy: 28.579267501831055, accuracy: 0.4292035400867462\n"
     ]
    }
   ],
   "source": [
    "sess = tf.InteractiveSession()\n",
    "lstm = MaxLikelihoodLSTM(tf.constant(data.word_embedding, dtype=tf.float32), learning_rate=5e-5, batch_size=100)\n",
    "\n",
    "lstm.load_model(sess, \"models/mle200-pg100\")\n",
    "initialize_uninitialized(sess)\n",
    "\n",
    "lstm.train(sess, data, max_iterations=50)\n",
    "lstm.save_model(sess, \"mle200-pg100-mle50\")\n",
    "\n",
    "tf.reset_default_graph()\n",
    "sess.close()"
   ]
  },
  {
   "cell_type": "code",
   "execution_count": 9,
   "metadata": {},
   "outputs": [
    {
     "name": "stdout",
     "output_type": "stream",
     "text": [
      "INFO:tensorflow:Restoring parameters from models/mle200-pg100-mle50\n",
      "7.03608 23016.1248734 7.2811827082\n",
      "------------\n",
      "9.52236 19556.167959 7.49611853665\n",
      "------------\n",
      "5.88758 14137.2895465 8.6825888869\n",
      "------------\n",
      "7.75762 15079.3587359 8.239986209\n",
      "------------\n",
      "7.02797 13499.1203809 8.94010978427\n",
      "------------\n",
      "7.90079 9523.02499961 9.10653697902\n",
      "------------\n",
      "4.81611 7675.150775 9.30012921182\n",
      "------------\n",
      "6.79755 7063.00349844 9.29885271251\n",
      "------------\n",
      "5.45757 5078.94053086 9.45868507054\n",
      "------------\n",
      "5.78207 4956.10036094 9.69185834107\n",
      "------------\n",
      "4.8812 6607.63869961 9.98387956558\n",
      "------------\n",
      "4.97594 4915.17732461 10.2769814713\n",
      "------------\n",
      "6.25036 5029.36671836 10.185059677\n",
      "------------\n",
      "4.49798 4825.67473594 10.2924518771\n",
      "------------\n",
      "4.52176 2703.51272461 10.1263248866\n",
      "------------\n",
      "3.642 1605.23756836 10.1786381274\n",
      "------------\n",
      "3.31048 2945.88559336 10.307262836\n",
      "------------\n",
      "2.90374 1005.40795898 10.8312000334\n",
      "------------\n",
      "2.58809 904.447233984 10.2746556744\n",
      "------------\n",
      "2.72039 328.39474375 10.4568756067\n",
      "------------\n",
      "2.59078 745.709855859 10.5808722706\n",
      "------------\n",
      "3.4801 1392.71715586 10.9136645002\n",
      "------------\n",
      "2.37454 1170.04712461 11.3055691412\n",
      "------------\n",
      "3.15389 494.617968359 11.2358182047\n",
      "------------\n",
      "2.46291 679.173983984 11.3040971819\n",
      "------------\n",
      "2.73575 789.098974609 11.2478910847\n",
      "------------\n",
      "2.83264 378.202140234 11.4653433106\n",
      "------------\n",
      "2.90975 605.498996484 11.565768031\n",
      "------------\n",
      "2.28583 819.672310938 11.5863610855\n",
      "------------\n",
      "1.66122 594.638590234 11.9882141263\n",
      "------------\n",
      "1.21879 204.959560937 11.953588511\n",
      "------------\n",
      "1.21169 103.0625 12.0977745904\n",
      "------------\n",
      "0.804211 237.328085937 12.2072259421\n",
      "------------\n",
      "0.868338 18.4073902344 12.0951565405\n",
      "------------\n",
      "0.977542 74.9800589844 12.1090354084\n",
      "------------\n",
      "0.949062 119.181935938 12.2491189248\n",
      "------------\n",
      "0.785485 10.7786996094 12.0940110075\n",
      "------------\n",
      "0.776612 107.30324375 12.0398232221\n",
      "------------\n",
      "1.27591 58.0418089844 12.2876144993\n",
      "------------\n",
      "1.1328 62.18099375 12.1098927404\n",
      "------------\n",
      "1.18804 111.261798437 12.0478426812\n",
      "------------\n",
      "0.653551 23.2297933594 12.0137615327\n",
      "------------\n",
      "0.778245 110.598037109 12.1915413315\n",
      "------------\n",
      "0.729051 11.3512964844 12.1195473291\n",
      "------------\n",
      "0.704455 39.9862152344 12.2467788366\n",
      "------------\n",
      "1.04938 27.86394375 12.1747954417\n",
      "------------\n",
      "1.21775 30.220275 12.4125200187\n",
      "------------\n",
      "1.61323 27.2317496094 12.1237203766\n",
      "------------\n",
      "1.40041 41.4314984375 12.0957256665\n",
      "------------\n",
      "2.45724 620.637460938 12.1648116913\n",
      "------------\n",
      "0.953729 122.992668359 11.96244739\n",
      "------------\n",
      "1.10597 13.7639214844 12.195937623\n",
      "------------\n",
      "0.978728 17.1117621094 12.1741057812\n",
      "------------\n",
      "0.91606 37.2739359375 12.2278954124\n",
      "------------\n",
      "1.14742 105.896655859 12.1653618162\n",
      "------------\n",
      "0.953445 36.54969375 12.2586113307\n",
      "------------\n",
      "0.8582 15.7777464844 12.1710834338\n",
      "------------\n",
      "0.519624 94.3307359375 12.2003008305\n",
      "------------\n",
      "0.74981 8.98834023438 12.1483171665\n",
      "------------\n",
      "0.365299 15.4207777344 12.2378556761\n",
      "------------\n",
      "0.165693 8.0216 12.1545002151\n",
      "------------\n",
      "0.250254 134.26849375 12.1342494646\n",
      "------------\n",
      "0.337835 182.44194375 12.2268058975\n",
      "------------\n",
      "0.204101 13.4806234375 12.2049555069\n",
      "------------\n",
      "0.165098 10.6941859375 12.2663252863\n",
      "------------\n",
      "0.155196 10.3038902344 12.1300718653\n",
      "------------\n",
      "0.14748 18.2642933594 12.253026268\n",
      "------------\n",
      "0.233568 13.32444375 12.2270510706\n",
      "------------\n",
      "0.0693395 10.5984183594 12.1796403128\n",
      "------------\n",
      "0.143329 10.8181933594 12.2283381774\n",
      "------------\n",
      "0.107402 7.93999023438 12.2353505345\n",
      "------------\n",
      "0.0888533 7.94444375 12.2192636974\n",
      "------------\n",
      "0.355134 74.1940234375 12.2495740036\n",
      "------------\n",
      "0.17302 13.25424375 12.325673755\n",
      "------------\n",
      "0.176844 15.5599496094 12.1808756022\n",
      "------------\n",
      "0.262928 16.015 12.4180909902\n",
      "------------\n",
      "0.115297 17.21894375 12.1094729448\n",
      "------------\n",
      "0.178904 16.6201246094 12.2180913858\n",
      "------------\n",
      "0.132972 13.7962964844 12.2759362941\n",
      "------------\n",
      "0.201596 83.7869683594 12.1583920888\n",
      "------------\n",
      "0.074257 14.00649375 12.2099611453\n",
      "------------\n",
      "0.139709 13.3264527344 12.3559718303\n",
      "------------\n",
      "0.0587424 14.0909496094 12.2919189334\n",
      "------------\n",
      "0.14321 13.4760609375 12.278737915\n",
      "------------\n",
      "0.0930733 10.93365 12.2668214945\n",
      "------------\n",
      "0.0769677 10.9883246094 12.1771425753\n",
      "------------\n",
      "0.198664 11.0516527344 12.3220837478\n",
      "------------\n",
      "0.127282 11.42924375 12.1896674112\n",
      "------------\n",
      "0.191713 7.72318398438 12.0629848006\n",
      "------------\n",
      "0.242615 15.7919808594 12.1806674619\n",
      "------------\n",
      "0.247637 4.73949375 12.2129712006\n",
      "------------\n",
      "0.309299 7.73799648438 12.2686345279\n",
      "------------\n",
      "0.212146 14.1143714844 12.2730191446\n",
      "------------\n",
      "0.351383 13.8861109375 12.2660614258\n",
      "------------\n",
      "0.304009 16.1676714844 12.3027428252\n",
      "------------\n",
      "0.106488 13.9246484375 12.3338137392\n",
      "------------\n",
      "0.187149 16.4601859375 12.3259854541\n",
      "------------\n",
      "0.150624 13.92419375 12.3268591817\n",
      "------------\n",
      "0.0817278 13.9187359375 12.3253999619\n",
      "------------\n",
      "0.161423 12.5925589844 12.2656148644\n",
      "------------\n"
     ]
    }
   ],
   "source": [
    "sess = tf.InteractiveSession()\n",
    "lstm = PolicyGradientLSTM(tf.constant(pgdata.word_embedding, dtype=tf.float32), learning_rate=5e-5, batch_size=100)\n",
    "\n",
    "lstm.load_model(sess, \"models/mle200-pg100-mle50\", is_PG=True)\n",
    "initialize_uninitialized(sess)\n",
    "\n",
    "for i in range(100):\n",
    "    loss, action, reward = lstm.train(sess, pgdata)\n",
    "    print(np.mean(loss), np.var(action), np.mean(reward))\n",
    "    print(\"------------\")\n",
    "    losses.extend(loss)\n",
    "    actions.extend(action)\n",
    "    rewards.extend(reward)"
   ]
  },
  {
   "cell_type": "code",
   "execution_count": 13,
   "metadata": {},
   "outputs": [
    {
     "data": {
      "text/plain": [
       "'a <UNK> <END>'"
      ]
     },
     "execution_count": 13,
     "metadata": {},
     "output_type": "execute_result"
    }
   ],
   "source": [
    "data.decode(actions[19605])"
   ]
  },
  {
   "cell_type": "code",
   "execution_count": 5,
   "metadata": {},
   "outputs": [],
   "source": [
    "tf.reset_default_graph()\n",
    "sess.close()"
   ]
  },
  {
   "cell_type": "code",
   "execution_count": null,
   "metadata": {},
   "outputs": [],
   "source": []
  },
  {
   "cell_type": "code",
   "execution_count": null,
   "metadata": {},
   "outputs": [],
   "source": []
  },
  {
   "cell_type": "code",
   "execution_count": null,
   "metadata": {},
   "outputs": [],
   "source": []
  },
  {
   "cell_type": "code",
   "execution_count": null,
   "metadata": {},
   "outputs": [],
   "source": []
  },
  {
   "cell_type": "code",
   "execution_count": null,
   "metadata": {},
   "outputs": [],
   "source": []
  },
  {
   "cell_type": "code",
   "execution_count": 2,
   "metadata": {},
   "outputs": [],
   "source": [
    "data = PGData()\n",
    "lstm = MaxLikelihoodLSTM(tf.constant(data.word_embedding, dtype=tf.float32), learning_rate=5e-3, batch_size=100)\n",
    "lstm.build_model()\n",
    "\n",
    "sess = tf.InteractiveSession()\n",
    "tf.global_variables_initializer().run()\n",
    "\n",
    "tf.reset_default_graph()\n",
    "sess.close()"
   ]
  },
  {
   "cell_type": "code",
   "execution_count": 22,
   "metadata": {},
   "outputs": [
    {
     "name": "stdout",
     "output_type": "stream",
     "text": [
      "INFO:tensorflow:Restoring parameters from models/200iter\n"
     ]
    }
   ],
   "source": [
    "tf.reset_default_graph()\n",
    "sess.close()# data = PGData()\n",
    "lstm = PolicyGradientLSTM(tf.constant(data.word_embedding, dtype=tf.float32), learning_rate=5e-4, batch_size=100)\n",
    "\n",
    "sess = tf.InteractiveSession()\n",
    "\n",
    "lstm.load_model(sess, \"models/200iter\")\n",
    "lstm.build_model(loaded=True)\n",
    "\n",
    "ruv = set(sess.run(tf.report_uninitialized_variables()))\n",
    "uv = [v for v in tf.global_variables() if v.name.split(':')[0].encode('ascii') in ruv]\n",
    "tf.variables_initializer(uv).run()"
   ]
  },
  {
   "cell_type": "code",
   "execution_count": null,
   "metadata": {},
   "outputs": [],
   "source": [
    "losses = []\n",
    "actions = []\n",
    "rewards = []"
   ]
  },
  {
   "cell_type": "code",
   "execution_count": 53,
   "metadata": {},
   "outputs": [
    {
     "name": "stdout",
     "output_type": "stream",
     "text": [
      "0.350779 43.4011558594 12.9776906824\n",
      "------------\n",
      "0.424632 69.0095152344 12.9335559227\n",
      "------------\n",
      "0.754854 77.05299375 12.9692724324\n",
      "------------\n",
      "0.410619 120.84899375 13.0360450496\n",
      "------------\n",
      "0.488262 82.7475609375 12.9830271097\n",
      "------------\n",
      "0.550675 90.5807714844 12.8107597708\n",
      "------------\n",
      "0.515419 121.396298438 12.8699514147\n",
      "------------\n",
      "0.526229 104.748173438 12.8825245009\n",
      "------------\n",
      "0.477347 92.516225 13.106982613\n",
      "------------\n",
      "0.404463 99.3007777344 13.2391322928\n",
      "------------\n",
      "0.713771 145.291262109 12.9443670165\n",
      "------------\n",
      "0.621591 105.11234375 13.2622064675\n",
      "------------\n",
      "0.508496 115.928349609 13.1550630019\n",
      "------------\n",
      "0.499779 90.2325308594 13.3426446317\n",
      "------------\n",
      "0.491567 117.826552734 13.2545859293\n",
      "------------\n",
      "0.386018 88.1824359375 13.3093267378\n",
      "------------\n",
      "0.379715 103.435218359 13.2560856038\n",
      "------------\n",
      "0.586515 100.572775 13.3206869848\n",
      "------------\n",
      "0.300589 108.7325 13.2287536794\n",
      "------------\n",
      "0.486376 102.976793359 13.1132305169\n",
      "------------\n",
      "0.506196 114.760437109 13.3213056276\n",
      "------------\n",
      "0.479849 116.883827734 13.2543159897\n",
      "------------\n",
      "0.804348 161.182255859 13.3287672697\n",
      "------------\n",
      "0.586191 99.4841558594 13.0218249565\n",
      "------------\n",
      "0.615272 364.660610937 13.0416681698\n",
      "------------\n",
      "0.697543 278.752965234 13.1924014787\n",
      "------------\n",
      "0.411975 188.656985937 13.1002027017\n",
      "------------\n",
      "0.489624 78.23769375 13.2044447584\n",
      "------------\n",
      "0.300251 75.5617308594 13.1619925327\n",
      "------------\n",
      "0.596462 84.6554058594 13.2468845195\n",
      "------------\n",
      "0.284039 78.07249375 13.0176976706\n",
      "------------\n",
      "0.598184 93.4568734375 12.9530623607\n",
      "------------\n",
      "0.440085 96.7696 13.142640867\n",
      "------------\n",
      "0.528527 159.683935937 13.1267204298\n",
      "------------\n",
      "0.627089 142.822360938 13.1359673081\n",
      "------------\n",
      "0.67412 126.868265234 13.0255020627\n",
      "------------\n",
      "0.656421 162.9144 13.2111595629\n",
      "------------\n",
      "0.404035 229.67984375 13.0040329927\n",
      "------------\n",
      "0.827007 561.152215234 13.1124183419\n",
      "------------\n",
      "0.540238 218.585923437 13.2680157992\n",
      "------------\n",
      "0.729685 127.06594375 13.2510556248\n",
      "------------\n",
      "0.50192 340.835435937 13.2613920013\n",
      "------------\n",
      "0.700523 95.2089964844 13.0940966323\n",
      "------------\n",
      "0.524954 101.539725 13.135525211\n",
      "------------\n",
      "0.593141 115.790437109 13.2209300632\n",
      "------------\n",
      "0.450626 96.6256859375 13.2127658702\n",
      "------------\n",
      "0.387077 96.8282484375 13.2540024481\n",
      "------------\n",
      "0.583687 101.944308984 13.2769465468\n",
      "------------\n",
      "0.469284 123.206396484 13.2139572889\n",
      "------------\n",
      "0.532264 166.439762109 13.2363446417\n",
      "------------\n",
      "0.652551 263.016523437 13.2064868902\n",
      "------------\n",
      "0.901194 182.837985938 13.1750080084\n",
      "------------\n",
      "0.354469 140.5134 13.301216923\n",
      "------------\n",
      "0.472644 105.860999609 13.0974707516\n",
      "------------\n",
      "0.576051 109.223398438 13.1902803104\n",
      "------------\n",
      "0.702276 113.712173437 13.1173915696\n",
      "------------\n",
      "0.420529 107.74115 13.2497173102\n",
      "------------\n",
      "0.552921 105.801983984 13.1225715101\n",
      "------------\n",
      "0.443475 104.356923438 13.105960234\n",
      "------------\n",
      "0.761783 129.923702734 12.7662590313\n",
      "------------\n"
     ]
    }
   ],
   "source": [
    "for i in range(60):\n",
    "    loss, action, reward = lstm.train(sess, data)\n",
    "    print(np.mean(loss), np.var(action), np.mean(reward))\n",
    "    print(\"------------\")\n",
    "    losses.extend(loss)\n",
    "    actions.extend(action)\n",
    "    rewards.extend(reward)"
   ]
  },
  {
   "cell_type": "code",
   "execution_count": 58,
   "metadata": {},
   "outputs": [
    {
     "data": {
      "text/plain": [
       "'a <UNK> on a laptop <END>'"
      ]
     },
     "execution_count": 58,
     "metadata": {},
     "output_type": "execute_result"
    }
   ],
   "source": [
    "data.decode(actions[19692])"
   ]
  },
  {
   "cell_type": "code",
   "execution_count": 59,
   "metadata": {},
   "outputs": [],
   "source": [
    "lstm.save_model(sess, \"200iter-pg\")"
   ]
  },
  {
   "cell_type": "code",
   "execution_count": 67,
   "metadata": {},
   "outputs": [],
   "source": [
    "np_losses = np.array(losses)\n",
    "np_rewards = np.array(rewards)"
   ]
  },
  {
   "cell_type": "code",
   "execution_count": 69,
   "metadata": {},
   "outputs": [],
   "source": [
    "smoothed_reward = np.mean(np.reshape(np.mean(np_rewards, axis=1), (200, 100)), axis=1)"
   ]
  },
  {
   "cell_type": "code",
   "execution_count": 70,
   "metadata": {},
   "outputs": [
    {
     "data": {
      "image/png": "[encoded data removed]",
      "text/plain": [
       "<matplotlib.figure.Figure at 0x1c9d2f5f8>"
      ]
     },
     "metadata": {},
     "output_type": "display_data"
    }
   ],
   "source": [
    "import matplotlib.pyplot as plt\n",
    "\n",
    "plt.plot(smoothed_reward)\n",
    "plt.show()"
   ]
  },
  {
   "cell_type": "code",
   "execution_count": 10,
   "metadata": {},
   "outputs": [
    {
     "data": {
      "text/plain": [
       "'umpire others others others others others others others others others others others others others others others'"
      ]
     },
     "execution_count": 10,
     "metadata": {},
     "output_type": "execute_result"
    }
   ],
   "source": [
    "data.decode(actions[100])"
   ]
  },
  {
   "cell_type": "code",
   "execution_count": 4,
   "metadata": {},
   "outputs": [
    {
     "name": "stdout",
     "output_type": "stream",
     "text": [
      "-12.82 69.5625 6.87304330802\n",
      "------------\n",
      "6.39723 4.2075 8.9351062407\n",
      "------------\n",
      "-76.2855 3.861875 9.13000743446\n",
      "------------\n",
      "0.838973 3.12 6.38925638628\n",
      "------------\n",
      "0.668457 3.14125 6.67301378924\n",
      "------------\n",
      "0.232755 3.186875 7.17962908384\n",
      "------------\n",
      "0.248688 3.225625 7.59940262319\n",
      "------------\n",
      "0.382631 3.241875 7.71845283215\n",
      "------------\n",
      "0.539777 3.3175 8.30026896657\n",
      "------------\n",
      "0.334065 3.250625 7.81346836181\n",
      "------------\n",
      "0.456811 3.26625 7.93577438762\n",
      "------------\n",
      "0.288374 3.253125 7.879862125\n",
      "------------\n",
      "0.309026 3.265 8.00462726839\n",
      "------------\n",
      "0.386012 3.234375 7.70541213859\n",
      "------------\n",
      "0.31305 3.248125 7.84436545403\n",
      "------------\n",
      "0.345958 3.236875 7.68190799535\n",
      "------------\n",
      "0.413872 3.240625 7.81636161124\n",
      "------------\n",
      "0.300608 3.23375 7.68419020213\n",
      "------------\n",
      "0.259563 3.245625 7.85480033378\n",
      "------------\n",
      "0.254374 3.244375 7.82044134311\n",
      "------------\n"
     ]
    }
   ],
   "source": [
    "losses = []\n",
    "actions = []\n",
    "rewards = []\n",
    "for i in range(20):\n",
    "    loss, action, reward = lstm.train(sess, data)\n",
    "    print(np.mean(loss), np.mean(action), np.mean(reward))\n",
    "    print(\"------------\")\n",
    "    losses.extend(loss)\n",
    "    actions.extend(actions)\n",
    "    rewards.extend(rewards)"
   ]
  },
  {
   "cell_type": "code",
   "execution_count": null,
   "metadata": {},
   "outputs": [],
   "source": []
  },
  {
   "cell_type": "code",
   "execution_count": null,
   "metadata": {},
   "outputs": [],
   "source": []
  },
  {
   "cell_type": "code",
   "execution_count": 82,
   "metadata": {},
   "outputs": [
    {
     "name": "stdout",
     "output_type": "stream",
     "text": [
      "INFO:tensorflow:Restoring parameters from models/200iter-pg\n",
      "iter 0, cross-entropy: 70.06298828125, accuracy: 0.27182719111442566\n",
      "iter 10, cross-entropy: 33.243900299072266, accuracy: 0.36804309487342834\n",
      "iter 20, cross-entropy: 29.137388229370117, accuracy: 0.4158325791358948\n",
      "iter 30, cross-entropy: 28.673114776611328, accuracy: 0.42959001660346985\n",
      "iter 40, cross-entropy: 27.863300323486328, accuracy: 0.42724746465682983\n",
      "iter 50, cross-entropy: 29.713666915893555, accuracy: 0.4148082137107849\n",
      "iter 60, cross-entropy: 26.70343017578125, accuracy: 0.44485634565353394\n",
      "iter 70, cross-entropy: 27.00839614868164, accuracy: 0.4376731216907501\n",
      "iter 80, cross-entropy: 28.623607635498047, accuracy: 0.434628963470459\n",
      "iter 90, cross-entropy: 28.676406860351562, accuracy: 0.41952982544898987\n",
      "iter 100, cross-entropy: 28.153303146362305, accuracy: 0.4374445378780365\n",
      "iter 110, cross-entropy: 28.017078399658203, accuracy: 0.4295964241027832\n",
      "iter 120, cross-entropy: 27.698930740356445, accuracy: 0.4413102865219116\n",
      "iter 130, cross-entropy: 27.2376651763916, accuracy: 0.4300000071525574\n",
      "iter 140, cross-entropy: 29.0226993560791, accuracy: 0.42530757188796997\n",
      "iter 150, cross-entropy: 27.334474563598633, accuracy: 0.44352617859840393\n",
      "iter 160, cross-entropy: 29.388296127319336, accuracy: 0.4195866882801056\n",
      "iter 170, cross-entropy: 29.2401065826416, accuracy: 0.42058563232421875\n",
      "iter 180, cross-entropy: 28.165634155273438, accuracy: 0.4595070481300354\n",
      "iter 190, cross-entropy: 27.799989700317383, accuracy: 0.44995492696762085\n",
      "iter 200, cross-entropy: 28.743947982788086, accuracy: 0.4346666634082794\n",
      "iter 210, cross-entropy: 28.036996841430664, accuracy: 0.45870736241340637\n",
      "iter 220, cross-entropy: 27.449758529663086, accuracy: 0.4228367507457733\n",
      "iter 230, cross-entropy: 29.014053344726562, accuracy: 0.41607141494750977\n",
      "iter 240, cross-entropy: 29.491044998168945, accuracy: 0.42959001660346985\n",
      "iter 250, cross-entropy: 29.571420669555664, accuracy: 0.42403432726860046\n",
      "iter 260, cross-entropy: 29.248695373535156, accuracy: 0.420634925365448\n",
      "iter 270, cross-entropy: 27.029279708862305, accuracy: 0.45502182841300964\n",
      "iter 280, cross-entropy: 28.248762130737305, accuracy: 0.4125683009624481\n",
      "iter 290, cross-entropy: 28.3477725982666, accuracy: 0.4250902533531189\n",
      "iter 300, cross-entropy: 26.75127601623535, accuracy: 0.43699732422828674\n"
     ]
    }
   ],
   "source": [
    "tf.reset_default_graph()\n",
    "sess.close()\n",
    "\n",
    "data = COCOData()\n",
    "lstm = MaxLikelihoodLSTM(tf.constant(data.word_embedding, dtype=tf.float32), learning_rate=5e-6, batch_size=100)\n",
    "# lstm.build_model()\n",
    "\n",
    "sess = tf.InteractiveSession()\n",
    "tf.global_variables_initializer().run()\n",
    "\n",
    "lstm.load_model(sess, \"models/200iter-pg\")\n",
    "lstm.train(sess, data, max_iterations=300)\n",
    "lstm.save_model(sess, \"reheated\")"
   ]
  },
  {
   "cell_type": "code",
   "execution_count": 2,
   "metadata": {},
   "outputs": [],
   "source": [
    "data = PGData()\n",
    "lstm = MaxLikelihoodLSTM(tf.constant(data.word_embedding, dtype=tf.float32), learning_rate=5e-3, batch_size=100)\n",
    "lstm.build_model()\n",
    "\n",
    "sess = tf.InteractiveSession()\n",
    "tf.global_variables_initializer().run()"
   ]
  },
  {
   "cell_type": "code",
   "execution_count": 3,
   "metadata": {},
   "outputs": [
    {
     "name": "stdout",
     "output_type": "stream",
     "text": [
      "INFO:tensorflow:Restoring parameters from models/reheated\n"
     ]
    },
    {
     "ename": "KeyError",
     "evalue": "\"The name 'PG/sampled_ac:0' refers to a Tensor which does not exist. The operation, 'PG/sampled_ac', does not exist in the graph.\"",
     "output_type": "error",
     "traceback": [
      "\u001b[0;31m---------------------------------------------------------------------------\u001b[0m",
      "\u001b[0;31mKeyError\u001b[0m                                  Traceback (most recent call last)",
      "\u001b[0;32m<ipython-input-3-1ee576dfedf1>\u001b[0m in \u001b[0;36m<module>\u001b[0;34m()\u001b[0m\n\u001b[1;32m      6\u001b[0m \u001b[0msess\u001b[0m \u001b[0;34m=\u001b[0m \u001b[0mtf\u001b[0m\u001b[0;34m.\u001b[0m\u001b[0mInteractiveSession\u001b[0m\u001b[0;34m(\u001b[0m\u001b[0;34m)\u001b[0m\u001b[0;34m\u001b[0m\u001b[0m\n\u001b[1;32m      7\u001b[0m \u001b[0;34m\u001b[0m\u001b[0m\n\u001b[0;32m----> 8\u001b[0;31m \u001b[0mlstm\u001b[0m\u001b[0;34m.\u001b[0m\u001b[0mload_model\u001b[0m\u001b[0;34m(\u001b[0m\u001b[0msess\u001b[0m\u001b[0;34m,\u001b[0m \u001b[0;34m\"models/reheated\"\u001b[0m\u001b[0;34m,\u001b[0m \u001b[0;32mTrue\u001b[0m\u001b[0;34m)\u001b[0m\u001b[0;34m\u001b[0m\u001b[0m\n\u001b[0m\u001b[1;32m      9\u001b[0m \u001b[0;31m# lstm.build_model(loaded=True)\u001b[0m\u001b[0;34m\u001b[0m\u001b[0;34m\u001b[0m\u001b[0m\n\u001b[1;32m     10\u001b[0m \u001b[0;34m\u001b[0m\u001b[0m\n",
      "\u001b[0;32m~/Projects/IRL-captions/lstm.py\u001b[0m in \u001b[0;36mload_model\u001b[0;34m(self, sess, modelname, is_PG)\u001b[0m\n\u001b[1;32m    550\u001b[0m     \u001b[0;32mif\u001b[0m \u001b[0mis_PG\u001b[0m\u001b[0;34m:\u001b[0m\u001b[0;34m\u001b[0m\u001b[0m\n\u001b[1;32m    551\u001b[0m       \u001b[0mgraph\u001b[0m \u001b[0;34m=\u001b[0m \u001b[0mtf\u001b[0m\u001b[0;34m.\u001b[0m\u001b[0mget_default_graph\u001b[0m\u001b[0;34m(\u001b[0m\u001b[0;34m)\u001b[0m\u001b[0;34m\u001b[0m\u001b[0m\n\u001b[0;32m--> 552\u001b[0;31m       \u001b[0mself\u001b[0m\u001b[0;34m.\u001b[0m\u001b[0msampled_ac\u001b[0m \u001b[0;34m=\u001b[0m \u001b[0mgraph\u001b[0m\u001b[0;34m.\u001b[0m\u001b[0mget_tensor_by_name\u001b[0m\u001b[0;34m(\u001b[0m\u001b[0;34m\"PG/sampled_ac:0\"\u001b[0m\u001b[0;34m)\u001b[0m\u001b[0;34m\u001b[0m\u001b[0m\n\u001b[0m\u001b[1;32m    553\u001b[0m       \u001b[0mself\u001b[0m\u001b[0;34m.\u001b[0m\u001b[0mlogprob\u001b[0m \u001b[0;34m=\u001b[0m \u001b[0mgraph\u001b[0m\u001b[0;34m.\u001b[0m\u001b[0mget_tensor_by_name\u001b[0m\u001b[0;34m(\u001b[0m\u001b[0;34m\"PG/logprob:0\"\u001b[0m\u001b[0;34m)\u001b[0m\u001b[0;34m\u001b[0m\u001b[0m\n\u001b[1;32m    554\u001b[0m       \u001b[0mself\u001b[0m\u001b[0;34m.\u001b[0m\u001b[0msy_adv\u001b[0m \u001b[0;34m=\u001b[0m \u001b[0mgraph\u001b[0m\u001b[0;34m.\u001b[0m\u001b[0mget_tensor_by_name\u001b[0m\u001b[0;34m(\u001b[0m\u001b[0;34m\"PG/adv:0\"\u001b[0m\u001b[0;34m)\u001b[0m\u001b[0;34m\u001b[0m\u001b[0m\n",
      "\u001b[0;32m~/.virtualenvs/ml3/lib/python3.6/site-packages/tensorflow/python/framework/ops.py\u001b[0m in \u001b[0;36mget_tensor_by_name\u001b[0;34m(self, name)\u001b[0m\n\u001b[1;32m   2878\u001b[0m       raise TypeError(\"Tensor names are strings (or similar), not %s.\"\n\u001b[1;32m   2879\u001b[0m                       % type(name).__name__)\n\u001b[0;32m-> 2880\u001b[0;31m     \u001b[0;32mreturn\u001b[0m \u001b[0mself\u001b[0m\u001b[0;34m.\u001b[0m\u001b[0mas_graph_element\u001b[0m\u001b[0;34m(\u001b[0m\u001b[0mname\u001b[0m\u001b[0;34m,\u001b[0m \u001b[0mallow_tensor\u001b[0m\u001b[0;34m=\u001b[0m\u001b[0;32mTrue\u001b[0m\u001b[0;34m,\u001b[0m \u001b[0mallow_operation\u001b[0m\u001b[0;34m=\u001b[0m\u001b[0;32mFalse\u001b[0m\u001b[0;34m)\u001b[0m\u001b[0;34m\u001b[0m\u001b[0m\n\u001b[0m\u001b[1;32m   2881\u001b[0m \u001b[0;34m\u001b[0m\u001b[0m\n\u001b[1;32m   2882\u001b[0m   \u001b[0;32mdef\u001b[0m \u001b[0m_next_id\u001b[0m\u001b[0;34m(\u001b[0m\u001b[0mself\u001b[0m\u001b[0;34m)\u001b[0m\u001b[0;34m:\u001b[0m\u001b[0;34m\u001b[0m\u001b[0m\n",
      "\u001b[0;32m~/.virtualenvs/ml3/lib/python3.6/site-packages/tensorflow/python/framework/ops.py\u001b[0m in \u001b[0;36mas_graph_element\u001b[0;34m(self, obj, allow_tensor, allow_operation)\u001b[0m\n\u001b[1;32m   2706\u001b[0m \u001b[0;34m\u001b[0m\u001b[0m\n\u001b[1;32m   2707\u001b[0m     \u001b[0;32mwith\u001b[0m \u001b[0mself\u001b[0m\u001b[0;34m.\u001b[0m\u001b[0m_lock\u001b[0m\u001b[0;34m:\u001b[0m\u001b[0;34m\u001b[0m\u001b[0m\n\u001b[0;32m-> 2708\u001b[0;31m       \u001b[0;32mreturn\u001b[0m \u001b[0mself\u001b[0m\u001b[0;34m.\u001b[0m\u001b[0m_as_graph_element_locked\u001b[0m\u001b[0;34m(\u001b[0m\u001b[0mobj\u001b[0m\u001b[0;34m,\u001b[0m \u001b[0mallow_tensor\u001b[0m\u001b[0;34m,\u001b[0m \u001b[0mallow_operation\u001b[0m\u001b[0;34m)\u001b[0m\u001b[0;34m\u001b[0m\u001b[0m\n\u001b[0m\u001b[1;32m   2709\u001b[0m \u001b[0;34m\u001b[0m\u001b[0m\n\u001b[1;32m   2710\u001b[0m   \u001b[0;32mdef\u001b[0m \u001b[0m_as_graph_element_locked\u001b[0m\u001b[0;34m(\u001b[0m\u001b[0mself\u001b[0m\u001b[0;34m,\u001b[0m \u001b[0mobj\u001b[0m\u001b[0;34m,\u001b[0m \u001b[0mallow_tensor\u001b[0m\u001b[0;34m,\u001b[0m \u001b[0mallow_operation\u001b[0m\u001b[0;34m)\u001b[0m\u001b[0;34m:\u001b[0m\u001b[0;34m\u001b[0m\u001b[0m\n",
      "\u001b[0;32m~/.virtualenvs/ml3/lib/python3.6/site-packages/tensorflow/python/framework/ops.py\u001b[0m in \u001b[0;36m_as_graph_element_locked\u001b[0;34m(self, obj, allow_tensor, allow_operation)\u001b[0m\n\u001b[1;32m   2748\u001b[0m           raise KeyError(\"The name %s refers to a Tensor which does not \"\n\u001b[1;32m   2749\u001b[0m                          \u001b[0;34m\"exist. The operation, %s, does not exist in the \"\u001b[0m\u001b[0;34m\u001b[0m\u001b[0m\n\u001b[0;32m-> 2750\u001b[0;31m                          \"graph.\" % (repr(name), repr(op_name)))\n\u001b[0m\u001b[1;32m   2751\u001b[0m         \u001b[0;32mtry\u001b[0m\u001b[0;34m:\u001b[0m\u001b[0;34m\u001b[0m\u001b[0m\n\u001b[1;32m   2752\u001b[0m           \u001b[0;32mreturn\u001b[0m \u001b[0mop\u001b[0m\u001b[0;34m.\u001b[0m\u001b[0moutputs\u001b[0m\u001b[0;34m[\u001b[0m\u001b[0mout_n\u001b[0m\u001b[0;34m]\u001b[0m\u001b[0;34m\u001b[0m\u001b[0m\n",
      "\u001b[0;31mKeyError\u001b[0m: \"The name 'PG/sampled_ac:0' refers to a Tensor which does not exist. The operation, 'PG/sampled_ac', does not exist in the graph.\""
     ]
    }
   ],
   "source": [
    "tf.reset_default_graph()\n",
    "sess.close()\n",
    "\n",
    "lstm = PolicyGradientLSTM(tf.constant(data.word_embedding, dtype=tf.float32), learning_rate=5e-5, batch_size=100)\n",
    "\n",
    "sess = tf.InteractiveSession()\n",
    "\n",
    "lstm.load_model(sess, \"models/reheated\", True)\n",
    "# lstm.build_model(loaded=True)\n",
    "\n",
    "ruv = set(sess.run(tf.report_uninitialized_variables()))\n",
    "uv = [v for v in tf.global_variables() if v.name.split(':')[0].encode('ascii') in ruv]\n",
    "tf.variables_initializer(uv).run()"
   ]
  },
  {
   "cell_type": "code",
   "execution_count": 4,
   "metadata": {},
   "outputs": [
    {
     "ename": "KeyError",
     "evalue": "\"The name 'sampled_ac:0' refers to a Tensor which does not exist. The operation, 'sampled_ac', does not exist in the graph.\"",
     "output_type": "error",
     "traceback": [
      "\u001b[0;31m---------------------------------------------------------------------------\u001b[0m",
      "\u001b[0;31mKeyError\u001b[0m                                  Traceback (most recent call last)",
      "\u001b[0;32m<ipython-input-4-9f6c6de2a33b>\u001b[0m in \u001b[0;36m<module>\u001b[0;34m()\u001b[0m\n\u001b[1;32m      1\u001b[0m \u001b[0mgraph\u001b[0m \u001b[0;34m=\u001b[0m \u001b[0mtf\u001b[0m\u001b[0;34m.\u001b[0m\u001b[0mget_default_graph\u001b[0m\u001b[0;34m(\u001b[0m\u001b[0;34m)\u001b[0m\u001b[0;34m\u001b[0m\u001b[0m\n\u001b[0;32m----> 2\u001b[0;31m \u001b[0mgraph\u001b[0m\u001b[0;34m.\u001b[0m\u001b[0mget_tensor_by_name\u001b[0m\u001b[0;34m(\u001b[0m\u001b[0;34m\"sampled_ac:0\"\u001b[0m\u001b[0;34m)\u001b[0m\u001b[0;34m\u001b[0m\u001b[0m\n\u001b[0m",
      "\u001b[0;32m~/.virtualenvs/ml3/lib/python3.6/site-packages/tensorflow/python/framework/ops.py\u001b[0m in \u001b[0;36mget_tensor_by_name\u001b[0;34m(self, name)\u001b[0m\n\u001b[1;32m   2878\u001b[0m       raise TypeError(\"Tensor names are strings (or similar), not %s.\"\n\u001b[1;32m   2879\u001b[0m                       % type(name).__name__)\n\u001b[0;32m-> 2880\u001b[0;31m     \u001b[0;32mreturn\u001b[0m \u001b[0mself\u001b[0m\u001b[0;34m.\u001b[0m\u001b[0mas_graph_element\u001b[0m\u001b[0;34m(\u001b[0m\u001b[0mname\u001b[0m\u001b[0;34m,\u001b[0m \u001b[0mallow_tensor\u001b[0m\u001b[0;34m=\u001b[0m\u001b[0;32mTrue\u001b[0m\u001b[0;34m,\u001b[0m \u001b[0mallow_operation\u001b[0m\u001b[0;34m=\u001b[0m\u001b[0;32mFalse\u001b[0m\u001b[0;34m)\u001b[0m\u001b[0;34m\u001b[0m\u001b[0m\n\u001b[0m\u001b[1;32m   2881\u001b[0m \u001b[0;34m\u001b[0m\u001b[0m\n\u001b[1;32m   2882\u001b[0m   \u001b[0;32mdef\u001b[0m \u001b[0m_next_id\u001b[0m\u001b[0;34m(\u001b[0m\u001b[0mself\u001b[0m\u001b[0;34m)\u001b[0m\u001b[0;34m:\u001b[0m\u001b[0;34m\u001b[0m\u001b[0m\n",
      "\u001b[0;32m~/.virtualenvs/ml3/lib/python3.6/site-packages/tensorflow/python/framework/ops.py\u001b[0m in \u001b[0;36mas_graph_element\u001b[0;34m(self, obj, allow_tensor, allow_operation)\u001b[0m\n\u001b[1;32m   2706\u001b[0m \u001b[0;34m\u001b[0m\u001b[0m\n\u001b[1;32m   2707\u001b[0m     \u001b[0;32mwith\u001b[0m \u001b[0mself\u001b[0m\u001b[0;34m.\u001b[0m\u001b[0m_lock\u001b[0m\u001b[0;34m:\u001b[0m\u001b[0;34m\u001b[0m\u001b[0m\n\u001b[0;32m-> 2708\u001b[0;31m       \u001b[0;32mreturn\u001b[0m \u001b[0mself\u001b[0m\u001b[0;34m.\u001b[0m\u001b[0m_as_graph_element_locked\u001b[0m\u001b[0;34m(\u001b[0m\u001b[0mobj\u001b[0m\u001b[0;34m,\u001b[0m \u001b[0mallow_tensor\u001b[0m\u001b[0;34m,\u001b[0m \u001b[0mallow_operation\u001b[0m\u001b[0;34m)\u001b[0m\u001b[0;34m\u001b[0m\u001b[0m\n\u001b[0m\u001b[1;32m   2709\u001b[0m \u001b[0;34m\u001b[0m\u001b[0m\n\u001b[1;32m   2710\u001b[0m   \u001b[0;32mdef\u001b[0m \u001b[0m_as_graph_element_locked\u001b[0m\u001b[0;34m(\u001b[0m\u001b[0mself\u001b[0m\u001b[0;34m,\u001b[0m \u001b[0mobj\u001b[0m\u001b[0;34m,\u001b[0m \u001b[0mallow_tensor\u001b[0m\u001b[0;34m,\u001b[0m \u001b[0mallow_operation\u001b[0m\u001b[0;34m)\u001b[0m\u001b[0;34m:\u001b[0m\u001b[0;34m\u001b[0m\u001b[0m\n",
      "\u001b[0;32m~/.virtualenvs/ml3/lib/python3.6/site-packages/tensorflow/python/framework/ops.py\u001b[0m in \u001b[0;36m_as_graph_element_locked\u001b[0;34m(self, obj, allow_tensor, allow_operation)\u001b[0m\n\u001b[1;32m   2748\u001b[0m           raise KeyError(\"The name %s refers to a Tensor which does not \"\n\u001b[1;32m   2749\u001b[0m                          \u001b[0;34m\"exist. The operation, %s, does not exist in the \"\u001b[0m\u001b[0;34m\u001b[0m\u001b[0m\n\u001b[0;32m-> 2750\u001b[0;31m                          \"graph.\" % (repr(name), repr(op_name)))\n\u001b[0m\u001b[1;32m   2751\u001b[0m         \u001b[0;32mtry\u001b[0m\u001b[0;34m:\u001b[0m\u001b[0;34m\u001b[0m\u001b[0m\n\u001b[1;32m   2752\u001b[0m           \u001b[0;32mreturn\u001b[0m \u001b[0mop\u001b[0m\u001b[0;34m.\u001b[0m\u001b[0moutputs\u001b[0m\u001b[0;34m[\u001b[0m\u001b[0mout_n\u001b[0m\u001b[0;34m]\u001b[0m\u001b[0;34m\u001b[0m\u001b[0m\n",
      "\u001b[0;31mKeyError\u001b[0m: \"The name 'sampled_ac:0' refers to a Tensor which does not exist. The operation, 'sampled_ac', does not exist in the graph.\""
     ]
    }
   ],
   "source": [
    "graph = tf.get_default_graph()\n",
    "graph.get_tensor_by_name(\"sampled_ac:0\")"
   ]
  },
  {
   "cell_type": "code",
   "execution_count": 5,
   "metadata": {},
   "outputs": [
    {
     "data": {
      "text/plain": [
       "[<tf.Variable 'image_proj/kernel:0' shape=(4096, 512) dtype=float32_ref>,\n",
       " <tf.Variable 'image_proj/bias:0' shape=(512,) dtype=float32_ref>,\n",
       " <tf.Variable 'embedding:0' shape=(1004, 304) dtype=float32_ref>,\n",
       " <tf.Variable 'rnn/lstm_cell/kernel:0' shape=(816, 2048) dtype=float32_ref>,\n",
       " <tf.Variable 'rnn/lstm_cell/bias:0' shape=(2048,) dtype=float32_ref>,\n",
       " <tf.Variable 'logits/kernel:0' shape=(512, 1004) dtype=float32_ref>,\n",
       " <tf.Variable 'logits/bias:0' shape=(1004,) dtype=float32_ref>,\n",
       " <tf.Variable 'beta1_power:0' shape=() dtype=float32_ref>,\n",
       " <tf.Variable 'beta2_power:0' shape=() dtype=float32_ref>,\n",
       " <tf.Variable 'image_proj/kernel/Adam:0' shape=(4096, 512) dtype=float32_ref>,\n",
       " <tf.Variable 'image_proj/kernel/Adam_1:0' shape=(4096, 512) dtype=float32_ref>,\n",
       " <tf.Variable 'image_proj/bias/Adam:0' shape=(512,) dtype=float32_ref>,\n",
       " <tf.Variable 'image_proj/bias/Adam_1:0' shape=(512,) dtype=float32_ref>,\n",
       " <tf.Variable 'embedding/Adam:0' shape=(1004, 304) dtype=float32_ref>,\n",
       " <tf.Variable 'embedding/Adam_1:0' shape=(1004, 304) dtype=float32_ref>,\n",
       " <tf.Variable 'rnn/lstm_cell/kernel/Adam:0' shape=(816, 2048) dtype=float32_ref>,\n",
       " <tf.Variable 'rnn/lstm_cell/kernel/Adam_1:0' shape=(816, 2048) dtype=float32_ref>,\n",
       " <tf.Variable 'rnn/lstm_cell/bias/Adam:0' shape=(2048,) dtype=float32_ref>,\n",
       " <tf.Variable 'rnn/lstm_cell/bias/Adam_1:0' shape=(2048,) dtype=float32_ref>,\n",
       " <tf.Variable 'logits/kernel/Adam:0' shape=(512, 1004) dtype=float32_ref>,\n",
       " <tf.Variable 'logits/kernel/Adam_1:0' shape=(512, 1004) dtype=float32_ref>,\n",
       " <tf.Variable 'logits/bias/Adam:0' shape=(1004,) dtype=float32_ref>,\n",
       " <tf.Variable 'logits/bias/Adam_1:0' shape=(1004,) dtype=float32_ref>,\n",
       " <tf.Variable 'PG/beta1_power:0' shape=() dtype=float32_ref>,\n",
       " <tf.Variable 'PG/beta2_power:0' shape=() dtype=float32_ref>,\n",
       " <tf.Variable 'PG/image_proj/kernel/Adam:0' shape=(4096, 512) dtype=float32_ref>,\n",
       " <tf.Variable 'PG/image_proj/kernel/Adam_1:0' shape=(4096, 512) dtype=float32_ref>,\n",
       " <tf.Variable 'PG/image_proj/bias/Adam:0' shape=(512,) dtype=float32_ref>,\n",
       " <tf.Variable 'PG/image_proj/bias/Adam_1:0' shape=(512,) dtype=float32_ref>,\n",
       " <tf.Variable 'PG/embedding/Adam:0' shape=(1004, 304) dtype=float32_ref>,\n",
       " <tf.Variable 'PG/embedding/Adam_1:0' shape=(1004, 304) dtype=float32_ref>,\n",
       " <tf.Variable 'PG/rnn/lstm_cell/kernel/Adam:0' shape=(816, 2048) dtype=float32_ref>,\n",
       " <tf.Variable 'PG/rnn/lstm_cell/kernel/Adam_1:0' shape=(816, 2048) dtype=float32_ref>,\n",
       " <tf.Variable 'PG/rnn/lstm_cell/bias/Adam:0' shape=(2048,) dtype=float32_ref>,\n",
       " <tf.Variable 'PG/rnn/lstm_cell/bias/Adam_1:0' shape=(2048,) dtype=float32_ref>,\n",
       " <tf.Variable 'PG/logits/kernel/Adam:0' shape=(512, 1004) dtype=float32_ref>,\n",
       " <tf.Variable 'PG/logits/kernel/Adam_1:0' shape=(512, 1004) dtype=float32_ref>,\n",
       " <tf.Variable 'PG/logits/bias/Adam:0' shape=(1004,) dtype=float32_ref>,\n",
       " <tf.Variable 'PG/logits/bias/Adam_1:0' shape=(1004,) dtype=float32_ref>,\n",
       " <tf.Variable 'PG/baseline/dense/kernel:0' shape=(512, 32) dtype=float32_ref>,\n",
       " <tf.Variable 'PG/baseline/dense/bias:0' shape=(32,) dtype=float32_ref>,\n",
       " <tf.Variable 'PG/baseline/dense_1/kernel:0' shape=(32, 32) dtype=float32_ref>,\n",
       " <tf.Variable 'PG/baseline/dense_1/bias:0' shape=(32,) dtype=float32_ref>,\n",
       " <tf.Variable 'PG/baseline/dense_2/kernel:0' shape=(32, 1) dtype=float32_ref>,\n",
       " <tf.Variable 'PG/baseline/dense_2/bias:0' shape=(1,) dtype=float32_ref>,\n",
       " <tf.Variable 'PG/beta1_power_1:0' shape=() dtype=float32_ref>,\n",
       " <tf.Variable 'PG/beta2_power_1:0' shape=() dtype=float32_ref>,\n",
       " <tf.Variable 'PG/image_proj/kernel/Adam_2:0' shape=(4096, 512) dtype=float32_ref>,\n",
       " <tf.Variable 'PG/image_proj/kernel/Adam_3:0' shape=(4096, 512) dtype=float32_ref>,\n",
       " <tf.Variable 'PG/image_proj/bias/Adam_2:0' shape=(512,) dtype=float32_ref>,\n",
       " <tf.Variable 'PG/image_proj/bias/Adam_3:0' shape=(512,) dtype=float32_ref>,\n",
       " <tf.Variable 'PG/PG/baseline/dense/kernel/Adam:0' shape=(512, 32) dtype=float32_ref>,\n",
       " <tf.Variable 'PG/PG/baseline/dense/kernel/Adam_1:0' shape=(512, 32) dtype=float32_ref>,\n",
       " <tf.Variable 'PG/PG/baseline/dense/bias/Adam:0' shape=(32,) dtype=float32_ref>,\n",
       " <tf.Variable 'PG/PG/baseline/dense/bias/Adam_1:0' shape=(32,) dtype=float32_ref>,\n",
       " <tf.Variable 'PG/PG/baseline/dense_1/kernel/Adam:0' shape=(32, 32) dtype=float32_ref>,\n",
       " <tf.Variable 'PG/PG/baseline/dense_1/kernel/Adam_1:0' shape=(32, 32) dtype=float32_ref>,\n",
       " <tf.Variable 'PG/PG/baseline/dense_1/bias/Adam:0' shape=(32,) dtype=float32_ref>,\n",
       " <tf.Variable 'PG/PG/baseline/dense_1/bias/Adam_1:0' shape=(32,) dtype=float32_ref>,\n",
       " <tf.Variable 'PG/PG/baseline/dense_2/kernel/Adam:0' shape=(32, 1) dtype=float32_ref>,\n",
       " <tf.Variable 'PG/PG/baseline/dense_2/kernel/Adam_1:0' shape=(32, 1) dtype=float32_ref>,\n",
       " <tf.Variable 'PG/PG/baseline/dense_2/bias/Adam:0' shape=(1,) dtype=float32_ref>,\n",
       " <tf.Variable 'PG/PG/baseline/dense_2/bias/Adam_1:0' shape=(1,) dtype=float32_ref>]"
      ]
     },
     "execution_count": 5,
     "metadata": {},
     "output_type": "execute_result"
    }
   ],
   "source": [
    "tf.global_variables()"
   ]
  },
  {
   "cell_type": "code",
   "execution_count": 85,
   "metadata": {},
   "outputs": [],
   "source": [
    "losses_reheated = []\n",
    "actions_reheated = []\n",
    "rewards_reheated = []"
   ]
  },
  {
   "cell_type": "code",
   "execution_count": 86,
   "metadata": {},
   "outputs": [
    {
     "ename": "AttributeError",
     "evalue": "'PolicyGradientLSTM' object has no attribute 'sampled_ac'",
     "output_type": "error",
     "traceback": [
      "\u001b[0;31m---------------------------------------------------------------------------\u001b[0m",
      "\u001b[0;31mAttributeError\u001b[0m                            Traceback (most recent call last)",
      "\u001b[0;32m<ipython-input-86-5a74905ffe7d>\u001b[0m in \u001b[0;36m<module>\u001b[0;34m()\u001b[0m\n\u001b[1;32m      1\u001b[0m \u001b[0;32mfor\u001b[0m \u001b[0mi\u001b[0m \u001b[0;32min\u001b[0m \u001b[0mrange\u001b[0m\u001b[0;34m(\u001b[0m\u001b[0;36m60\u001b[0m\u001b[0;34m)\u001b[0m\u001b[0;34m:\u001b[0m\u001b[0;34m\u001b[0m\u001b[0m\n\u001b[0;32m----> 2\u001b[0;31m     \u001b[0mloss\u001b[0m\u001b[0;34m,\u001b[0m \u001b[0maction\u001b[0m\u001b[0;34m,\u001b[0m \u001b[0mreward\u001b[0m \u001b[0;34m=\u001b[0m \u001b[0mlstm\u001b[0m\u001b[0;34m.\u001b[0m\u001b[0mtrain\u001b[0m\u001b[0;34m(\u001b[0m\u001b[0msess\u001b[0m\u001b[0;34m,\u001b[0m \u001b[0mdata\u001b[0m\u001b[0;34m)\u001b[0m\u001b[0;34m\u001b[0m\u001b[0m\n\u001b[0m\u001b[1;32m      3\u001b[0m     \u001b[0mprint\u001b[0m\u001b[0;34m(\u001b[0m\u001b[0mnp\u001b[0m\u001b[0;34m.\u001b[0m\u001b[0mmean\u001b[0m\u001b[0;34m(\u001b[0m\u001b[0mloss\u001b[0m\u001b[0;34m)\u001b[0m\u001b[0;34m,\u001b[0m \u001b[0mnp\u001b[0m\u001b[0;34m.\u001b[0m\u001b[0mvar\u001b[0m\u001b[0;34m(\u001b[0m\u001b[0maction\u001b[0m\u001b[0;34m)\u001b[0m\u001b[0;34m,\u001b[0m \u001b[0mnp\u001b[0m\u001b[0;34m.\u001b[0m\u001b[0mmean\u001b[0m\u001b[0;34m(\u001b[0m\u001b[0mreward\u001b[0m\u001b[0;34m)\u001b[0m\u001b[0;34m)\u001b[0m\u001b[0;34m\u001b[0m\u001b[0m\n\u001b[1;32m      4\u001b[0m     \u001b[0mprint\u001b[0m\u001b[0;34m(\u001b[0m\u001b[0;34m\"------------\"\u001b[0m\u001b[0;34m)\u001b[0m\u001b[0;34m\u001b[0m\u001b[0m\n\u001b[1;32m      5\u001b[0m     \u001b[0mlosses_reheated\u001b[0m\u001b[0;34m.\u001b[0m\u001b[0mextend\u001b[0m\u001b[0;34m(\u001b[0m\u001b[0mloss\u001b[0m\u001b[0;34m)\u001b[0m\u001b[0;34m\u001b[0m\u001b[0m\n",
      "\u001b[0;32m~/Projects/IRL-captions/lstm.py\u001b[0m in \u001b[0;36mtrain\u001b[0;34m(self, sess, data)\u001b[0m\n\u001b[1;32m    510\u001b[0m \u001b[0;34m\u001b[0m\u001b[0m\n\u001b[1;32m    511\u001b[0m   \u001b[0;32mdef\u001b[0m \u001b[0mtrain\u001b[0m\u001b[0;34m(\u001b[0m\u001b[0mself\u001b[0m\u001b[0;34m,\u001b[0m \u001b[0msess\u001b[0m\u001b[0;34m,\u001b[0m \u001b[0mdata\u001b[0m\u001b[0;34m)\u001b[0m\u001b[0;34m:\u001b[0m\u001b[0;34m\u001b[0m\u001b[0m\n\u001b[0;32m--> 512\u001b[0;31m     \u001b[0mob_init_step\u001b[0m\u001b[0;34m,\u001b[0m \u001b[0mob_in\u001b[0m\u001b[0;34m,\u001b[0m \u001b[0mob_img_feat\u001b[0m\u001b[0;34m,\u001b[0m \u001b[0mob_hid_state\u001b[0m\u001b[0;34m,\u001b[0m \u001b[0mob_cell_state\u001b[0m\u001b[0;34m,\u001b[0m \u001b[0mactions\u001b[0m\u001b[0;34m,\u001b[0m \u001b[0mq_n\u001b[0m \u001b[0;34m=\u001b[0m \u001b[0mself\u001b[0m\u001b[0;34m.\u001b[0m\u001b[0mgenerate_paths\u001b[0m\u001b[0;34m(\u001b[0m\u001b[0msess\u001b[0m\u001b[0;34m,\u001b[0m \u001b[0mdata\u001b[0m\u001b[0;34m)\u001b[0m\u001b[0;34m\u001b[0m\u001b[0m\n\u001b[0m\u001b[1;32m    513\u001b[0m \u001b[0;34m\u001b[0m\u001b[0m\n\u001b[1;32m    514\u001b[0m     \u001b[0mb_n\u001b[0m \u001b[0;34m=\u001b[0m \u001b[0mnp\u001b[0m\u001b[0;34m.\u001b[0m\u001b[0mzeros\u001b[0m\u001b[0;34m(\u001b[0m\u001b[0mq_n\u001b[0m\u001b[0;34m.\u001b[0m\u001b[0mshape\u001b[0m\u001b[0;34m)\u001b[0m\u001b[0;34m\u001b[0m\u001b[0m\n",
      "\u001b[0;32m~/Projects/IRL-captions/lstm.py\u001b[0m in \u001b[0;36mgenerate_paths\u001b[0;34m(self, sess, data, max_steps, num_paths, num_samples, gamma)\u001b[0m\n\u001b[1;32m    444\u001b[0m \u001b[0;34m\u001b[0m\u001b[0m\n\u001b[1;32m    445\u001b[0m       \u001b[0;32mfor\u001b[0m \u001b[0mi\u001b[0m \u001b[0;32min\u001b[0m \u001b[0mrange\u001b[0m\u001b[0;34m(\u001b[0m\u001b[0mmax_steps\u001b[0m\u001b[0;34m)\u001b[0m\u001b[0;34m:\u001b[0m\u001b[0;34m\u001b[0m\u001b[0m\n\u001b[0;32m--> 446\u001b[0;31m         \u001b[0mac\u001b[0m\u001b[0;34m,\u001b[0m \u001b[0mrs\u001b[0m \u001b[0;34m=\u001b[0m \u001b[0msess\u001b[0m\u001b[0;34m.\u001b[0m\u001b[0mrun\u001b[0m\u001b[0;34m(\u001b[0m\u001b[0;34m[\u001b[0m\u001b[0mself\u001b[0m\u001b[0;34m.\u001b[0m\u001b[0msampled_ac\u001b[0m\u001b[0;34m,\u001b[0m \u001b[0mself\u001b[0m\u001b[0;34m.\u001b[0m\u001b[0mrnn_state\u001b[0m\u001b[0;34m]\u001b[0m\u001b[0;34m,\u001b[0m \u001b[0mfeed_dict\u001b[0m\u001b[0;34m=\u001b[0m\u001b[0mfeed_dict\u001b[0m\u001b[0;34m)\u001b[0m\u001b[0;34m\u001b[0m\u001b[0m\n\u001b[0m\u001b[1;32m    447\u001b[0m \u001b[0;34m\u001b[0m\u001b[0m\n\u001b[1;32m    448\u001b[0m         \u001b[0mactions\u001b[0m\u001b[0;34m[\u001b[0m\u001b[0;34m:\u001b[0m\u001b[0;34m,\u001b[0m \u001b[0mi\u001b[0m\u001b[0;34m]\u001b[0m \u001b[0;34m=\u001b[0m \u001b[0mac\u001b[0m\u001b[0;34m[\u001b[0m\u001b[0;34m:\u001b[0m\u001b[0;34m,\u001b[0m \u001b[0;36m0\u001b[0m\u001b[0;34m]\u001b[0m\u001b[0;34m\u001b[0m\u001b[0m\n",
      "\u001b[0;31mAttributeError\u001b[0m: 'PolicyGradientLSTM' object has no attribute 'sampled_ac'"
     ]
    }
   ],
   "source": [
    "for i in range(60):\n",
    "    loss, action, reward = lstm.train(sess, data)\n",
    "    print(np.mean(loss), np.var(action), np.mean(reward))\n",
    "    print(\"------------\")\n",
    "    losses_reheated.extend(loss)\n",
    "    actions_reheated.extend(action)\n",
    "    rewards_reheated.extend(reward)"
   ]
  },
  {
   "cell_type": "code",
   "execution_count": null,
   "metadata": {},
   "outputs": [],
   "source": []
  }
 ],
 "metadata": {
  "kernelspec": {
   "display_name": "Python 3",
   "language": "python",
   "name": "python3"
  },
  "language_info": {
   "codemirror_mode": {
    "name": "ipython",
    "version": 3
   },
   "file_extension": ".py",
   "mimetype": "text/x-python",
   "name": "python",
   "nbconvert_exporter": "python",
   "pygments_lexer": "ipython3",
   "version": "3.6.0"
  }
 },
 "nbformat": 4,
 "nbformat_minor": 2
}

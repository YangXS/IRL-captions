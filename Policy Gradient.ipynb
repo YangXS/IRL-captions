{
 "cells": [
  {
   "cell_type": "code",
   "execution_count": 1,
   "metadata": {},
   "outputs": [],
   "source": [
    "import numpy as np\n",
    "import tensorflow as tf\n",
    "from image_utils import image_from_url\n",
    "from lstm import MaxLikelihoodLSTM, PolicyGradientLSTM\n",
    "from data import PGData, COCOData"
   ]
  },
  {
   "cell_type": "code",
   "execution_count": 2,
   "metadata": {},
   "outputs": [],
   "source": [
    "def initialize_uninitialized(sess):\n",
    "    ruv = set(sess.run(tf.report_uninitialized_variables()))\n",
    "    uv = [v for v in tf.global_variables() if v.name.split(':')[0].encode('ascii') in ruv]\n",
    "    tf.variables_initializer(uv).run()"
   ]
  },
  {
   "cell_type": "code",
   "execution_count": 3,
   "metadata": {},
   "outputs": [],
   "source": [
    "mledata = COCOData()\n",
    "pgdata = PGData()"
   ]
  },
  {
   "cell_type": "code",
   "execution_count": 4,
   "metadata": {},
   "outputs": [],
   "source": [
    "lstm = MaxLikelihoodLSTM(tf.constant(mledata.word_embedding, dtype=tf.float32), learning_rate=5e-3, batch_size=100)\n",
    "lstm.build_model()\n",
    "\n",
    "sess = tf.InteractiveSession()\n",
    "tf.global_variables_initializer().run()\n",
    "\n",
    "tf.reset_default_graph()\n",
    "sess.close()"
   ]
  },
  {
   "cell_type": "code",
   "execution_count": 5,
   "metadata": {},
   "outputs": [
    {
     "name": "stdout",
     "output_type": "stream",
     "text": [
      "INFO:tensorflow:Restoring parameters from models/mle20\n"
     ]
    }
   ],
   "source": [
    "sess = tf.InteractiveSession()\n",
    "lstm = PolicyGradientLSTM(tf.constant(pgdata.word_embedding, dtype=tf.float32), learning_rate=5e-4, batch_size=100)\n",
    "\n",
    "lstm.load_model(sess, \"models/mle20\")\n",
    "initialize_uninitialized(sess)"
   ]
  },
  {
   "cell_type": "code",
   "execution_count": 6,
   "metadata": {},
   "outputs": [],
   "source": [
    "captions = []\n",
    "probs = []\n",
    "indexes = []\n",
    "rewards = []"
   ]
  },
  {
   "cell_type": "code",
   "execution_count": 10,
   "metadata": {},
   "outputs": [
    {
     "name": "stdout",
     "output_type": "stream",
     "text": [
      "0.970317927365\n",
      "------------\n"
     ]
    }
   ],
   "source": [
    "for i in range(1):\n",
    "    caption, prob, index, reward = lstm.train(sess, pgdata)\n",
    "    pgdata.shuffle()\n",
    "    print(np.mean(reward))\n",
    "    print(\"------------\")\n",
    "    captions.extend(caption)\n",
    "    probs.extend(prob)\n",
    "    indexes.extend(index)\n",
    "    rewards.extend(reward)"
   ]
  },
  {
   "cell_type": "code",
   "execution_count": 12,
   "metadata": {},
   "outputs": [
    {
     "data": {
      "text/plain": [
       "[6.7919143772098773e-18,\n",
       " 2.3484262262105167e-13,\n",
       " 4.8896974728754362e-14,\n",
       " 7.4730770627980502e-13,\n",
       " 7.9859184987754594e-21,\n",
       " 1.4383394445610477e-15,\n",
       " 3.8797397615435021e-15,\n",
       " 4.3890702553993027e-13,\n",
       " 1.6222335540928756e-14,\n",
       " 5.8433455209057957e-20,\n",
       " 7.1005890584288443e-27,\n",
       " 1.7695544480522769e-18,\n",
       " 2.3111656808846983e-19,\n",
       " 3.0919886187547983e-13,\n",
       " 9.4813969436905772e-19,\n",
       " 6.6211097551006627e-15,\n",
       " 2.9953032121551384e-14,\n",
       " 3.2607058498723657e-14,\n",
       " 6.2220082728445169e-20,\n",
       " 1.7449048501893558e-18,\n",
       " 9.2145881422725517e-20,\n",
       " 1.5442220002294093e-13,\n",
       " 6.7351678511591466e-16,\n",
       " 1.6310332164271611e-13,\n",
       " 1.0754416242144591e-10,\n",
       " 6.1872368055381225e-14,\n",
       " 2.7146422462835547e-10,\n",
       " 1.2435358133658161e-10,\n",
       " 9.0565657127040648e-12,\n",
       " 1.6581973021700927e-16,\n",
       " 7.2752104569980358e-14,\n",
       " 1.4966079080307106e-16,\n",
       " 6.1396081024205484e-21,\n",
       " 1.6969989104740099e-18,\n",
       " 7.2102177399963368e-14,\n",
       " 6.4896340728029903e-13,\n",
       " 5.9732323715913073e-17,\n",
       " 7.5050002209728362e-22,\n",
       " 3.0169411122657283e-16,\n",
       " 3.8310154284899312e-21,\n",
       " 3.5719845774998361e-14,\n",
       " 3.2367132601028958e-16,\n",
       " 2.5229034318869281e-12,\n",
       " 5.6448901056611228e-17,\n",
       " 2.3442395724504449e-21,\n",
       " 4.591230767086264e-13,\n",
       " 3.9813604080105678e-13,\n",
       " 3.8852499292396426e-16,\n",
       " 1.0186924926125896e-18,\n",
       " 4.4965440688428547e-17,\n",
       " 7.4510913407406539e-24,\n",
       " 1.7974935577006907e-28,\n",
       " 1.1089370761312653e-18,\n",
       " 6.3426448132702574e-18,\n",
       " 3.493681421444401e-12,\n",
       " 6.6850964950448245e-27,\n",
       " 5.7447268529127744e-10,\n",
       " 2.2193169679528641e-19,\n",
       " 2.4766863271364819e-17,\n",
       " 1.3626492014801483e-15,\n",
       " 1.4572829110125069e-23,\n",
       " 5.9623406678870304e-10,\n",
       " 4.8056508253104666e-11,\n",
       " 8.1319094554473629e-13,\n",
       " 3.7835115151064237e-16,\n",
       " 1.4743681189167747e-15,\n",
       " 1.7872349616073616e-17,\n",
       " 9.6487251657809088e-22,\n",
       " 5.7647755052859682e-20,\n",
       " 4.1192528917190568e-15,\n",
       " 1.7221667039648708e-11,\n",
       " 1.7895068217302591e-14,\n",
       " 6.6964830568229017e-18,\n",
       " 8.3755051438019372e-18,\n",
       " 2.4944752297315228e-13,\n",
       " 1.4278728393644727e-14,\n",
       " 9.9837018067090937e-13,\n",
       " 2.0835768169484026e-16,\n",
       " 5.8377692403118466e-11,\n",
       " 1.7105904497752003e-14,\n",
       " 5.4953257228071933e-17,\n",
       " 3.627800925073082e-13,\n",
       " 1.7424902247198862e-12,\n",
       " 8.8418192037308127e-19,\n",
       " 1.0941285896043252e-11,\n",
       " 2.5686629162987272e-18,\n",
       " 2.3267493179199585e-11,\n",
       " 3.709737184177384e-18,\n",
       " 5.0625531324751058e-13,\n",
       " 1.3578042674855418e-23,\n",
       " 5.7484153952432087e-18,\n",
       " 1.7679488807727288e-15,\n",
       " 7.4548607770560678e-22,\n",
       " 1.7042820230493367e-15,\n",
       " 9.8824062749216679e-22,\n",
       " 2.9155687427735426e-18,\n",
       " 1.7487859126036238e-14,\n",
       " 2.6973196761124416e-11,\n",
       " 2.883541920183965e-18,\n",
       " 7.4255016836194796e-12]"
      ]
     },
     "execution_count": 12,
     "metadata": {},
     "output_type": "execute_result"
    }
   ],
   "source": [
    "probs"
   ]
  },
  {
   "cell_type": "code",
   "execution_count": 7,
   "metadata": {},
   "outputs": [],
   "source": [
    "tf.reset_default_graph()\n",
    "sess.close()"
   ]
  },
  {
   "cell_type": "code",
   "execution_count": 18,
   "metadata": {},
   "outputs": [
    {
     "data": {
      "image/png": "[encoded data removed]",
      "text/plain": [
       "<matplotlib.figure.Figure at 0x24632db00>"
      ]
     },
     "metadata": {},
     "output_type": "display_data"
    }
   ],
   "source": [
    "import matplotlib.pyplot as plt\n",
    "\n",
    "rewards_arr = np.array(rewards)\n",
    "plt.plot(np.mean(np.reshape(rewards_arr[:, -1], (75, 100)), axis=1))\n",
    "# plt.plot(rewards_arr[:, -1])\n",
    "plt.show()"
   ]
  },
  {
   "cell_type": "code",
   "execution_count": 21,
   "metadata": {},
   "outputs": [],
   "source": [
    "from pyciderevalcap.eval import CIDErEvalCap as ciderEval\n",
    "cand_list, ref = [], {}\n",
    "for i in range(1000, 2000):\n",
    "    idx = str(i)\n",
    "    ref[idx]  = pgdata.data['train_image_idx_to_captions'][idx][0:-1]\n",
    "    cand_list.append({'image_id': idx, 'caption': pgdata.data['train_image_idx_to_captions'][idx][-1]['caption']})\n",
    "\n",
    "scorer = ciderEval(ref, cand_list, \"coco-val-df\")\n",
    "scores = scorer.evaluate()"
   ]
  },
  {
   "cell_type": "code",
   "execution_count": 22,
   "metadata": {},
   "outputs": [
    {
     "data": {
      "text/plain": [
       "1.7911916746177574"
      ]
     },
     "execution_count": 22,
     "metadata": {},
     "output_type": "execute_result"
    }
   ],
   "source": [
    "np.mean(scores)"
   ]
  },
  {
   "cell_type": "code",
   "execution_count": null,
   "metadata": {},
   "outputs": [],
   "source": []
  }
 ],
 "metadata": {
  "kernelspec": {
   "display_name": "Python 3",
   "language": "python",
   "name": "python3"
  },
  "language_info": {
   "codemirror_mode": {
    "name": "ipython",
    "version": 3
   },
   "file_extension": ".py",
   "mimetype": "text/x-python",
   "name": "python",
   "nbconvert_exporter": "python",
   "pygments_lexer": "ipython3",
   "version": "3.6.0"
  }
 },
 "nbformat": 4,
 "nbformat_minor": 2
}

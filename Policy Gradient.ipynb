{
 "cells": [
  {
   "cell_type": "code",
   "execution_count": 1,
   "metadata": {},
   "outputs": [],
   "source": [
    "import numpy as np\n",
    "import tensorflow as tf\n",
    "from image_utils import image_from_url\n",
    "from lstm import MaxLikelihoodLSTM, PolicyGradientLSTM\n",
    "from data import PGData, COCOData"
   ]
  },
  {
   "cell_type": "code",
   "execution_count": 2,
   "metadata": {},
   "outputs": [],
   "source": [
    "def initialize_uninitialized(sess):\n",
    "    ruv = set(sess.run(tf.report_uninitialized_variables()))\n",
    "    uv = [v for v in tf.global_variables() if v.name.split(':')[0].encode('ascii') in ruv]\n",
    "    tf.variables_initializer(uv).run()"
   ]
  },
  {
   "cell_type": "code",
   "execution_count": 3,
   "metadata": {},
   "outputs": [],
   "source": [
    "mledata = COCOData()\n",
    "pgdata = PGData()"
   ]
  },
  {
   "cell_type": "code",
   "execution_count": 4,
   "metadata": {},
   "outputs": [
    {
     "name": "stdout",
     "output_type": "stream",
     "text": [
      "iter 0, cross-entropy: 110.69351196289062, accuracy: 0.0018018018454313278\n",
      "iter 10, cross-entropy: 52.924198150634766, accuracy: 0.16621984541416168\n",
      "iter 20, cross-entropy: 45.41652297973633, accuracy: 0.2798541486263275\n",
      "iter 30, cross-entropy: 44.96426773071289, accuracy: 0.3088364005088806\n",
      "iter 40, cross-entropy: 41.96060562133789, accuracy: 0.3268722593784332\n",
      "iter 50, cross-entropy: 38.953208923339844, accuracy: 0.34454545378685\n",
      "iter 60, cross-entropy: 37.91774368286133, accuracy: 0.3520362079143524\n",
      "iter 70, cross-entropy: 38.18503952026367, accuracy: 0.3593466281890869\n",
      "iter 80, cross-entropy: 37.46135711669922, accuracy: 0.35534319281578064\n",
      "iter 90, cross-entropy: 37.22952651977539, accuracy: 0.341850221157074\n",
      "iter 100, cross-entropy: 36.48466110229492, accuracy: 0.35231316089630127\n",
      "iter 110, cross-entropy: 35.3934326171875, accuracy: 0.3633125424385071\n",
      "iter 120, cross-entropy: 34.1655158996582, accuracy: 0.3739837408065796\n",
      "iter 130, cross-entropy: 31.75765609741211, accuracy: 0.3934883773326874\n",
      "iter 140, cross-entropy: 30.874731063842773, accuracy: 0.41081079840660095\n",
      "iter 150, cross-entropy: 31.473339080810547, accuracy: 0.4128686189651489\n",
      "iter 160, cross-entropy: 31.951766967773438, accuracy: 0.40533334016799927\n",
      "iter 170, cross-entropy: 33.990535736083984, accuracy: 0.37861526012420654\n",
      "iter 180, cross-entropy: 31.683116912841797, accuracy: 0.407706081867218\n",
      "iter 190, cross-entropy: 30.550352096557617, accuracy: 0.40594059228897095\n",
      "iter 200, cross-entropy: 32.6055908203125, accuracy: 0.38230088353157043\n",
      "iter 210, cross-entropy: 32.527976989746094, accuracy: 0.3835860788822174\n",
      "iter 220, cross-entropy: 30.527202606201172, accuracy: 0.4012455642223358\n",
      "iter 230, cross-entropy: 31.02764320373535, accuracy: 0.40482574701309204\n",
      "iter 240, cross-entropy: 32.403018951416016, accuracy: 0.38447973132133484\n",
      "iter 250, cross-entropy: 30.264936447143555, accuracy: 0.4091726541519165\n",
      "iter 260, cross-entropy: 30.251060485839844, accuracy: 0.4070080816745758\n",
      "iter 270, cross-entropy: 29.996450424194336, accuracy: 0.41607141494750977\n",
      "iter 280, cross-entropy: 31.213947296142578, accuracy: 0.38634321093559265\n",
      "iter 290, cross-entropy: 31.653831481933594, accuracy: 0.4017699062824249\n",
      "iter 300, cross-entropy: 30.235031127929688, accuracy: 0.4001806676387787\n"
     ]
    }
   ],
   "source": [
    "lstm = MaxLikelihoodLSTM(tf.constant(mledata.word_embedding, dtype=tf.float32), learning_rate=5e-3, batch_size=100)\n",
    "with tf.variable_scope(\"generator\"):\n",
    "    lstm.build_model()\n",
    "\n",
    "sess = tf.InteractiveSession()\n",
    "tf.global_variables_initializer().run()\n",
    "\n",
    "lstm.train(sess, mledata, max_iterations=300)\n",
    "lstm.save_model(sess, \"mle300\")\n",
    "\n",
    "tf.reset_default_graph()\n",
    "sess.close()"
   ]
  },
  {
   "cell_type": "code",
   "execution_count": 5,
   "metadata": {},
   "outputs": [
    {
     "name": "stdout",
     "output_type": "stream",
     "text": [
      "INFO:tensorflow:Restoring parameters from models/mle30\n"
     ]
    }
   ],
   "source": [
    "sess = tf.InteractiveSession()\n",
    "lstm = PolicyGradientLSTM(tf.constant(pgdata.word_embedding, dtype=tf.float32), learning_rate=5e-4, batch_size=100)\n",
    "\n",
    "lstm.load_model(sess, \"models/mle30\")\n",
    "initialize_uninitialized(sess)"
   ]
  },
  {
   "cell_type": "code",
   "execution_count": 6,
   "metadata": {},
   "outputs": [],
   "source": [
    "captions = []\n",
    "probs = []\n",
    "indexes = []\n",
    "rewards = []"
   ]
  },
  {
   "cell_type": "code",
   "execution_count": 7,
   "metadata": {},
   "outputs": [
    {
     "name": "stdout",
     "output_type": "stream",
     "text": [
      "0.879594180168\n",
      "------------\n"
     ]
    }
   ],
   "source": [
    "for i in range(1):\n",
    "    caption, prob, index, reward = lstm.train(sess, pgdata)\n",
    "    pgdata.shuffle()\n",
    "    print(np.mean(reward))\n",
    "    print(\"------------\")\n",
    "    captions.extend(caption)\n",
    "    probs.extend(prob)\n",
    "    indexes.extend(index)\n",
    "    rewards.extend(reward)"
   ]
  },
  {
   "cell_type": "code",
   "execution_count": 7,
   "metadata": {},
   "outputs": [],
   "source": [
    "tf.reset_default_graph()\n",
    "sess.close()"
   ]
  },
  {
   "cell_type": "code",
   "execution_count": 18,
   "metadata": {},
   "outputs": [
    {
     "data": {
      "image/png": "[encoded data removed]",
      "text/plain": [
       "<matplotlib.figure.Figure at 0x24632db00>"
      ]
     },
     "metadata": {},
     "output_type": "display_data"
    }
   ],
   "source": [
    "import matplotlib.pyplot as plt\n",
    "\n",
    "rewards_arr = np.array(rewards)\n",
    "plt.plot(np.mean(np.reshape(rewards_arr[:, -1], (75, 100)), axis=1))\n",
    "# plt.plot(rewards_arr[:, -1])\n",
    "plt.show()"
   ]
  },
  {
   "cell_type": "code",
   "execution_count": 21,
   "metadata": {},
   "outputs": [],
   "source": [
    "from pyciderevalcap.eval import CIDErEvalCap as ciderEval\n",
    "cand_list, ref = [], {}\n",
    "for i in range(1000, 2000):\n",
    "    idx = str(i)\n",
    "    ref[idx]  = pgdata.data['train_image_idx_to_captions'][idx][0:-1]\n",
    "    cand_list.append({'image_id': idx, 'caption': pgdata.data['train_image_idx_to_captions'][idx][-1]['caption']})\n",
    "\n",
    "scorer = ciderEval(ref, cand_list, \"coco-val-df\")\n",
    "scores = scorer.evaluate()"
   ]
  },
  {
   "cell_type": "code",
   "execution_count": 22,
   "metadata": {},
   "outputs": [
    {
     "data": {
      "text/plain": [
       "1.7911916746177574"
      ]
     },
     "execution_count": 22,
     "metadata": {},
     "output_type": "execute_result"
    }
   ],
   "source": [
    "np.mean(scores)"
   ]
  },
  {
   "cell_type": "code",
   "execution_count": null,
   "metadata": {},
   "outputs": [],
   "source": []
  }
 ],
 "metadata": {
  "kernelspec": {
   "display_name": "Python 3",
   "language": "python",
   "name": "python3"
  },
  "language_info": {
   "codemirror_mode": {
    "name": "ipython",
    "version": 3
   },
   "file_extension": ".py",
   "mimetype": "text/x-python",
   "name": "python",
   "nbconvert_exporter": "python",
   "pygments_lexer": "ipython3",
   "version": "3.6.0"
  }
 },
 "nbformat": 4,
 "nbformat_minor": 2
}

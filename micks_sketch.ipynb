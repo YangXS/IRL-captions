{
 "cells": [
  {
   "cell_type": "code",
   "execution_count": 6,
   "metadata": {
    "collapsed": true
   },
   "outputs": [],
   "source": [
    "import numpy as np"
   ]
  },
  {
   "cell_type": "code",
   "execution_count": 2,
   "metadata": {
    "collapsed": false
   },
   "outputs": [],
   "source": [
    "from coco_utils import load_coco_data, sample_coco_minibatch, decode_captions\n",
    "from image_utils import image_from_url\n"
   ]
  },
  {
   "cell_type": "code",
   "execution_count": 3,
   "metadata": {
    "collapsed": true
   },
   "outputs": [],
   "source": [
    "def show_image(batch_size):\n",
    "    captions, features, urls = sample_coco_minibatch(data, batch_size=batch_size)\n",
    "    for i, (caption, url) in enumerate(zip(captions, urls)):\n",
    "        plt.imshow(image_from_url(url))\n",
    "        plt.axis('off')\n",
    "        caption_str = decode_captions(caption, data['idx_to_word'])\n",
    "        plt.title(caption_str)\n",
    "        plt.show()\n"
   ]
  },
  {
   "cell_type": "code",
   "execution_count": 4,
   "metadata": {
    "collapsed": false
   },
   "outputs": [],
   "source": [
    "data = load_coco_data(pca_features=False, max_train=20)"
   ]
  },
  {
   "cell_type": "code",
   "execution_count": 7,
   "metadata": {
    "collapsed": false
   },
   "outputs": [
    {
     "name": "stdout",
     "output_type": "stream",
     "text": [
      "word_to_idx <class 'dict'> 1004\n",
      "train_features <class 'numpy.ndarray'> (82783, 4096) float32\n",
      "val_captions <class 'numpy.ndarray'> (195954, 17) int32\n",
      "val_urls <class 'numpy.ndarray'> (40504,) <U63\n",
      "train_urls <class 'numpy.ndarray'> (82783,) <U63\n",
      "val_image_idxs <class 'numpy.ndarray'> (195954,) int32\n",
      "val_features <class 'numpy.ndarray'> (40504, 4096) float32\n",
      "train_captions <class 'numpy.ndarray'> (20, 17) int32\n",
      "train_image_idxs <class 'numpy.ndarray'> (20,) int32\n",
      "idx_to_word <class 'list'> 1004\n"
     ]
    }
   ],
   "source": [
    "for k, v in data.items():\n",
    "    if type(v) == np.ndarray:\n",
    "        print(k, type(v), v.shape, v.dtype)\n",
    "    else:\n",
    "        print(k, type(v), len(v))"
   ]
  },
  {
   "cell_type": "code",
   "execution_count": null,
   "metadata": {
    "collapsed": false
   },
   "outputs": [],
   "source": [
    "show_image(3)"
   ]
  },
  {
   "cell_type": "code",
   "execution_count": null,
   "metadata": {
    "collapsed": false
   },
   "outputs": [],
   "source": [
    "import tensorflow as tf\n",
    "import matplotlib.pyplot as plt\n",
    "import layer_utils \n",
    "\n",
    "## word embedding\n",
    "vocab_dim = len(data['word_to_idx'])\n",
    "embedding_dim = 300\n",
    "\n",
    "## map \n",
    "sy_caption_input = tf.placeholder(shape=[None, None, vocab_dim], name=\"ob\", dtype=tf.float32)\n",
    "\n",
    "layer_utils.build_mlp()\n",
    "\n",
    "\n",
    "\n",
    "x = tf.placeholder(shape=(None,None,10),dtype=tf.float32)\n",
    "cell = tf.nn.rnn_cell.LSTMCell(30)\n",
    "outputs, final = tf.nn.dynamic_rnn(cell, x, time_major=False, dtype=tf.float32)\n"
   ]
  },
  {
   "cell_type": "code",
   "execution_count": null,
   "metadata": {
    "collapsed": false
   },
   "outputs": [],
   "source": [
    "sess = tf.InteractiveSession()\n",
    "tf.global_variables_initializer().run()\n",
    "\n",
    "import numpy as np\n",
    "o, f = sess.run([outputs, final], {x: np.random.rand(32,50,10)})\n",
    "o.shape\n"
   ]
  }
 ],
 "metadata": {
  "anaconda-cloud": {},
  "kernelspec": {
   "display_name": "Python [conda env:deeprl]",
   "language": "python",
   "name": "conda-env-deeprl-py"
  },
  "language_info": {
   "codemirror_mode": {
    "name": "ipython",
    "version": 3
   },
   "file_extension": ".py",
   "mimetype": "text/x-python",
   "name": "python",
   "nbconvert_exporter": "python",
   "pygments_lexer": "ipython3",
   "version": "3.5.4"
  }
 },
 "nbformat": 4,
 "nbformat_minor": 1
}

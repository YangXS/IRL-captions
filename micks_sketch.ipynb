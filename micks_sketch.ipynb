{
 "cells": [
  {
   "cell_type": "code",
   "execution_count": 1,
   "metadata": {
    "collapsed": true
   },
   "outputs": [],
   "source": [
    "import numpy as np\n",
    "import matplotlib.pyplot as plt\n"
   ]
  },
  {
   "cell_type": "markdown",
   "metadata": {},
   "source": [
    "## Loading data"
   ]
  },
  {
   "cell_type": "code",
   "execution_count": 2,
   "metadata": {
    "collapsed": false
   },
   "outputs": [],
   "source": [
    "from coco_utils import load_coco_data, sample_coco_minibatch, decode_captions\n",
    "from image_utils import image_from_url\n"
   ]
  },
  {
   "cell_type": "code",
   "execution_count": 3,
   "metadata": {
    "collapsed": true
   },
   "outputs": [],
   "source": [
    "def show_image(batch_size):\n",
    "    captions, features, urls = sample_coco_minibatch(data, batch_size=batch_size)\n",
    "    for i, (caption, url) in enumerate(zip(captions, urls)):\n",
    "        plt.imshow(image_from_url(url))\n",
    "        plt.axis('off')\n",
    "        caption_str = decode_captions(caption, data['idx_to_word'])\n",
    "        plt.title(caption_str)\n",
    "        plt.show()"
   ]
  },
  {
   "cell_type": "code",
   "execution_count": 4,
   "metadata": {
    "collapsed": false
   },
   "outputs": [],
   "source": [
    "data = load_coco_data(pca_features=True)"
   ]
  },
  {
   "cell_type": "code",
   "execution_count": 5,
   "metadata": {
    "collapsed": false
   },
   "outputs": [
    {
     "name": "stdout",
     "output_type": "stream",
     "text": [
      "idx_to_word <class 'list'> 1004\n",
      "val_captions <class 'numpy.ndarray'> (195954, 17) int32\n",
      "train_urls <class 'numpy.ndarray'> (82783,) <U63\n",
      "train_features <class 'numpy.ndarray'> (82783, 512) float32\n",
      "val_urls <class 'numpy.ndarray'> (40504,) <U63\n",
      "train_captions <class 'numpy.ndarray'> (400135, 17) int32\n",
      "train_image_idxs <class 'numpy.ndarray'> (400135,) int32\n",
      "word_embedding <class 'numpy.ndarray'> (1004, 304) float64\n",
      "val_image_idxs <class 'numpy.ndarray'> (195954,) int32\n",
      "val_features <class 'numpy.ndarray'> (40504, 512) float32\n",
      "word_to_idx <class 'dict'> 1004\n"
     ]
    }
   ],
   "source": [
    "for k, v in data.items():\n",
    "    if type(v) == np.ndarray:\n",
    "        print(k, type(v), v.shape, v.dtype)\n",
    "    else:\n",
    "        print(k, type(v), len(v))"
   ]
  },
  {
   "cell_type": "code",
   "execution_count": 6,
   "metadata": {
    "collapsed": false
   },
   "outputs": [],
   "source": [
    "# show_image(1)"
   ]
  },
  {
   "cell_type": "code",
   "execution_count": 7,
   "metadata": {
    "collapsed": false
   },
   "outputs": [],
   "source": [
    "def sparse_to_one_hot(sparse_input, max_dim):\n",
    "    one_hot = np.zeros((sparse_input.shape[0], max_dim))\n",
    "    for idx, input_index in enumerate(sparse_input):\n",
    "        one_hot[idx, input_index] = 1\n",
    "    return one_hot\n",
    "\n",
    "def captions_to_one_hot(captions, vocab_dim):\n",
    "    return [sparse_to_one_hot(sentence, vocab_dim) for sentence in captions]\n",
    "\n",
    "def verify_caption_train_target_offset(train_caption, target_caption):\n",
    "    for i in range(len(target_caption) - 1):\n",
    "        assert train_caption[i + 1] == target_caption[i]\n",
    "        \n",
    "def get_train_target_caption(train_captions_as_word_ids, null_representation):\n",
    "    \"\"\"\n",
    "        Convert training data:\n",
    "        '<START> a variety of fruits and vegetables sitting on a kitchen counter'\n",
    "        to target:\n",
    "        'a variety of fruits and vegetables sitting on a kitchen counter <END>'\n",
    "    \"\"\"\n",
    "    target_captions_as_word_ids = train_captions_as_word_ids[:, 1:]\n",
    "    train_captions_as_word_ids = train_captions_as_word_ids[:, :-1]\n",
    "    verify_caption_train_target_offset(train_captions_as_word_ids[0], target_captions_as_word_ids[0])\n",
    "    not_null_target_mask = target_captions_as_word_ids != null_representation\n",
    "    return train_captions_as_word_ids, target_captions_as_word_ids, not_null_target_mask\n"
   ]
  },
  {
   "cell_type": "code",
   "execution_count": 8,
   "metadata": {
    "collapsed": true
   },
   "outputs": [],
   "source": [
    "import tensorflow as tf\n",
    "import matplotlib.pyplot as plt\n",
    "import layer_utils "
   ]
  },
  {
   "cell_type": "code",
   "execution_count": 9,
   "metadata": {
    "collapsed": false
   },
   "outputs": [],
   "source": [
    "\n",
    "## word preprocess\n",
    "vocab_dim = len(data['word_to_idx'])\n",
    "image_feature_dim = data['val_features'].shape[1]\n",
    "enable_preprocessed_embedding = True\n",
    "\n",
    "if enable_preprocessed_embedding:\n",
    "    word_embedding_dim = data['word_embedding'].shape[1]\n",
    "else:\n",
    "    word_embedding_dim = 256\n",
    "\n",
    "START_TOKEN = '<START>'\n",
    "END_TOKEN = '<END>'\n",
    "NULL_TOKEN = '<NULL>'\n",
    "NULL_ID = data['word_to_idx'][NULL_TOKEN]\n",
    "\n",
    "## model params\n",
    "hidden_dim = 512\n",
    "learning_rate = 5e-4\n"
   ]
  },
  {
   "cell_type": "markdown",
   "metadata": {},
   "source": [
    "## Model Architecture"
   ]
  },
  {
   "cell_type": "code",
   "execution_count": 10,
   "metadata": {
    "collapsed": false
   },
   "outputs": [],
   "source": [
    "# Word Input\n",
    "sy_caption_input = tf.placeholder(shape=[None, None], name=\"caption_input\", dtype=tf.int32)\n",
    "\n",
    "if enable_preprocessed_embedding:\n",
    "    embedding_init = tf.constant(data['word_embedding'], dtype=tf.float32)\n",
    "    embedding = tf.get_variable(\"embedding\", initializer=embedding_init)\n",
    "else:\n",
    "    embedding_init = tf.random_normal_initializer()\n",
    "    embedding = tf.get_variable(\"embedding\", [vocab_dim, word_embedding_dim], dtype=tf.float32, initializer=embedding_init)\n",
    "\n",
    "word_embedding = tf.nn.embedding_lookup(embedding, sy_caption_input)\n",
    "\n",
    "# Image Input\n",
    "sy_image_feat_input = tf.placeholder(shape=[None, image_feature_dim], name=\"image_feat_input\", dtype=tf.float32)\n",
    "image_projection = layer_utils.affine_transform(sy_image_feat_input, image_feature_dim, 'image_proj')\n",
    "initial_cell_state = image_projection * 0\n",
    "initial_lstm_state = tf.nn.rnn_cell.LSTMStateTuple(initial_cell_state, image_projection)\n"
   ]
  },
  {
   "cell_type": "code",
   "execution_count": 11,
   "metadata": {
    "collapsed": false
   },
   "outputs": [
    {
     "name": "stdout",
     "output_type": "stream",
     "text": [
      "-- Input tensors --\n",
      "word embedding shape:  Tensor(\"embedding_lookup:0\", shape=(?, ?, 304), dtype=float32)\n",
      "hidden lstm:  Tensor(\"hidden_to_word/dense/BiasAdd:0\", shape=(?, ?, 1004), dtype=float32)\n",
      "\n",
      "-- Loss tensors --\n",
      "Target one hot:  Tensor(\"one_hot:0\", shape=(?, ?, 1004), dtype=int64)\n",
      "Mask not null:  Tensor(\"Cast_1:0\", shape=(?, ?), dtype=float32)\n",
      "Raw cross entropy:  Tensor(\"Reshape_2:0\", shape=(?, ?), dtype=float32)\n",
      "Masked cross entropy:  Tensor(\"Mean:0\", shape=(), dtype=float32)\n",
      "Cross entropy:  Tensor(\"Mean:0\", shape=(), dtype=float32)\n",
      "\n",
      "-- Prediction tensors --\n",
      "target given:  Tensor(\"caption_target:0\", shape=(?, ?), dtype=int64)\n",
      "correct_pred prediction shape: Tensor(\"truediv:0\", shape=(), dtype=float32)\n"
     ]
    }
   ],
   "source": [
    "# LSTM\n",
    "cell = tf.nn.rnn_cell.LSTMCell(hidden_dim)\n",
    "outputs, _ = tf.nn.dynamic_rnn(cell, word_embedding, time_major=False, dtype=tf.float32, initial_state=initial_lstm_state)\n",
    "hidden_to_word = layer_utils.affine_transform(outputs, vocab_dim, 'hidden_to_word')\n",
    "\n",
    "# Process entropy from logits and one-hot target\n",
    "sy_caption_target = tf.placeholder(shape=[None, None], name=\"caption_target\", dtype=tf.int64)\n",
    "target_one_hot = tf.one_hot(sy_caption_target, vocab_dim, dtype=tf.int64)\n",
    "raw_cross_entropy = tf.nn.softmax_cross_entropy_with_logits(labels=target_one_hot, logits=hidden_to_word)\n",
    "\n",
    "# Apply not-null mask to ignore cross-entropy on trailing padding\n",
    "sy_target_mask = tf.placeholder(shape=[None, None], name=\"mask_not_null\", dtype=tf.bool)\n",
    "mask_not_null = tf.cast(sy_target_mask, dtype=tf.float32)\n",
    "masked_cross_entropy = raw_cross_entropy * mask_not_null\n",
    "\n",
    "# Get average cross entropy over caption \n",
    "cross_entropy = tf.reduce_mean(tf.reduce_sum(masked_cross_entropy, axis=1))\n",
    "update_op = tf.train.AdamOptimizer(learning_rate).minimize(cross_entropy)\n",
    "\n",
    "# Prediction accuracy\n",
    "total_predictions = tf.cast(tf.reduce_sum(mask_not_null), tf.float32)\n",
    "prediction = tf.argmax(hidden_to_word, axis = 2)\n",
    "correct_pred = tf.equal(prediction, sy_caption_target)\n",
    "accuracy = tf.reduce_sum(tf.cast(correct_pred, tf.float32)) / total_predictions\n",
    "\n",
    "print(\"-- Input tensors --\")\n",
    "print(\"word embedding shape: \", word_embedding)\n",
    "print(\"hidden lstm: \", hidden_to_word)\n",
    "\n",
    "print(\"\\n-- Loss tensors --\")\n",
    "print(\"Target one hot: \", target_one_hot)\n",
    "print(\"Mask not null: \", mask_not_null)\n",
    "print(\"Raw cross entropy: \", raw_cross_entropy)\n",
    "print(\"Masked cross entropy: \", cross_entropy)\n",
    "print(\"Cross entropy: \", cross_entropy)\n",
    "\n",
    "print(\"\\n-- Prediction tensors --\")\n",
    "print(\"target given: \", sy_caption_target)\n",
    "print(\"correct_pred prediction shape:\", accuracy)\n"
   ]
  },
  {
   "cell_type": "code",
   "execution_count": 12,
   "metadata": {
    "collapsed": false
   },
   "outputs": [],
   "source": [
    "def sample_caption(session, initial_word, image_feature, limit_length):\n",
    "    \n",
    "    generated_word_idx = []\n",
    "    for _ in range(limit_length):\n",
    "        caption_input = [[initial_word]]\n",
    "        pred = session.run(prediction,feed_dict =\n",
    "                           {sy_caption_input: caption_input,\n",
    "                           sy_image_feat_input: image_feature\n",
    "                           })[0][0]\n",
    "        \n",
    "        if type(initial_word) is list:\n",
    "            next_word_input = np.zeros(len(initial_word))\n",
    "            next_word_input[pred] = 1\n",
    "            initial_word = next_word_input\n",
    "        else:\n",
    "            initial_word = pred\n",
    "\n",
    "        generated_word_idx.append(pred)\n",
    "    print (decode_captions(np.array(generated_word_idx), data['idx_to_word']))\n",
    "    return generated_word_idx"
   ]
  },
  {
   "cell_type": "code",
   "execution_count": 13,
   "metadata": {
    "collapsed": false
   },
   "outputs": [],
   "source": [
    "def predict_output(session, caption, image_feature):\n",
    "    pred = session.run(prediction,feed_dict =\n",
    "                       {sy_caption_input: caption,\n",
    "                        sy_image_feat_input: image_feature\n",
    "                       })\n",
    "    return pred\n",
    "    "
   ]
  },
  {
   "cell_type": "markdown",
   "metadata": {},
   "source": [
    "### Training"
   ]
  },
  {
   "cell_type": "code",
   "execution_count": 14,
   "metadata": {
    "collapsed": true
   },
   "outputs": [],
   "source": [
    "sess = tf.InteractiveSession()\n",
    "tf.global_variables_initializer().run()"
   ]
  },
  {
   "cell_type": "code",
   "execution_count": 15,
   "metadata": {
    "collapsed": false
   },
   "outputs": [
    {
     "name": "stdout",
     "output_type": "stream",
     "text": [
      "iter 0, cross-entropy: 75.88095092773438, accuracy: 0.0027372261974960566\n",
      "iter 1, cross-entropy: 76.15643310546875, accuracy: 0.027051398530602455\n",
      "iter 2, cross-entropy: 77.5666275024414, accuracy: 0.09649122506380081\n",
      "iter 3, cross-entropy: 77.06011962890625, accuracy: 0.10218340903520584\n",
      "iter 4, cross-entropy: 72.95716094970703, accuracy: 0.10766423493623734\n",
      "iter 5, cross-entropy: 71.39147186279297, accuracy: 0.12580348551273346\n",
      "iter 6, cross-entropy: 71.76526641845703, accuracy: 0.12309074401855469\n",
      "iter 7, cross-entropy: 70.56978607177734, accuracy: 0.12153708934783936\n",
      "iter 8, cross-entropy: 69.40386962890625, accuracy: 0.12643678486347198\n",
      "iter 9, cross-entropy: 66.95930480957031, accuracy: 0.13351254165172577\n",
      "iter 10, cross-entropy: 63.638423919677734, accuracy: 0.13711151480674744\n",
      "iter 11, cross-entropy: 64.82048034667969, accuracy: 0.13120567798614502\n",
      "iter 12, cross-entropy: 62.103851318359375, accuracy: 0.14631956815719604\n",
      "iter 13, cross-entropy: 62.168399810791016, accuracy: 0.13884006440639496\n",
      "iter 14, cross-entropy: 61.0871696472168, accuracy: 0.14821428060531616\n",
      "iter 15, cross-entropy: 60.675987243652344, accuracy: 0.15794065594673157\n",
      "iter 16, cross-entropy: 60.013877868652344, accuracy: 0.1576182097196579\n",
      "iter 17, cross-entropy: 58.446327209472656, accuracy: 0.1579861044883728\n",
      "iter 18, cross-entropy: 58.7242546081543, accuracy: 0.1399468630552292\n",
      "iter 19, cross-entropy: 57.67619705200195, accuracy: 0.1600719392299652\n",
      "iter 20, cross-entropy: 57.55201721191406, accuracy: 0.15535713732242584\n",
      "iter 21, cross-entropy: 56.94709396362305, accuracy: 0.15638963878154755\n",
      "iter 22, cross-entropy: 56.8354606628418, accuracy: 0.14762741327285767\n",
      "iter 23, cross-entropy: 54.21650314331055, accuracy: 0.1981566846370697\n",
      "iter 24, cross-entropy: 55.934391021728516, accuracy: 0.23381294310092926\n",
      "iter 25, cross-entropy: 55.41812515258789, accuracy: 0.22987477481365204\n",
      "iter 26, cross-entropy: 55.75149917602539, accuracy: 0.20747996866703033\n",
      "iter 27, cross-entropy: 53.91460037231445, accuracy: 0.19360730051994324\n",
      "iter 28, cross-entropy: 54.505035400390625, accuracy: 0.20646320283412933\n",
      "iter 29, cross-entropy: 55.704490661621094, accuracy: 0.1984127014875412\n",
      "iter 30, cross-entropy: 55.323875427246094, accuracy: 0.18834081292152405\n",
      "iter 31, cross-entropy: 52.6057014465332, accuracy: 0.22171112895011902\n",
      "iter 32, cross-entropy: 54.43345642089844, accuracy: 0.19910714030265808\n",
      "iter 33, cross-entropy: 54.52995300292969, accuracy: 0.22172752022743225\n",
      "iter 34, cross-entropy: 52.716068267822266, accuracy: 0.22979110479354858\n",
      "iter 35, cross-entropy: 51.1901741027832, accuracy: 0.2377428263425827\n",
      "iter 36, cross-entropy: 53.44142150878906, accuracy: 0.22869955003261566\n",
      "iter 37, cross-entropy: 53.51508712768555, accuracy: 0.23366159200668335\n",
      "iter 38, cross-entropy: 52.1531867980957, accuracy: 0.27133873105049133\n",
      "iter 39, cross-entropy: 52.520606994628906, accuracy: 0.22924187779426575\n",
      "iter 40, cross-entropy: 51.008602142333984, accuracy: 0.24055299162864685\n",
      "iter 41, cross-entropy: 50.81321334838867, accuracy: 0.24500907957553864\n",
      "iter 42, cross-entropy: 53.744991302490234, accuracy: 0.23290042579174042\n",
      "iter 43, cross-entropy: 51.00801086425781, accuracy: 0.23529411852359772\n",
      "iter 44, cross-entropy: 50.91634750366211, accuracy: 0.23539982736110687\n",
      "iter 45, cross-entropy: 52.709983825683594, accuracy: 0.22574955224990845\n",
      "iter 46, cross-entropy: 53.179405212402344, accuracy: 0.21631205081939697\n",
      "iter 47, cross-entropy: 51.989540100097656, accuracy: 0.23801065981388092\n",
      "iter 48, cross-entropy: 50.7495002746582, accuracy: 0.27120140194892883\n",
      "iter 49, cross-entropy: 51.053531646728516, accuracy: 0.24450308084487915\n",
      "iter 50, cross-entropy: 51.020111083984375, accuracy: 0.23097582161426544\n",
      "iter 51, cross-entropy: 49.346561431884766, accuracy: 0.2359963208436966\n",
      "iter 52, cross-entropy: 51.566444396972656, accuracy: 0.22922134399414062\n",
      "iter 53, cross-entropy: 50.00407791137695, accuracy: 0.27019748091697693\n",
      "iter 54, cross-entropy: 49.581600189208984, accuracy: 0.2601260244846344\n",
      "iter 55, cross-entropy: 49.784912109375, accuracy: 0.2471008002758026\n",
      "iter 56, cross-entropy: 51.472373962402344, accuracy: 0.2495575249195099\n",
      "iter 57, cross-entropy: 50.82853698730469, accuracy: 0.2558542788028717\n",
      "iter 58, cross-entropy: 49.04087829589844, accuracy: 0.25364962220191956\n",
      "iter 59, cross-entropy: 49.53532409667969, accuracy: 0.25361010432243347\n",
      "iter 60, cross-entropy: 48.03744125366211, accuracy: 0.27925533056259155\n",
      "iter 61, cross-entropy: 47.4829216003418, accuracy: 0.2664233446121216\n",
      "iter 62, cross-entropy: 49.44319152832031, accuracy: 0.25353357195854187\n",
      "iter 63, cross-entropy: 49.265594482421875, accuracy: 0.25449639558792114\n",
      "iter 64, cross-entropy: 47.64677810668945, accuracy: 0.2854578197002411\n",
      "iter 65, cross-entropy: 47.296417236328125, accuracy: 0.27557602524757385\n",
      "iter 66, cross-entropy: 46.9059944152832, accuracy: 0.26757991313934326\n",
      "iter 67, cross-entropy: 47.55991744995117, accuracy: 0.28875109553337097\n",
      "iter 68, cross-entropy: 46.96123123168945, accuracy: 0.29741764068603516\n",
      "iter 69, cross-entropy: 48.388832092285156, accuracy: 0.2695346772670746\n",
      "iter 70, cross-entropy: 48.75439453125, accuracy: 0.2806563079357147\n",
      "iter 71, cross-entropy: 46.766605377197266, accuracy: 0.29918405413627625\n",
      "iter 72, cross-entropy: 45.642696380615234, accuracy: 0.3039851784706116\n",
      "iter 73, cross-entropy: 48.97722625732422, accuracy: 0.2800000011920929\n",
      "iter 74, cross-entropy: 47.720069885253906, accuracy: 0.27648115158081055\n",
      "iter 75, cross-entropy: 47.391143798828125, accuracy: 0.27978816628456116\n",
      "iter 76, cross-entropy: 47.32240295410156, accuracy: 0.3030303120613098\n",
      "iter 77, cross-entropy: 44.7224235534668, accuracy: 0.3127875030040741\n",
      "iter 78, cross-entropy: 45.499366760253906, accuracy: 0.2937956154346466\n",
      "iter 79, cross-entropy: 46.160606384277344, accuracy: 0.29364368319511414\n",
      "iter 80, cross-entropy: 44.70518112182617, accuracy: 0.30257320404052734\n",
      "iter 81, cross-entropy: 45.31413269042969, accuracy: 0.3072776198387146\n",
      "iter 82, cross-entropy: 46.20954513549805, accuracy: 0.30158731341362\n",
      "iter 83, cross-entropy: 42.818397521972656, accuracy: 0.3217960596084595\n",
      "iter 84, cross-entropy: 45.96112823486328, accuracy: 0.3055555522441864\n",
      "iter 85, cross-entropy: 46.13412094116211, accuracy: 0.30195382237434387\n",
      "iter 86, cross-entropy: 44.854408264160156, accuracy: 0.2989228069782257\n",
      "iter 87, cross-entropy: 45.387176513671875, accuracy: 0.29777777194976807\n",
      "iter 88, cross-entropy: 46.28886795043945, accuracy: 0.27882036566734314\n",
      "iter 89, cross-entropy: 44.08534622192383, accuracy: 0.29465094208717346\n",
      "iter 90, cross-entropy: 44.49003601074219, accuracy: 0.3029756546020508\n",
      "iter 91, cross-entropy: 44.128746032714844, accuracy: 0.3096539080142975\n",
      "iter 92, cross-entropy: 43.91990661621094, accuracy: 0.3194192349910736\n",
      "iter 93, cross-entropy: 44.624359130859375, accuracy: 0.3076923191547394\n",
      "iter 94, cross-entropy: 42.798553466796875, accuracy: 0.33154600858688354\n",
      "iter 95, cross-entropy: 45.79279327392578, accuracy: 0.29177719354629517\n",
      "iter 96, cross-entropy: 45.205421447753906, accuracy: 0.3021778464317322\n",
      "iter 97, cross-entropy: 45.35210037231445, accuracy: 0.30035650730133057\n",
      "iter 98, cross-entropy: 43.20708084106445, accuracy: 0.3363068699836731\n",
      "iter 99, cross-entropy: 44.006866455078125, accuracy: 0.3096539080142975\n"
     ]
    }
   ],
   "source": [
    "iter_num = 100\n",
    "embeddings = []\n",
    "for i in range(iter_num):\n",
    "    mini_batch, features, url = sample_coco_minibatch(data,  batch_size=100, split='train')\n",
    "    train_captions, target_captions, target_mask = get_train_target_caption(mini_batch, NULL_ID)\n",
    "    _, c, a = sess.run([update_op, cross_entropy, accuracy], feed_dict=\n",
    "                       {sy_image_feat_input: features,\n",
    "                        sy_caption_input: train_captions, \n",
    "                        sy_caption_target: target_captions,\n",
    "                        sy_target_mask: target_mask\n",
    "                       })\n",
    "    print(\"iter {}, cross-entropy: {}, accuracy: {}\".format(i, c, a))"
   ]
  },
  {
   "cell_type": "markdown",
   "metadata": {
    "collapsed": true
   },
   "source": [
    "#### Initializing affine transform weights around zero\n",
    "Cross entropy reached 46 within 100 iterations when conditioning on image as hidden state (cell state zero).\n",
    "\n",
    "Cross entroy reached 23 and accuracy 0.49, by 2000 iterations with the same set up.\n",
    "\n",
    "\n",
    "Cross entropy reached 50 within 100 iterations without conditioning on image.\n",
    "\n",
    "Model mostly learn to start with a, and END\n",
    "\n",
    "\n",
    "#### Initialize affine transform with random weights at mean 0, std = 1.0\n",
    "Cross entropy started off really high 300, reaching 156, but words are more diversed\n",
    "\n",
    "\n",
    "#### Initialize words with glove embedding, conditioning on image hidden state\n",
    "Cross entropy reached 43 within 100 iterations when conditioning on image as hidden state (cell state zero).\n"
   ]
  },
  {
   "cell_type": "code",
   "execution_count": 16,
   "metadata": {
    "collapsed": false
   },
   "outputs": [
    {
     "data": {
      "text/plain": [
       "'a man of a in <UNK> <UNK> in a <UNK> <END>'"
      ]
     },
     "execution_count": 16,
     "metadata": {},
     "output_type": "execute_result"
    }
   ],
   "source": [
    "decode_captions(predict_output(sess, [train_captions[40]], [features[40]])[0], data['idx_to_word'])"
   ]
  },
  {
   "cell_type": "code",
   "execution_count": 17,
   "metadata": {
    "collapsed": false
   },
   "outputs": [
    {
     "data": {
      "text/plain": [
       "'two decorated horses are <UNK> to a <UNK> <END>'"
      ]
     },
     "execution_count": 17,
     "metadata": {},
     "output_type": "execute_result"
    }
   ],
   "source": [
    "decode_captions(target_captions[9],data['idx_to_word'])"
   ]
  },
  {
   "cell_type": "code",
   "execution_count": null,
   "metadata": {
    "collapsed": true
   },
   "outputs": [],
   "source": []
  }
 ],
 "metadata": {
  "anaconda-cloud": {},
  "kernelspec": {
   "display_name": "Python [conda env:deeprl]",
   "language": "python",
   "name": "conda-env-deeprl-py"
  },
  "language_info": {
   "codemirror_mode": {
    "name": "ipython",
    "version": 3
   },
   "file_extension": ".py",
   "mimetype": "text/x-python",
   "name": "python",
   "nbconvert_exporter": "python",
   "pygments_lexer": "ipython3",
   "version": "3.5.4"
  }
 },
 "nbformat": 4,
 "nbformat_minor": 1
}
